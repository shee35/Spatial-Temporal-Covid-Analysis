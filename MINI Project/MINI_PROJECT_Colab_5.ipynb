{
  "nbformat": 4,
  "nbformat_minor": 0,
  "metadata": {
    "accelerator": "GPU",
    "colab": {
      "name": "MINI_PROJECT_Colab 5.ipynb",
      "provenance": [],
      "collapsed_sections": []
    },
    "kernelspec": {
      "display_name": "Python 3",
      "language": "python",
      "name": "python3"
    },
    "language_info": {
      "codemirror_mode": {
        "name": "ipython",
        "version": 3
      },
      "file_extension": ".py",
      "mimetype": "text/x-python",
      "name": "python",
      "nbconvert_exporter": "python",
      "pygments_lexer": "ipython3",
      "version": "3.8.8"
    },
    "toc": {
      "base_numbering": 1,
      "nav_menu": {},
      "number_sections": true,
      "sideBar": true,
      "skip_h1_title": false,
      "title_cell": "Table of Contents",
      "title_sidebar": "Contents",
      "toc_cell": true,
      "toc_position": {
        "height": "631.333px",
        "left": "225px",
        "top": "144px",
        "width": "300.792px"
      },
      "toc_section_display": true,
      "toc_window_display": true
    }
  },
  "cells": [
    {
      "cell_type": "markdown",
      "metadata": {
        "id": "BmZvfhNuOgVO"
      },
      "source": [
        "## Import libraries"
      ]
    },
    {
      "cell_type": "code",
      "metadata": {
        "id": "LtwIoQPHOgVP"
      },
      "source": [
        "import scipy\n",
        "import numpy\n",
        "import tensorflow as tf\n",
        "from tensorflow import keras\n",
        "from tensorflow.keras import Sequential, layers, callbacks\n",
        "from tensorflow.keras.layers import Dense, LSTM, Dropout, GRU, Bidirectional\n",
        "import pandas as pd\n",
        "import numpy as np\n",
        "\n",
        "from sklearn.preprocessing import MinMaxScaler\n",
        "from sklearn.model_selection import train_test_split\n",
        "\n",
        "from matplotlib import pyplot as plt\n",
        "from IPython.core.pylabtools import figsize\n",
        "\n",
        "from pandas.plotting import register_matplotlib_converters\n",
        "register_matplotlib_converters()\n",
        "import seaborn as sns"
      ],
      "execution_count": null,
      "outputs": []
    },
    {
      "cell_type": "code",
      "metadata": {
        "id": "sjdOpewnOoG6"
      },
      "source": [
        "# Set random seed for reproducibility\n",
        "tf.random.set_seed(1234)"
      ],
      "execution_count": null,
      "outputs": []
    },
    {
      "cell_type": "markdown",
      "metadata": {
        "id": "3NgpKa2IOgVT"
      },
      "source": [
        "# Read and explore data \n",
        "While I import the data from a CSV file, I make sure the **Date** column has the correct *DateTime* format by **parse_dates = ['Date']**.\n",
        "\n",
        "When I work with date and time, it becomes much easier if I set **Date** column as the dataframe index."
      ]
    },
    {
      "cell_type": "code",
      "metadata": {
        "id": "8MSaXZv2OgVU"
      },
      "source": [
        "file = 'https://raw.githubusercontent.com/shee35/ML-Dataset/main/osmanabad_Sp_Tp_data.csv'\n",
        "raw_data = pd.read_csv(file, parse_dates = True)\n",
        "\n",
        "df = raw_data.copy()"
      ],
      "execution_count": null,
      "outputs": []
    },
    {
      "cell_type": "code",
      "metadata": {
        "colab": {
          "base_uri": "https://localhost:8080/",
          "height": 203
        },
        "id": "MwGCM4W0vkM8",
        "outputId": "cc2c3168-b04c-4a77-fe54-3f558a84478f"
      },
      "source": [
        "# Explore the first five rows\n",
        "df.head()"
      ],
      "execution_count": null,
      "outputs": [
        {
          "output_type": "execute_result",
          "data": {
            "text/html": [
              "<div>\n",
              "<style scoped>\n",
              "    .dataframe tbody tr th:only-of-type {\n",
              "        vertical-align: middle;\n",
              "    }\n",
              "\n",
              "    .dataframe tbody tr th {\n",
              "        vertical-align: top;\n",
              "    }\n",
              "\n",
              "    .dataframe thead th {\n",
              "        text-align: right;\n",
              "    }\n",
              "</style>\n",
              "<table border=\"1\" class=\"dataframe\">\n",
              "  <thead>\n",
              "    <tr style=\"text-align: right;\">\n",
              "      <th></th>\n",
              "      <th>sno</th>\n",
              "      <th>Dates</th>\n",
              "      <th>Current</th>\n",
              "      <th>Temporal</th>\n",
              "      <th>Spatial</th>\n",
              "    </tr>\n",
              "  </thead>\n",
              "  <tbody>\n",
              "    <tr>\n",
              "      <th>0</th>\n",
              "      <td>1</td>\n",
              "      <td>4/26/2020</td>\n",
              "      <td>3</td>\n",
              "      <td>3.0</td>\n",
              "      <td>74.360000</td>\n",
              "    </tr>\n",
              "    <tr>\n",
              "      <th>1</th>\n",
              "      <td>2</td>\n",
              "      <td>4/27/2020</td>\n",
              "      <td>3</td>\n",
              "      <td>3.0</td>\n",
              "      <td>76.692308</td>\n",
              "    </tr>\n",
              "    <tr>\n",
              "      <th>2</th>\n",
              "      <td>3</td>\n",
              "      <td>4/28/2020</td>\n",
              "      <td>3</td>\n",
              "      <td>3.0</td>\n",
              "      <td>86.000000</td>\n",
              "    </tr>\n",
              "    <tr>\n",
              "      <th>3</th>\n",
              "      <td>4</td>\n",
              "      <td>4/29/2020</td>\n",
              "      <td>3</td>\n",
              "      <td>3.0</td>\n",
              "      <td>88.423077</td>\n",
              "    </tr>\n",
              "    <tr>\n",
              "      <th>4</th>\n",
              "      <td>5</td>\n",
              "      <td>4/30/2020</td>\n",
              "      <td>3</td>\n",
              "      <td>3.0</td>\n",
              "      <td>92.346154</td>\n",
              "    </tr>\n",
              "  </tbody>\n",
              "</table>\n",
              "</div>"
            ],
            "text/plain": [
              "   sno      Dates  Current  Temporal    Spatial\n",
              "0    1  4/26/2020        3       3.0  74.360000\n",
              "1    2  4/27/2020        3       3.0  76.692308\n",
              "2    3  4/28/2020        3       3.0  86.000000\n",
              "3    4  4/29/2020        3       3.0  88.423077\n",
              "4    5  4/30/2020        3       3.0  92.346154"
            ]
          },
          "metadata": {},
          "execution_count": 27
        }
      ]
    },
    {
      "cell_type": "code",
      "metadata": {
        "colab": {
          "base_uri": "https://localhost:8080/",
          "height": 295
        },
        "id": "SMctZFy0vbXv",
        "outputId": "0777777a-b119-4c8b-8482-f282695a6836"
      },
      "source": [
        "# Data description\n",
        "df.describe()"
      ],
      "execution_count": null,
      "outputs": [
        {
          "output_type": "execute_result",
          "data": {
            "text/html": [
              "<div>\n",
              "<style scoped>\n",
              "    .dataframe tbody tr th:only-of-type {\n",
              "        vertical-align: middle;\n",
              "    }\n",
              "\n",
              "    .dataframe tbody tr th {\n",
              "        vertical-align: top;\n",
              "    }\n",
              "\n",
              "    .dataframe thead th {\n",
              "        text-align: right;\n",
              "    }\n",
              "</style>\n",
              "<table border=\"1\" class=\"dataframe\">\n",
              "  <thead>\n",
              "    <tr style=\"text-align: right;\">\n",
              "      <th></th>\n",
              "      <th>sno</th>\n",
              "      <th>Current</th>\n",
              "      <th>Temporal</th>\n",
              "      <th>Spatial</th>\n",
              "    </tr>\n",
              "  </thead>\n",
              "  <tbody>\n",
              "    <tr>\n",
              "      <th>count</th>\n",
              "      <td>521.000000</td>\n",
              "      <td>521.000000</td>\n",
              "      <td>521.000000</td>\n",
              "      <td>521.000000</td>\n",
              "    </tr>\n",
              "    <tr>\n",
              "      <th>mean</th>\n",
              "      <td>261.000000</td>\n",
              "      <td>25969.850288</td>\n",
              "      <td>25713.121689</td>\n",
              "      <td>71046.073111</td>\n",
              "    </tr>\n",
              "    <tr>\n",
              "      <th>std</th>\n",
              "      <td>150.544013</td>\n",
              "      <td>23847.509009</td>\n",
              "      <td>23763.076476</td>\n",
              "      <td>62165.348930</td>\n",
              "    </tr>\n",
              "    <tr>\n",
              "      <th>min</th>\n",
              "      <td>1.000000</td>\n",
              "      <td>3.000000</td>\n",
              "      <td>3.000000</td>\n",
              "      <td>74.360000</td>\n",
              "    </tr>\n",
              "    <tr>\n",
              "      <th>25%</th>\n",
              "      <td>131.000000</td>\n",
              "      <td>6643.000000</td>\n",
              "      <td>6174.600000</td>\n",
              "      <td>18698.807690</td>\n",
              "    </tr>\n",
              "    <tr>\n",
              "      <th>50%</th>\n",
              "      <td>261.000000</td>\n",
              "      <td>17131.000000</td>\n",
              "      <td>17073.200000</td>\n",
              "      <td>47941.615380</td>\n",
              "    </tr>\n",
              "    <tr>\n",
              "      <th>75%</th>\n",
              "      <td>391.000000</td>\n",
              "      <td>54015.000000</td>\n",
              "      <td>51808.200000</td>\n",
              "      <td>146762.576900</td>\n",
              "    </tr>\n",
              "    <tr>\n",
              "      <th>max</th>\n",
              "      <td>521.000000</td>\n",
              "      <td>66915.000000</td>\n",
              "      <td>66849.000000</td>\n",
              "      <td>174842.730800</td>\n",
              "    </tr>\n",
              "  </tbody>\n",
              "</table>\n",
              "</div>"
            ],
            "text/plain": [
              "              sno       Current      Temporal        Spatial\n",
              "count  521.000000    521.000000    521.000000     521.000000\n",
              "mean   261.000000  25969.850288  25713.121689   71046.073111\n",
              "std    150.544013  23847.509009  23763.076476   62165.348930\n",
              "min      1.000000      3.000000      3.000000      74.360000\n",
              "25%    131.000000   6643.000000   6174.600000   18698.807690\n",
              "50%    261.000000  17131.000000  17073.200000   47941.615380\n",
              "75%    391.000000  54015.000000  51808.200000  146762.576900\n",
              "max    521.000000  66915.000000  66849.000000  174842.730800"
            ]
          },
          "metadata": {},
          "execution_count": 28
        }
      ]
    },
    {
      "cell_type": "code",
      "metadata": {
        "colab": {
          "base_uri": "https://localhost:8080/"
        },
        "id": "cxC35_cGvjeg",
        "outputId": "4f764780-0c8b-4684-9ac9-7514a20407a8"
      },
      "source": [
        "# Find number of rows and columns\n",
        "df = df.drop(columns='Dates')\n",
        "df.shape"
      ],
      "execution_count": null,
      "outputs": [
        {
          "output_type": "execute_result",
          "data": {
            "text/plain": [
              "(521, 4)"
            ]
          },
          "metadata": {},
          "execution_count": 29
        }
      ]
    },
    {
      "cell_type": "markdown",
      "metadata": {
        "id": "RwTrwzhuJmBU"
      },
      "source": [
        "**Plot Time-Series**\n"
      ]
    },
    {
      "cell_type": "code",
      "metadata": {
        "colab": {
          "base_uri": "https://localhost:8080/",
          "height": 394
        },
        "id": "WyBRN0IeJcEg",
        "outputId": "3b4325d6-6884-45b2-d5d8-97a32218cda8"
      },
      "source": [
        "# Define a function to draw time_series plot\n",
        "def timeseries (x_axis, y_axis, x_label, y_label):\n",
        "    plt.figure(figsize = (10, 6))\n",
        "    plt.plot(x_axis, y_axis, color ='black')\n",
        "    plt.xlabel(x_label, {'fontsize': 12})\n",
        "    plt.ylabel(y_label, {'fontsize': 12})\n",
        "\n",
        "timeseries(df.index, df['Current'],'Time(day)','cases')\n"
      ],
      "execution_count": null,
      "outputs": [
        {
          "output_type": "display_data",
          "data": {
            "image/png": "[encoded data removed]",
            "text/plain": [
              "<Figure size 720x432 with 1 Axes>"
            ]
          },
          "metadata": {
            "needs_background": "light"
          }
        }
      ]
    },
    {
      "cell_type": "markdown",
      "metadata": {
        "id": "TqPsvKnPOgVl"
      },
      "source": [
        "## Split the dataset into train and test data\n",
        "In this project, I set the first 80% of data as train data and the remaining 20% as test data. I train the model with train data and validate its performance with test data."
      ]
    },
    {
      "cell_type": "code",
      "metadata": {
        "colab": {
          "base_uri": "https://localhost:8080/",
          "height": 425
        },
        "id": "eK-Ffr8IOgVn",
        "outputId": "af3b3a6c-ff79-445f-b43e-1299a1b2568d"
      },
      "source": [
        "train_size = int(len(df)*0.8)\n",
        "train_dataset, test_dataset = df.iloc[:train_size], df.iloc[train_size:]\n",
        "\n",
        "# Plot train and test data\n",
        "plt.figure(figsize = (10, 6))\n",
        "plt.plot(train_dataset.Current)\n",
        "plt.plot(test_dataset.Current)\n",
        "plt.xlabel('No of days')\n",
        "plt.ylabel('Covid cases')\n",
        "plt.legend(['Train set', 'Test set'], loc='upper right')\n",
        "#plt.savefig('C:/Users/nious/Documents/Medium/LSTM&GRU/2.jpg', format='jpg', dpi=1000)\n",
        "\n",
        "print('Dimension of train data: ',train_dataset.shape)\n",
        "print('Dimension of test data: ', test_dataset.shape)\n"
      ],
      "execution_count": null,
      "outputs": [
        {
          "output_type": "stream",
          "name": "stdout",
          "text": [
            "Dimension of train data:  (416, 4)\n",
            "Dimension of test data:  (105, 4)\n"
          ]
        },
        {
          "output_type": "display_data",
          "data": {
            "image/png": "[encoded data removed]",
            "text/plain": [
              "<Figure size 720x432 with 1 Axes>"
            ]
          },
          "metadata": {
            "needs_background": "light"
          }
        }
      ]
    },
    {
      "cell_type": "markdown",
      "metadata": {
        "id": "Gb-vmYP_O9yv"
      },
      "source": [
        "## Split the Data"
      ]
    },
    {
      "cell_type": "code",
      "metadata": {
        "id": "11UdstYlaKkl"
      },
      "source": [
        "data=df"
      ],
      "execution_count": null,
      "outputs": []
    },
    {
      "cell_type": "code",
      "metadata": {
        "id": "6gg-TZUqO-MJ"
      },
      "source": [
        "# Split train data to X and y\n",
        "X_train = data.Spatial.values.reshape(-1,1)\n",
        "y_train = data.Temporal.values.reshape(-1,1)\n",
        "\n",
        "# Split test data to X and y\n",
        "X_test =data.Spatial.values.reshape(-1,1)\n",
        "y_test = data.Temporal.values.reshape(-1,1)"
      ],
      "execution_count": null,
      "outputs": []
    },
    {
      "cell_type": "markdown",
      "metadata": {
        "id": "CfDCt6WSOgVx"
      },
      "source": [
        "## Data transformation \n",
        "A good rule of thumb is that normalized data lead to better performance in Neural Networks. In this project, I use **MinMaxScaler** from sklearn. \n",
        "\n",
        "I define different scalers for input and output as they have different shapes. This is especially important for using inverse transform function.\n",
        "\n",
        "* X_train.shape:  (1192, 3)\n",
        "* y_train.shape:  (1192, 1)\n",
        "* X_test.shape:  (299, 3)\n",
        "* y_test.shape:  (299, 1)\n",
        "\n",
        "It is important to ensure that the scale of the output variable is in the range 0-1  to match the scale of the activation function (tanh) on the output layer of LSTM, GRU and BiLSTM. Also, input variables are better to be small values, probably in the range of 0-1.\n",
        "\n",
        "What are the steps?\n",
        "- Fit the scaler using available training data (It means that the minimum and maximum observable values are estimated using training data.) \n",
        "\n",
        "- Apply the scaler to training data \n",
        "\n",
        "- Apply the scaler to test data\n",
        "\n",
        "It is important to note that we should scale the unseen data with the scaler fitted on the training data."
      ]
    },
    {
      "cell_type": "code",
      "metadata": {
        "id": "eU1WeID6kIF0"
      },
      "source": [
        "# Transform X_train, y_train, X_test and y_test\n",
        "\n",
        "# Different scaler for input and output\n",
        "scaler_x = MinMaxScaler(feature_range = (0,1))\n",
        "scaler_y = MinMaxScaler(feature_range = (0,1))\n",
        "\n",
        "# Fit the scaler using available training data\n",
        "input_scaler = scaler_x.fit(X_train)\n",
        "output_scaler = scaler_y.fit(y_train)\n",
        "\n",
        "# Apply the scaler to training data\n",
        "train_y_norm = output_scaler.transform(y_train)\n",
        "train_x_norm = input_scaler.transform(X_train)\n",
        "\n",
        "# Apply the scaler to test data\n",
        "test_y_norm = output_scaler.transform(y_test)\n",
        "test_x_norm = input_scaler.transform(X_test)"
      ],
      "execution_count": null,
      "outputs": []
    },
    {
      "cell_type": "markdown",
      "metadata": {
        "id": "ZlOMHf0oOgV6"
      },
      "source": [
        "## Create a 3D Input Dataset\n",
        "LSTM, GRU and BiLSTM take a 3D input (num_samples, num_timesteps, num_features). So, I create a helper function, *create_dataset*, to reshape input.\n",
        "\n",
        "In this project, I define time_steps = 30. It means that the model makes predictions based on the last 30-day data (In the first iteration of the for-loop, the input carries the first 30 days and the output is UWC on the 30th day)."
      ]
    },
    {
      "cell_type": "code",
      "metadata": {
        "colab": {
          "base_uri": "https://localhost:8080/"
        },
        "id": "I8_n1X4WOgV7",
        "outputId": "7fb3dcab-8bb4-403e-e64a-7e40b6d7009d"
      },
      "source": [
        "def create_dataset (X, y, time_steps = 1):\n",
        "    Xs, ys = [], []\n",
        "    \n",
        "    for i in range(len(X)-time_steps):\n",
        "        v = X[i:i+time_steps, :]\n",
        "        Xs.append(v)\n",
        "        ys.append(y[i+time_steps])\n",
        "        \n",
        "    return np.array(Xs), np.array(ys)\n",
        "\n",
        "\n",
        "TIME_STEPS = 30\n",
        "\n",
        "X_test, y_test = create_dataset(test_x_norm, test_y_norm, TIME_STEPS)\n",
        "X_train, y_train = create_dataset(train_x_norm, train_y_norm, TIME_STEPS)\n",
        "print('X_train.shape: ', X_test.shape)\n",
        "print('y_train.shape: ', y_train.shape)\n",
        "print('X_test.shape: ', X_test.shape) \n",
        "print('y_test.shape: ', y_train.shape)"
      ],
      "execution_count": null,
      "outputs": [
        {
          "output_type": "stream",
          "name": "stdout",
          "text": [
            "X_train.shape:  (491, 30, 1)\n",
            "y_train.shape:  (491, 1)\n",
            "X_test.shape:  (491, 30, 1)\n",
            "y_test.shape:  (491, 1)\n"
          ]
        }
      ]
    },
    {
      "cell_type": "markdown",
      "metadata": {
        "id": "HlFvHH_vseQU"
      },
      "source": [
        "# Create BiLSTM, LSTM and GRU model\n",
        "The first function, create_model_bilstm, creates a BDLSM and gets the number of units (neurons) in hidden layers. The second function, *create_model*, gets two inputs; number of units in hidden layers and model name (LSTM or GRU).\n",
        "\n",
        "For the sake of simplicity, BiLSTM, LSTM and GRU have 2 hidden layers including 64 neurons and 1 neuron in the output layer.\n",
        "\n",
        "To make the LSTM and GRU networks robust to changes, the Dropout function is used. Dropout(0.2)  randomly drops 20% of units from the network."
      ]
    },
    {
      "cell_type": "code",
      "metadata": {
        "id": "L2XCPc_rOgXH"
      },
      "source": [
        "# Create BiLSTM model\n",
        "def create_model_bilstm(units):\n",
        "    model = Sequential()\n",
        "    # First layer of BiLSTM\n",
        "    model.add(Bidirectional(LSTM(units = units, return_sequences=True), \n",
        "                            input_shape=(X_train.shape[1], X_train.shape[2])))\n",
        "    # Second layer of BiLSTM\n",
        "    model.add(Bidirectional(LSTM(units = units)))\n",
        "    model.add(Dense(1))\n",
        "    #Compile model\n",
        "    model.compile(loss='mse', optimizer='adam')\n",
        "    return model\n",
        "\n",
        "\n",
        "# Create LSTM or GRU model\n",
        "def create_model(units, m):\n",
        "    model = Sequential()\n",
        "    # First layer of LSTM\n",
        "    model.add(m (units = units, return_sequences = True, \n",
        "                 input_shape = [X_train.shape[1], X_train.shape[2]]))\n",
        "    model.add(Dropout(0.2)) \n",
        "    # Second layer of LSTM\n",
        "    model.add(m (units = units))                 \n",
        "    model.add(Dropout(0.2))\n",
        "    model.add(Dense(units = 1)) \n",
        "    #Compile model\n",
        "    model.compile(loss='mse', optimizer='adam')\n",
        "    return model\n",
        "\n",
        "\n",
        "# BiLSTM\n",
        "model_bilstm = create_model_bilstm(64)\n",
        "\n",
        "# GRU and LSTM \n",
        "model_gru = create_model(64, GRU)\n",
        "model_lstm = create_model(64, LSTM)"
      ],
      "execution_count": null,
      "outputs": []
    },
    {
      "cell_type": "markdown",
      "metadata": {
        "id": "9w3rJjciiXhA"
      },
      "source": [
        "## Fit the models\n",
        "I train the model with train data for 100 epoch and batch_size = 32. I get the model to use 20% of train data as validation data. It is important to set shuffle = False because the order of the data matters in our project.\n",
        "\n",
        "To avoid overfitting, I set an early stop to stop training when \"val_loss\" has not improved after 10 epochs (patience = 10).\n"
      ]
    },
    {
      "cell_type": "code",
      "metadata": {
        "colab": {
          "base_uri": "https://localhost:8080/"
        },
        "id": "JTTEpVWPOgXU",
        "scrolled": false,
        "outputId": "3df3a311-942b-4f03-d9c8-e59a27d24ab4"
      },
      "source": [
        "# Fit BiLSTM, LSTM and GRU\n",
        "def fit_model(model):\n",
        "    early_stop = keras.callbacks.EarlyStopping(monitor = 'val_loss',\n",
        "                                               patience = 10)\n",
        "\n",
        "    # shuffle = False because the order of the data matters\n",
        "    history = model.fit(X_train, y_train, epochs = 100, validation_split = 0.2,\n",
        "                    batch_size = 32, shuffle = False, callbacks = [early_stop])\n",
        "    return history\n",
        "\n",
        "history_bilstm = fit_model(model_bilstm)\n",
        "history_lstm = fit_model(model_lstm)\n",
        "history_gru = fit_model(model_gru)"
      ],
      "execution_count": null,
      "outputs": [
        {
          "output_type": "stream",
          "name": "stdout",
          "text": [
            "Epoch 1/100\n",
            "13/13 [==============================] - 9s 189ms/step - loss: 0.0082 - val_loss: 0.0026\n",
            "Epoch 2/100\n",
            "13/13 [==============================] - 0s 38ms/step - loss: 0.0122 - val_loss: 1.1528e-04\n",
            "Epoch 3/100\n",
            "13/13 [==============================] - 0s 38ms/step - loss: 0.0106 - val_loss: 2.2756e-04\n",
            "Epoch 4/100\n",
            "13/13 [==============================] - 0s 38ms/step - loss: 0.0390 - val_loss: 0.1257\n",
            "Epoch 5/100\n",
            "13/13 [==============================] - 0s 38ms/step - loss: 0.0076 - val_loss: 0.0018\n",
            "Epoch 6/100\n",
            "13/13 [==============================] - 0s 39ms/step - loss: 0.0023 - val_loss: 9.9231e-04\n",
            "Epoch 7/100\n",
            "13/13 [==============================] - 0s 38ms/step - loss: 0.0051 - val_loss: 6.4060e-05\n",
            "Epoch 8/100\n",
            "13/13 [==============================] - 1s 40ms/step - loss: 0.0127 - val_loss: 0.0145\n",
            "Epoch 9/100\n",
            "13/13 [==============================] - 0s 39ms/step - loss: 0.0083 - val_loss: 0.0018\n",
            "Epoch 10/100\n",
            "13/13 [==============================] - 0s 39ms/step - loss: 0.0100 - val_loss: 0.0299\n",
            "Epoch 11/100\n",
            "13/13 [==============================] - 1s 40ms/step - loss: 0.0032 - val_loss: 0.0049\n",
            "Epoch 12/100\n",
            "13/13 [==============================] - 0s 39ms/step - loss: 0.0030 - val_loss: 0.0070\n",
            "Epoch 13/100\n",
            "13/13 [==============================] - 0s 39ms/step - loss: 0.0017 - val_loss: 0.0034\n",
            "Epoch 14/100\n",
            "13/13 [==============================] - 1s 39ms/step - loss: 0.0015 - val_loss: 0.0016\n",
            "Epoch 15/100\n",
            "13/13 [==============================] - 1s 39ms/step - loss: 0.0014 - val_loss: 0.0026\n",
            "Epoch 16/100\n",
            "13/13 [==============================] - 0s 38ms/step - loss: 0.0015 - val_loss: 0.0011\n",
            "Epoch 17/100\n",
            "13/13 [==============================] - 1s 40ms/step - loss: 0.0015 - val_loss: 0.0023\n",
            "Epoch 1/100\n",
            "13/13 [==============================] - 5s 104ms/step - loss: 0.0103 - val_loss: 0.0075\n",
            "Epoch 2/100\n",
            "13/13 [==============================] - 0s 20ms/step - loss: 0.0253 - val_loss: 0.0512\n",
            "Epoch 3/100\n",
            "13/13 [==============================] - 0s 22ms/step - loss: 0.0154 - val_loss: 0.0234\n",
            "Epoch 4/100\n",
            "13/13 [==============================] - 0s 20ms/step - loss: 0.0234 - val_loss: 0.0574\n",
            "Epoch 5/100\n",
            "13/13 [==============================] - 0s 20ms/step - loss: 0.0131 - val_loss: 0.0055\n",
            "Epoch 6/100\n",
            "13/13 [==============================] - 0s 23ms/step - loss: 0.0265 - val_loss: 0.1224\n",
            "Epoch 7/100\n",
            "13/13 [==============================] - 0s 21ms/step - loss: 0.0041 - val_loss: 7.0417e-04\n",
            "Epoch 8/100\n",
            "13/13 [==============================] - 0s 21ms/step - loss: 0.0033 - val_loss: 0.0158\n",
            "Epoch 9/100\n",
            "13/13 [==============================] - 0s 24ms/step - loss: 0.0029 - val_loss: 4.7873e-04\n",
            "Epoch 10/100\n",
            "13/13 [==============================] - 0s 24ms/step - loss: 0.0028 - val_loss: 0.0107\n",
            "Epoch 11/100\n",
            "13/13 [==============================] - 0s 24ms/step - loss: 0.0029 - val_loss: 3.9056e-04\n",
            "Epoch 12/100\n",
            "13/13 [==============================] - 0s 20ms/step - loss: 0.0037 - val_loss: 0.0122\n",
            "Epoch 13/100\n",
            "13/13 [==============================] - 0s 25ms/step - loss: 0.0043 - val_loss: 4.2809e-04\n",
            "Epoch 14/100\n",
            "13/13 [==============================] - 0s 24ms/step - loss: 0.0071 - val_loss: 0.0279\n",
            "Epoch 15/100\n",
            "13/13 [==============================] - 0s 21ms/step - loss: 0.0064 - val_loss: 1.5436e-04\n",
            "Epoch 16/100\n",
            "13/13 [==============================] - 0s 21ms/step - loss: 0.0059 - val_loss: 0.0366\n",
            "Epoch 17/100\n",
            "13/13 [==============================] - 0s 21ms/step - loss: 0.0049 - val_loss: 5.8562e-04\n",
            "Epoch 18/100\n",
            "13/13 [==============================] - 0s 23ms/step - loss: 0.0043 - val_loss: 0.0212\n",
            "Epoch 19/100\n",
            "13/13 [==============================] - 0s 21ms/step - loss: 0.0034 - val_loss: 8.6967e-05\n",
            "Epoch 20/100\n",
            "13/13 [==============================] - 0s 25ms/step - loss: 0.0022 - val_loss: 0.0075\n",
            "Epoch 21/100\n",
            "13/13 [==============================] - 0s 20ms/step - loss: 0.0035 - val_loss: 1.5784e-04\n",
            "Epoch 22/100\n",
            "13/13 [==============================] - 0s 21ms/step - loss: 0.0033 - val_loss: 0.0105\n",
            "Epoch 23/100\n",
            "13/13 [==============================] - 0s 20ms/step - loss: 0.0050 - val_loss: 6.5309e-04\n",
            "Epoch 24/100\n",
            "13/13 [==============================] - 0s 21ms/step - loss: 0.0076 - val_loss: 0.0352\n",
            "Epoch 25/100\n",
            "13/13 [==============================] - 0s 21ms/step - loss: 0.0048 - val_loss: 1.2860e-04\n",
            "Epoch 26/100\n",
            "13/13 [==============================] - 0s 20ms/step - loss: 0.0053 - val_loss: 0.0263\n",
            "Epoch 27/100\n",
            "13/13 [==============================] - 0s 25ms/step - loss: 0.0044 - val_loss: 1.7860e-05\n",
            "Epoch 28/100\n",
            "13/13 [==============================] - 0s 20ms/step - loss: 0.0050 - val_loss: 0.0267\n",
            "Epoch 29/100\n",
            "13/13 [==============================] - 0s 20ms/step - loss: 0.0042 - val_loss: 3.2345e-04\n",
            "Epoch 30/100\n",
            "13/13 [==============================] - 0s 21ms/step - loss: 0.0045 - val_loss: 0.0253\n",
            "Epoch 31/100\n",
            "13/13 [==============================] - 0s 21ms/step - loss: 0.0037 - val_loss: 7.0475e-05\n",
            "Epoch 32/100\n",
            "13/13 [==============================] - 0s 24ms/step - loss: 0.0030 - val_loss: 0.0145\n",
            "Epoch 33/100\n",
            "13/13 [==============================] - 0s 24ms/step - loss: 0.0034 - val_loss: 1.2182e-05\n",
            "Epoch 34/100\n",
            "13/13 [==============================] - 0s 23ms/step - loss: 0.0018 - val_loss: 0.0068\n",
            "Epoch 35/100\n",
            "13/13 [==============================] - 0s 24ms/step - loss: 0.0022 - val_loss: 3.6124e-04\n",
            "Epoch 36/100\n",
            "13/13 [==============================] - 0s 23ms/step - loss: 0.0016 - val_loss: 0.0038\n",
            "Epoch 37/100\n",
            "13/13 [==============================] - 0s 21ms/step - loss: 0.0015 - val_loss: 2.9552e-04\n",
            "Epoch 38/100\n",
            "13/13 [==============================] - 0s 21ms/step - loss: 0.0011 - val_loss: 0.0018\n",
            "Epoch 39/100\n",
            "13/13 [==============================] - 0s 21ms/step - loss: 0.0014 - val_loss: 0.0016\n",
            "Epoch 40/100\n",
            "13/13 [==============================] - 0s 21ms/step - loss: 0.0027 - val_loss: 2.6814e-04\n",
            "Epoch 41/100\n",
            "13/13 [==============================] - 0s 20ms/step - loss: 0.0027 - val_loss: 0.0074\n",
            "Epoch 42/100\n",
            "13/13 [==============================] - 0s 21ms/step - loss: 0.0026 - val_loss: 5.3187e-05\n",
            "Epoch 43/100\n",
            "13/13 [==============================] - 0s 20ms/step - loss: 0.0030 - val_loss: 0.0085\n",
            "Epoch 1/100\n",
            "13/13 [==============================] - 5s 87ms/step - loss: 0.0095 - val_loss: 0.0026\n",
            "Epoch 2/100\n",
            "13/13 [==============================] - 0s 23ms/step - loss: 0.0286 - val_loss: 0.0497\n",
            "Epoch 3/100\n",
            "13/13 [==============================] - 0s 20ms/step - loss: 0.0074 - val_loss: 1.1880e-04\n",
            "Epoch 4/100\n",
            "13/13 [==============================] - 0s 23ms/step - loss: 0.0104 - val_loss: 0.0213\n",
            "Epoch 5/100\n",
            "13/13 [==============================] - 0s 21ms/step - loss: 0.0091 - val_loss: 0.0025\n",
            "Epoch 6/100\n",
            "13/13 [==============================] - 0s 20ms/step - loss: 0.0080 - val_loss: 0.0331\n",
            "Epoch 7/100\n",
            "13/13 [==============================] - 0s 20ms/step - loss: 0.0063 - val_loss: 6.5545e-04\n",
            "Epoch 8/100\n",
            "13/13 [==============================] - 0s 20ms/step - loss: 0.0042 - val_loss: 0.0179\n",
            "Epoch 9/100\n",
            "13/13 [==============================] - 0s 23ms/step - loss: 0.0049 - val_loss: 0.0017\n",
            "Epoch 10/100\n",
            "13/13 [==============================] - 0s 23ms/step - loss: 0.0041 - val_loss: 0.0165\n",
            "Epoch 11/100\n",
            "13/13 [==============================] - 0s 23ms/step - loss: 0.0042 - val_loss: 0.0017\n",
            "Epoch 12/100\n",
            "13/13 [==============================] - 0s 22ms/step - loss: 0.0035 - val_loss: 0.0111\n",
            "Epoch 13/100\n",
            "13/13 [==============================] - 0s 23ms/step - loss: 0.0037 - val_loss: 0.0011\n"
          ]
        }
      ]
    },
    {
      "cell_type": "markdown",
      "metadata": {
        "id": "Q5Dxoa9rOgXa"
      },
      "source": [
        "## Inverse target variable for train and test data\n",
        "After building the model, I have to transform the target variable back to original data space for train and test data using scaler_y.inverse_transform."
      ]
    },
    {
      "cell_type": "code",
      "metadata": {
        "id": "77AzEQfPOgXb"
      },
      "source": [
        "# Note that I have to use scaler_y\n",
        "y_test = scaler_y.inverse_transform(y_test)\n",
        "y_train = scaler_y.inverse_transform(y_train)"
      ],
      "execution_count": null,
      "outputs": []
    },
    {
      "cell_type": "markdown",
      "metadata": {
        "id": "f7Brp2RGOgXd"
      },
      "source": [
        "# Make prediction using BiLSTM, LSTM and GRU\n",
        "Here I predict UWC using BiLSTM, LSTM and GRU models. Then, I plot true future vs prediction the three models."
      ]
    },
    {
      "cell_type": "code",
      "metadata": {
        "id": "ty3L0-DrOgXe"
      },
      "source": [
        "def prediction(model):\n",
        "    prediction = model.predict(X_test)\n",
        "    prediction = scaler_y.inverse_transform(prediction)\n",
        "    return prediction\n",
        "\n",
        "prediction_bilstm = prediction(model_bilstm)\n",
        "prediction_lstm = prediction(model_lstm)\n",
        "prediction_gru = prediction(model_gru)\n"
      ],
      "execution_count": null,
      "outputs": []
    },
    {
      "cell_type": "code",
      "metadata": {
        "id": "qgGFTo4uaKkw"
      },
      "source": [
        ""
      ],
      "execution_count": null,
      "outputs": []
    },
    {
      "cell_type": "markdown",
      "metadata": {
        "id": "-6yY5SlEOgXg"
      },
      "source": [
        "## Plot true future vs prediction"
      ]
    },
    {
      "cell_type": "code",
      "metadata": {
        "colab": {
          "base_uri": "https://localhost:8080/",
          "height": 1000
        },
        "id": "3aedSt40fV5Q",
        "outputId": "3c51d8e6-2979-4332-81b7-42001284355d"
      },
      "source": [
        "def plot_future(prediction, model_name, y_test):\n",
        "    \n",
        "    plt.figure(figsize=(10, 6))\n",
        "    \n",
        "    range_future = len(prediction)\n",
        "\n",
        "    plt.plot(np.arange(range_future), np.array(y_test), label='True Future')\n",
        "    plt.plot(np.arange(range_future), np.array(prediction),label='Prediction')\n",
        "\n",
        "    plt.title('True future vs prediction for ' + model_name)\n",
        "    plt.legend(loc='upper left')\n",
        "    plt.xlabel('No of Days')\n",
        "    plt.ylabel('Covid Cases')\n",
        "    #plt.savefig('C:/Users/nious/Documents/Medium/LSTM&GRU/predic_'+model_name+'.jpg', format='jpg', dpi=1000)\n",
        "    \n",
        "    \n",
        "plot_future(prediction_bilstm, 'BiLSTM', y_test)\n",
        "plot_future(prediction_lstm, 'LSTM', y_test)\n",
        "plot_future(prediction_gru, 'GRU', y_test)"
      ],
      "execution_count": null,
      "outputs": [
        {
          "output_type": "display_data",
          "data": {
            "image/png": "[encoded data removed]",
            "text/plain": [
              "<Figure size 720x432 with 1 Axes>"
            ]
          },
          "metadata": {
            "needs_background": "light"
          }
        },
        {
          "output_type": "display_data",
          "data": {
            "image/png": "[encoded data removed]",
            "text/plain": [
              "<Figure size 720x432 with 1 Axes>"
            ]
          },
          "metadata": {
            "needs_background": "light"
          }
        },
        {
          "output_type": "display_data",
          "data": {
            "image/png": "[encoded data removed]",
            "text/plain": [
              "<Figure size 720x432 with 1 Axes>"
            ]
          },
          "metadata": {
            "needs_background": "light"
          }
        }
      ]
    },
    {
      "cell_type": "code",
      "metadata": {
        "id": "82qWc5vdaKkx"
      },
      "source": [
        "my_array = np.array(prediction_gru)\n",
        "df = pd.DataFrame(my_array, columns = ['Name'])\n",
        "df.to_csv('gru.csv')"
      ],
      "execution_count": null,
      "outputs": []
    },
    {
      "cell_type": "code",
      "metadata": {
        "id": "mLbuAqS2aKkx"
      },
      "source": [
        "from sklearn.metrics import r2_score"
      ],
      "execution_count": null,
      "outputs": []
    },
    {
      "cell_type": "markdown",
      "metadata": {
        "id": "tAsfHLuFOgXk"
      },
      "source": [
        "## Calculate RMSE and MAE"
      ]
    },
    {
      "cell_type": "code",
      "metadata": {
        "colab": {
          "base_uri": "https://localhost:8080/"
        },
        "id": "BPaU_KAPOgXk",
        "outputId": "b9e728f2-528f-43f5-dfd7-62f6b887f104"
      },
      "source": [
        "# Define a function to calculate MAE and RMSE\n",
        "def evaluate_prediction(predictions, actual, model_name):\n",
        "    errors = predictions - actual\n",
        "    mse = np.square(errors).mean()/ len(actual)\n",
        "    rmse = np.sqrt(mse)/ len(actual)\n",
        "    mae = np.abs(errors).mean()/ len(actual)\n",
        "    rsq=r2_score(actual, predictions)\n",
        "\n",
        "    print(model_name + ':')\n",
        "    print('Mean Absolute Error: {:.4f}'.format(mae))\n",
        "    print('Root Mean Square Error: {:.4f}'.format(rmse))\n",
        "    print('R Square Error: {:.4f}'.format(rsq))\n",
        "    print('')\n",
        "\n",
        "\n",
        "evaluate_prediction(prediction_bilstm, y_test, 'Bidirectional LSTM')\n",
        "evaluate_prediction(prediction_lstm, y_test, 'LSTM')\n",
        "evaluate_prediction(prediction_gru, y_test, 'GRU')\n"
      ],
      "execution_count": null,
      "outputs": [
        {
          "output_type": "stream",
          "name": "stdout",
          "text": [
            "Bidirectional LSTM:\n",
            "Mean Absolute Error: 3.0569\n",
            "Root Mean Square Error: 0.1749\n",
            "R Square Error: 0.9935\n",
            "\n",
            "LSTM:\n",
            "Mean Absolute Error: 4.8004\n",
            "Root Mean Square Error: 0.2979\n",
            "R Square Error: 0.9811\n",
            "\n",
            "GRU:\n",
            "Mean Absolute Error: 2.8725\n",
            "Root Mean Square Error: 0.1643\n",
            "R Square Error: 0.9942\n",
            "\n"
          ]
        }
      ]
    }
  ]
}