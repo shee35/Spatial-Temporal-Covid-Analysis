{
  "nbformat": 4,
  "nbformat_minor": 0,
  "metadata": {
    "colab": {
      "name": "MINI_PROJECT_Colab_2.ipynb",
      "provenance": [],
      "collapsed_sections": []
    },
    "kernelspec": {
      "name": "python3",
      "display_name": "Python 3"
    },
    "language_info": {
      "name": "python"
    }
  },
  "cells": [
    {
      "cell_type": "code",
      "metadata": {
        "id": "CEoTM1JdieE-",
        "colab": {
          "base_uri": "https://localhost:8080/"
        },
        "outputId": "500256fb-98be-442b-8b6c-db925467f55d"
      },
      "source": [
        "import pandas as pd\n",
        "import numpy as np\n",
        "import matplotlib.pyplot as plt\n",
        "import plotly.express as px\n",
        "import seaborn as sns\n",
        "import altair as alt\n",
        "import datetime\n",
        "import base64\n",
        "import plotly.graph_objects as go\n",
        "from matplotlib import pyplot\n",
        "from statsmodels.graphics.tsaplots import plot_acf"
      ],
      "execution_count": 1,
      "outputs": [
        {
          "output_type": "stream",
          "name": "stderr",
          "text": [
            "/usr/local/lib/python3.7/dist-packages/statsmodels/tools/_testing.py:19: FutureWarning:\n",
            "\n",
            "pandas.util.testing is deprecated. Use the functions in the public API at pandas.testing instead.\n",
            "\n"
          ]
        }
      ]
    },
    {
      "cell_type": "markdown",
      "metadata": {
        "id": "6NpCWTFcs8gl"
      },
      "source": [
        "# **Data Analysis**"
      ]
    },
    {
      "cell_type": "code",
      "metadata": {
        "colab": {
          "base_uri": "https://localhost:8080/",
          "height": 203
        },
        "id": "hLQqXlLZi513",
        "outputId": "bc1a0c88-9818-49dc-98f3-de6fb99af093"
      },
      "source": [
        "ds= pd.read_csv(\"https://raw.githubusercontent.com/Jyotika999/MINI-PROJECT-/main/districts%20(1).csv\")\n",
        "ds=ds.drop(columns='Tested')\n",
        "ds=ds.drop(columns='Deceased')\n",
        "ds=ds.drop(columns='Other')\n",
        "ds.head()"
      ],
      "execution_count": 2,
      "outputs": [
        {
          "output_type": "execute_result",
          "data": {
            "text/html": [
              "<div>\n",
              "<style scoped>\n",
              "    .dataframe tbody tr th:only-of-type {\n",
              "        vertical-align: middle;\n",
              "    }\n",
              "\n",
              "    .dataframe tbody tr th {\n",
              "        vertical-align: top;\n",
              "    }\n",
              "\n",
              "    .dataframe thead th {\n",
              "        text-align: right;\n",
              "    }\n",
              "</style>\n",
              "<table border=\"1\" class=\"dataframe\">\n",
              "  <thead>\n",
              "    <tr style=\"text-align: right;\">\n",
              "      <th></th>\n",
              "      <th>Date</th>\n",
              "      <th>State</th>\n",
              "      <th>District</th>\n",
              "      <th>Confirmed</th>\n",
              "      <th>Recovered</th>\n",
              "    </tr>\n",
              "  </thead>\n",
              "  <tbody>\n",
              "    <tr>\n",
              "      <th>0</th>\n",
              "      <td>2020-04-26</td>\n",
              "      <td>Andaman and Nicobar Islands</td>\n",
              "      <td>Unknown</td>\n",
              "      <td>33</td>\n",
              "      <td>11</td>\n",
              "    </tr>\n",
              "    <tr>\n",
              "      <th>1</th>\n",
              "      <td>2020-04-26</td>\n",
              "      <td>Andhra Pradesh</td>\n",
              "      <td>Anantapur</td>\n",
              "      <td>53</td>\n",
              "      <td>14</td>\n",
              "    </tr>\n",
              "    <tr>\n",
              "      <th>2</th>\n",
              "      <td>2020-04-26</td>\n",
              "      <td>Andhra Pradesh</td>\n",
              "      <td>Chittoor</td>\n",
              "      <td>73</td>\n",
              "      <td>13</td>\n",
              "    </tr>\n",
              "    <tr>\n",
              "      <th>3</th>\n",
              "      <td>2020-04-26</td>\n",
              "      <td>Andhra Pradesh</td>\n",
              "      <td>East Godavari</td>\n",
              "      <td>39</td>\n",
              "      <td>12</td>\n",
              "    </tr>\n",
              "    <tr>\n",
              "      <th>4</th>\n",
              "      <td>2020-04-26</td>\n",
              "      <td>Andhra Pradesh</td>\n",
              "      <td>Guntur</td>\n",
              "      <td>214</td>\n",
              "      <td>29</td>\n",
              "    </tr>\n",
              "  </tbody>\n",
              "</table>\n",
              "</div>"
            ],
            "text/plain": [
              "         Date                        State       District  Confirmed  Recovered\n",
              "0  2020-04-26  Andaman and Nicobar Islands        Unknown         33         11\n",
              "1  2020-04-26               Andhra Pradesh      Anantapur         53         14\n",
              "2  2020-04-26               Andhra Pradesh       Chittoor         73         13\n",
              "3  2020-04-26               Andhra Pradesh  East Godavari         39         12\n",
              "4  2020-04-26               Andhra Pradesh         Guntur        214         29"
            ]
          },
          "metadata": {},
          "execution_count": 2
        }
      ]
    },
    {
      "cell_type": "code",
      "metadata": {
        "colab": {
          "base_uri": "https://localhost:8080/",
          "height": 203
        },
        "id": "tVwNpMMjjF2O",
        "outputId": "3fa10841-32b3-46f7-bf3e-49fe7a9a56ab"
      },
      "source": [
        "ds= ds[ds.State == 'Maharashtra']\n",
        "ds.head()"
      ],
      "execution_count": 3,
      "outputs": [
        {
          "output_type": "execute_result",
          "data": {
            "text/html": [
              "<div>\n",
              "<style scoped>\n",
              "    .dataframe tbody tr th:only-of-type {\n",
              "        vertical-align: middle;\n",
              "    }\n",
              "\n",
              "    .dataframe tbody tr th {\n",
              "        vertical-align: top;\n",
              "    }\n",
              "\n",
              "    .dataframe thead th {\n",
              "        text-align: right;\n",
              "    }\n",
              "</style>\n",
              "<table border=\"1\" class=\"dataframe\">\n",
              "  <thead>\n",
              "    <tr style=\"text-align: right;\">\n",
              "      <th></th>\n",
              "      <th>Date</th>\n",
              "      <th>State</th>\n",
              "      <th>District</th>\n",
              "      <th>Confirmed</th>\n",
              "      <th>Recovered</th>\n",
              "    </tr>\n",
              "  </thead>\n",
              "  <tbody>\n",
              "    <tr>\n",
              "      <th>165</th>\n",
              "      <td>2020-04-26</td>\n",
              "      <td>Maharashtra</td>\n",
              "      <td>Ahmednagar</td>\n",
              "      <td>36</td>\n",
              "      <td>22</td>\n",
              "    </tr>\n",
              "    <tr>\n",
              "      <th>166</th>\n",
              "      <td>2020-04-26</td>\n",
              "      <td>Maharashtra</td>\n",
              "      <td>Akola</td>\n",
              "      <td>29</td>\n",
              "      <td>7</td>\n",
              "    </tr>\n",
              "    <tr>\n",
              "      <th>167</th>\n",
              "      <td>2020-04-26</td>\n",
              "      <td>Maharashtra</td>\n",
              "      <td>Amravati</td>\n",
              "      <td>20</td>\n",
              "      <td>4</td>\n",
              "    </tr>\n",
              "    <tr>\n",
              "      <th>168</th>\n",
              "      <td>2020-04-26</td>\n",
              "      <td>Maharashtra</td>\n",
              "      <td>Aurangabad</td>\n",
              "      <td>50</td>\n",
              "      <td>22</td>\n",
              "    </tr>\n",
              "    <tr>\n",
              "      <th>169</th>\n",
              "      <td>2020-04-26</td>\n",
              "      <td>Maharashtra</td>\n",
              "      <td>Beed</td>\n",
              "      <td>1</td>\n",
              "      <td>1</td>\n",
              "    </tr>\n",
              "  </tbody>\n",
              "</table>\n",
              "</div>"
            ],
            "text/plain": [
              "           Date        State    District  Confirmed  Recovered\n",
              "165  2020-04-26  Maharashtra  Ahmednagar         36         22\n",
              "166  2020-04-26  Maharashtra       Akola         29          7\n",
              "167  2020-04-26  Maharashtra    Amravati         20          4\n",
              "168  2020-04-26  Maharashtra  Aurangabad         50         22\n",
              "169  2020-04-26  Maharashtra        Beed          1          1"
            ]
          },
          "metadata": {},
          "execution_count": 3
        }
      ]
    },
    {
      "cell_type": "code",
      "metadata": {
        "colab": {
          "base_uri": "https://localhost:8080/"
        },
        "id": "Ll0R8rQklXyW",
        "outputId": "073a238f-9a4f-4aa5-de86-0f9d33b3477b"
      },
      "source": [
        "print(ds)"
      ],
      "execution_count": 4,
      "outputs": [
        {
          "output_type": "stream",
          "name": "stdout",
          "text": [
            "              Date        State    District  Confirmed  Recovered\n",
            "165     2020-04-26  Maharashtra  Ahmednagar         36         22\n",
            "166     2020-04-26  Maharashtra       Akola         29          7\n",
            "167     2020-04-26  Maharashtra    Amravati         20          4\n",
            "168     2020-04-26  Maharashtra  Aurangabad         50         22\n",
            "169     2020-04-26  Maharashtra        Beed          1          1\n",
            "...            ...          ...         ...        ...        ...\n",
            "336527  2021-09-28  Maharashtra     Solapur     207746     200635\n",
            "336528  2021-09-28  Maharashtra       Thane     604241     586837\n",
            "336529  2021-09-28  Maharashtra      Wardha      57321      55933\n",
            "336530  2021-09-28  Maharashtra      Washim      41633      40985\n",
            "336531  2021-09-28  Maharashtra    Yavatmal      75934      74126\n",
            "\n",
            "[18719 rows x 5 columns]\n"
          ]
        }
      ]
    },
    {
      "cell_type": "code",
      "metadata": {
        "id": "NxK58Ro3AHDE"
      },
      "source": [
        "ds = ds.drop(columns='State')"
      ],
      "execution_count": 5,
      "outputs": []
    },
    {
      "cell_type": "code",
      "metadata": {
        "colab": {
          "base_uri": "https://localhost:8080/",
          "height": 417
        },
        "id": "qSd60WTAjHtL",
        "outputId": "200effbb-8b15-4cf6-b4ef-82419334dc14"
      },
      "source": [
        "ds"
      ],
      "execution_count": 6,
      "outputs": [
        {
          "output_type": "execute_result",
          "data": {
            "text/html": [
              "<div>\n",
              "<style scoped>\n",
              "    .dataframe tbody tr th:only-of-type {\n",
              "        vertical-align: middle;\n",
              "    }\n",
              "\n",
              "    .dataframe tbody tr th {\n",
              "        vertical-align: top;\n",
              "    }\n",
              "\n",
              "    .dataframe thead th {\n",
              "        text-align: right;\n",
              "    }\n",
              "</style>\n",
              "<table border=\"1\" class=\"dataframe\">\n",
              "  <thead>\n",
              "    <tr style=\"text-align: right;\">\n",
              "      <th></th>\n",
              "      <th>Date</th>\n",
              "      <th>District</th>\n",
              "      <th>Confirmed</th>\n",
              "      <th>Recovered</th>\n",
              "    </tr>\n",
              "  </thead>\n",
              "  <tbody>\n",
              "    <tr>\n",
              "      <th>165</th>\n",
              "      <td>2020-04-26</td>\n",
              "      <td>Ahmednagar</td>\n",
              "      <td>36</td>\n",
              "      <td>22</td>\n",
              "    </tr>\n",
              "    <tr>\n",
              "      <th>166</th>\n",
              "      <td>2020-04-26</td>\n",
              "      <td>Akola</td>\n",
              "      <td>29</td>\n",
              "      <td>7</td>\n",
              "    </tr>\n",
              "    <tr>\n",
              "      <th>167</th>\n",
              "      <td>2020-04-26</td>\n",
              "      <td>Amravati</td>\n",
              "      <td>20</td>\n",
              "      <td>4</td>\n",
              "    </tr>\n",
              "    <tr>\n",
              "      <th>168</th>\n",
              "      <td>2020-04-26</td>\n",
              "      <td>Aurangabad</td>\n",
              "      <td>50</td>\n",
              "      <td>22</td>\n",
              "    </tr>\n",
              "    <tr>\n",
              "      <th>169</th>\n",
              "      <td>2020-04-26</td>\n",
              "      <td>Beed</td>\n",
              "      <td>1</td>\n",
              "      <td>1</td>\n",
              "    </tr>\n",
              "    <tr>\n",
              "      <th>...</th>\n",
              "      <td>...</td>\n",
              "      <td>...</td>\n",
              "      <td>...</td>\n",
              "      <td>...</td>\n",
              "    </tr>\n",
              "    <tr>\n",
              "      <th>336527</th>\n",
              "      <td>2021-09-28</td>\n",
              "      <td>Solapur</td>\n",
              "      <td>207746</td>\n",
              "      <td>200635</td>\n",
              "    </tr>\n",
              "    <tr>\n",
              "      <th>336528</th>\n",
              "      <td>2021-09-28</td>\n",
              "      <td>Thane</td>\n",
              "      <td>604241</td>\n",
              "      <td>586837</td>\n",
              "    </tr>\n",
              "    <tr>\n",
              "      <th>336529</th>\n",
              "      <td>2021-09-28</td>\n",
              "      <td>Wardha</td>\n",
              "      <td>57321</td>\n",
              "      <td>55933</td>\n",
              "    </tr>\n",
              "    <tr>\n",
              "      <th>336530</th>\n",
              "      <td>2021-09-28</td>\n",
              "      <td>Washim</td>\n",
              "      <td>41633</td>\n",
              "      <td>40985</td>\n",
              "    </tr>\n",
              "    <tr>\n",
              "      <th>336531</th>\n",
              "      <td>2021-09-28</td>\n",
              "      <td>Yavatmal</td>\n",
              "      <td>75934</td>\n",
              "      <td>74126</td>\n",
              "    </tr>\n",
              "  </tbody>\n",
              "</table>\n",
              "<p>18719 rows × 4 columns</p>\n",
              "</div>"
            ],
            "text/plain": [
              "              Date    District  Confirmed  Recovered\n",
              "165     2020-04-26  Ahmednagar         36         22\n",
              "166     2020-04-26       Akola         29          7\n",
              "167     2020-04-26    Amravati         20          4\n",
              "168     2020-04-26  Aurangabad         50         22\n",
              "169     2020-04-26        Beed          1          1\n",
              "...            ...         ...        ...        ...\n",
              "336527  2021-09-28     Solapur     207746     200635\n",
              "336528  2021-09-28       Thane     604241     586837\n",
              "336529  2021-09-28      Wardha      57321      55933\n",
              "336530  2021-09-28      Washim      41633      40985\n",
              "336531  2021-09-28    Yavatmal      75934      74126\n",
              "\n",
              "[18719 rows x 4 columns]"
            ]
          },
          "metadata": {},
          "execution_count": 6
        }
      ]
    },
    {
      "cell_type": "code",
      "metadata": {
        "colab": {
          "base_uri": "https://localhost:8080/"
        },
        "id": "MZjjfHtZAPIN",
        "outputId": "3e9bd258-e568-4f6b-958e-8d9cd840df31"
      },
      "source": [
        "print(ds)"
      ],
      "execution_count": 7,
      "outputs": [
        {
          "output_type": "stream",
          "name": "stdout",
          "text": [
            "              Date    District  Confirmed  Recovered\n",
            "165     2020-04-26  Ahmednagar         36         22\n",
            "166     2020-04-26       Akola         29          7\n",
            "167     2020-04-26    Amravati         20          4\n",
            "168     2020-04-26  Aurangabad         50         22\n",
            "169     2020-04-26        Beed          1          1\n",
            "...            ...         ...        ...        ...\n",
            "336527  2021-09-28     Solapur     207746     200635\n",
            "336528  2021-09-28       Thane     604241     586837\n",
            "336529  2021-09-28      Wardha      57321      55933\n",
            "336530  2021-09-28      Washim      41633      40985\n",
            "336531  2021-09-28    Yavatmal      75934      74126\n",
            "\n",
            "[18719 rows x 4 columns]\n"
          ]
        }
      ]
    },
    {
      "cell_type": "code",
      "metadata": {
        "colab": {
          "base_uri": "https://localhost:8080/"
        },
        "id": "tDlrXlulAUvn",
        "outputId": "65f0d830-084b-4888-9084-50c17e8202bc"
      },
      "source": [
        "ds.info()"
      ],
      "execution_count": 8,
      "outputs": [
        {
          "output_type": "stream",
          "name": "stdout",
          "text": [
            "<class 'pandas.core.frame.DataFrame'>\n",
            "Int64Index: 18719 entries, 165 to 336531\n",
            "Data columns (total 4 columns):\n",
            " #   Column     Non-Null Count  Dtype \n",
            "---  ------     --------------  ----- \n",
            " 0   Date       18719 non-null  object\n",
            " 1   District   18719 non-null  object\n",
            " 2   Confirmed  18719 non-null  int64 \n",
            " 3   Recovered  18719 non-null  int64 \n",
            "dtypes: int64(2), object(2)\n",
            "memory usage: 731.2+ KB\n"
          ]
        }
      ]
    },
    {
      "cell_type": "code",
      "metadata": {
        "colab": {
          "base_uri": "https://localhost:8080/"
        },
        "id": "Oud8NkWcvnA1",
        "outputId": "d15bde64-5486-4e68-b86f-fdc024b9d026"
      },
      "source": [
        "x = ds.pivot(index='Date', columns='District', values='Confirmed').apply(lambda x: pd.Series(x.dropna().to_numpy()))\n",
        "x =x.drop(columns='Unknown')\n",
        "print(x)"
      ],
      "execution_count": 9,
      "outputs": [
        {
          "output_type": "stream",
          "name": "stdout",
          "text": [
            "District  Ahmednagar    Akola  Amravati  ...  Wardha   Washim  Yavatmal\n",
            "0               36.0     29.0      20.0  ...     1.0      1.0      48.0\n",
            "1               42.0     29.0      22.0  ...     1.0      1.0      62.0\n",
            "2               42.0     34.0      28.0  ...     1.0      1.0      71.0\n",
            "3               42.0     39.0      28.0  ...     1.0      2.0      79.0\n",
            "4               42.0     39.0      28.0  ...     2.0      2.0      79.0\n",
            "..               ...      ...       ...  ...     ...      ...       ...\n",
            "516         327234.0  58717.0   96189.0  ...     NaN  41630.0   75928.0\n",
            "517         327923.0  58721.0   96194.0  ...     NaN  41631.0   75930.0\n",
            "518         328647.0  58721.0   96194.0  ...     NaN  41631.0   75933.0\n",
            "519         329231.0  58722.0   96197.0  ...     NaN  41631.0   75933.0\n",
            "520         329710.0  58724.0   96205.0  ...     NaN  41633.0   75934.0\n",
            "\n",
            "[521 rows x 36 columns]\n"
          ]
        }
      ]
    },
    {
      "cell_type": "code",
      "metadata": {
        "colab": {
          "base_uri": "https://localhost:8080/",
          "height": 454
        },
        "id": "W1QWbctfjauq",
        "outputId": "eee97047-0966-428b-a4cc-123c2d7d7177"
      },
      "source": [
        "x"
      ],
      "execution_count": 10,
      "outputs": [
        {
          "output_type": "execute_result",
          "data": {
            "text/html": [
              "<div>\n",
              "<style scoped>\n",
              "    .dataframe tbody tr th:only-of-type {\n",
              "        vertical-align: middle;\n",
              "    }\n",
              "\n",
              "    .dataframe tbody tr th {\n",
              "        vertical-align: top;\n",
              "    }\n",
              "\n",
              "    .dataframe thead th {\n",
              "        text-align: right;\n",
              "    }\n",
              "</style>\n",
              "<table border=\"1\" class=\"dataframe\">\n",
              "  <thead>\n",
              "    <tr style=\"text-align: right;\">\n",
              "      <th>District</th>\n",
              "      <th>Ahmednagar</th>\n",
              "      <th>Akola</th>\n",
              "      <th>Amravati</th>\n",
              "      <th>Aurangabad</th>\n",
              "      <th>Beed</th>\n",
              "      <th>Bhandara</th>\n",
              "      <th>Buldhana</th>\n",
              "      <th>Chandrapur</th>\n",
              "      <th>Dhule</th>\n",
              "      <th>Gadchiroli</th>\n",
              "      <th>Gondia</th>\n",
              "      <th>Hingoli</th>\n",
              "      <th>Jalgaon</th>\n",
              "      <th>Jalna</th>\n",
              "      <th>Kolhapur</th>\n",
              "      <th>Latur</th>\n",
              "      <th>Mumbai</th>\n",
              "      <th>Nagpur</th>\n",
              "      <th>Nanded</th>\n",
              "      <th>Nandurbar</th>\n",
              "      <th>Nashik</th>\n",
              "      <th>Osmanabad</th>\n",
              "      <th>Other State</th>\n",
              "      <th>Palghar</th>\n",
              "      <th>Parbhani</th>\n",
              "      <th>Pune</th>\n",
              "      <th>Raigad</th>\n",
              "      <th>Ratnagiri</th>\n",
              "      <th>Sangli</th>\n",
              "      <th>Satara</th>\n",
              "      <th>Sindhudurg</th>\n",
              "      <th>Solapur</th>\n",
              "      <th>Thane</th>\n",
              "      <th>Wardha</th>\n",
              "      <th>Washim</th>\n",
              "      <th>Yavatmal</th>\n",
              "    </tr>\n",
              "  </thead>\n",
              "  <tbody>\n",
              "    <tr>\n",
              "      <th>0</th>\n",
              "      <td>36.0</td>\n",
              "      <td>29.0</td>\n",
              "      <td>20.0</td>\n",
              "      <td>50.0</td>\n",
              "      <td>1.0</td>\n",
              "      <td>1.0</td>\n",
              "      <td>21.0</td>\n",
              "      <td>2.0</td>\n",
              "      <td>25.0</td>\n",
              "      <td>5.0</td>\n",
              "      <td>1.0</td>\n",
              "      <td>8.0</td>\n",
              "      <td>19.0</td>\n",
              "      <td>2.0</td>\n",
              "      <td>10.0</td>\n",
              "      <td>9.0</td>\n",
              "      <td>5407.0</td>\n",
              "      <td>107.0</td>\n",
              "      <td>1.0</td>\n",
              "      <td>11.0</td>\n",
              "      <td>131.0</td>\n",
              "      <td>3.0</td>\n",
              "      <td>25.0</td>\n",
              "      <td>141.0</td>\n",
              "      <td>1.0</td>\n",
              "      <td>1052.0</td>\n",
              "      <td>57.0</td>\n",
              "      <td>8.0</td>\n",
              "      <td>27.0</td>\n",
              "      <td>29.0</td>\n",
              "      <td>1.0</td>\n",
              "      <td>47.0</td>\n",
              "      <td>738.0</td>\n",
              "      <td>1.0</td>\n",
              "      <td>1.0</td>\n",
              "      <td>48.0</td>\n",
              "    </tr>\n",
              "    <tr>\n",
              "      <th>1</th>\n",
              "      <td>42.0</td>\n",
              "      <td>29.0</td>\n",
              "      <td>22.0</td>\n",
              "      <td>52.0</td>\n",
              "      <td>1.0</td>\n",
              "      <td>1.0</td>\n",
              "      <td>21.0</td>\n",
              "      <td>2.0</td>\n",
              "      <td>25.0</td>\n",
              "      <td>6.0</td>\n",
              "      <td>1.0</td>\n",
              "      <td>8.0</td>\n",
              "      <td>20.0</td>\n",
              "      <td>2.0</td>\n",
              "      <td>11.0</td>\n",
              "      <td>10.0</td>\n",
              "      <td>5776.0</td>\n",
              "      <td>127.0</td>\n",
              "      <td>3.0</td>\n",
              "      <td>11.0</td>\n",
              "      <td>146.0</td>\n",
              "      <td>3.0</td>\n",
              "      <td>25.0</td>\n",
              "      <td>146.0</td>\n",
              "      <td>1.0</td>\n",
              "      <td>1099.0</td>\n",
              "      <td>61.0</td>\n",
              "      <td>8.0</td>\n",
              "      <td>27.0</td>\n",
              "      <td>29.0</td>\n",
              "      <td>1.0</td>\n",
              "      <td>65.0</td>\n",
              "      <td>752.0</td>\n",
              "      <td>1.0</td>\n",
              "      <td>1.0</td>\n",
              "      <td>62.0</td>\n",
              "    </tr>\n",
              "    <tr>\n",
              "      <th>2</th>\n",
              "      <td>42.0</td>\n",
              "      <td>34.0</td>\n",
              "      <td>28.0</td>\n",
              "      <td>90.0</td>\n",
              "      <td>1.0</td>\n",
              "      <td>1.0</td>\n",
              "      <td>21.0</td>\n",
              "      <td>2.0</td>\n",
              "      <td>25.0</td>\n",
              "      <td>7.0</td>\n",
              "      <td>1.0</td>\n",
              "      <td>15.0</td>\n",
              "      <td>40.0</td>\n",
              "      <td>2.0</td>\n",
              "      <td>12.0</td>\n",
              "      <td>12.0</td>\n",
              "      <td>6169.0</td>\n",
              "      <td>135.0</td>\n",
              "      <td>3.0</td>\n",
              "      <td>11.0</td>\n",
              "      <td>195.0</td>\n",
              "      <td>3.0</td>\n",
              "      <td>25.0</td>\n",
              "      <td>164.0</td>\n",
              "      <td>1.0</td>\n",
              "      <td>1174.0</td>\n",
              "      <td>66.0</td>\n",
              "      <td>8.0</td>\n",
              "      <td>27.0</td>\n",
              "      <td>32.0</td>\n",
              "      <td>1.0</td>\n",
              "      <td>82.0</td>\n",
              "      <td>824.0</td>\n",
              "      <td>1.0</td>\n",
              "      <td>1.0</td>\n",
              "      <td>71.0</td>\n",
              "    </tr>\n",
              "    <tr>\n",
              "      <th>3</th>\n",
              "      <td>42.0</td>\n",
              "      <td>39.0</td>\n",
              "      <td>28.0</td>\n",
              "      <td>105.0</td>\n",
              "      <td>1.0</td>\n",
              "      <td>1.0</td>\n",
              "      <td>21.0</td>\n",
              "      <td>2.0</td>\n",
              "      <td>25.0</td>\n",
              "      <td>9.0</td>\n",
              "      <td>1.0</td>\n",
              "      <td>15.0</td>\n",
              "      <td>40.0</td>\n",
              "      <td>2.0</td>\n",
              "      <td>12.0</td>\n",
              "      <td>12.0</td>\n",
              "      <td>6644.0</td>\n",
              "      <td>138.0</td>\n",
              "      <td>3.0</td>\n",
              "      <td>11.0</td>\n",
              "      <td>195.0</td>\n",
              "      <td>3.0</td>\n",
              "      <td>25.0</td>\n",
              "      <td>169.0</td>\n",
              "      <td>1.0</td>\n",
              "      <td>1192.0</td>\n",
              "      <td>69.0</td>\n",
              "      <td>8.0</td>\n",
              "      <td>29.0</td>\n",
              "      <td>32.0</td>\n",
              "      <td>2.0</td>\n",
              "      <td>85.0</td>\n",
              "      <td>882.0</td>\n",
              "      <td>1.0</td>\n",
              "      <td>2.0</td>\n",
              "      <td>79.0</td>\n",
              "    </tr>\n",
              "    <tr>\n",
              "      <th>4</th>\n",
              "      <td>42.0</td>\n",
              "      <td>39.0</td>\n",
              "      <td>28.0</td>\n",
              "      <td>131.0</td>\n",
              "      <td>1.0</td>\n",
              "      <td>1.0</td>\n",
              "      <td>21.0</td>\n",
              "      <td>2.0</td>\n",
              "      <td>25.0</td>\n",
              "      <td>13.0</td>\n",
              "      <td>1.0</td>\n",
              "      <td>15.0</td>\n",
              "      <td>40.0</td>\n",
              "      <td>2.0</td>\n",
              "      <td>14.0</td>\n",
              "      <td>12.0</td>\n",
              "      <td>7061.0</td>\n",
              "      <td>139.0</td>\n",
              "      <td>3.0</td>\n",
              "      <td>11.0</td>\n",
              "      <td>197.0</td>\n",
              "      <td>3.0</td>\n",
              "      <td>26.0</td>\n",
              "      <td>169.0</td>\n",
              "      <td>2.0</td>\n",
              "      <td>1248.0</td>\n",
              "      <td>71.0</td>\n",
              "      <td>8.0</td>\n",
              "      <td>29.0</td>\n",
              "      <td>32.0</td>\n",
              "      <td>2.0</td>\n",
              "      <td>99.0</td>\n",
              "      <td>943.0</td>\n",
              "      <td>2.0</td>\n",
              "      <td>2.0</td>\n",
              "      <td>79.0</td>\n",
              "    </tr>\n",
              "    <tr>\n",
              "      <th>...</th>\n",
              "      <td>...</td>\n",
              "      <td>...</td>\n",
              "      <td>...</td>\n",
              "      <td>...</td>\n",
              "      <td>...</td>\n",
              "      <td>...</td>\n",
              "      <td>...</td>\n",
              "      <td>...</td>\n",
              "      <td>...</td>\n",
              "      <td>...</td>\n",
              "      <td>...</td>\n",
              "      <td>...</td>\n",
              "      <td>...</td>\n",
              "      <td>...</td>\n",
              "      <td>...</td>\n",
              "      <td>...</td>\n",
              "      <td>...</td>\n",
              "      <td>...</td>\n",
              "      <td>...</td>\n",
              "      <td>...</td>\n",
              "      <td>...</td>\n",
              "      <td>...</td>\n",
              "      <td>...</td>\n",
              "      <td>...</td>\n",
              "      <td>...</td>\n",
              "      <td>...</td>\n",
              "      <td>...</td>\n",
              "      <td>...</td>\n",
              "      <td>...</td>\n",
              "      <td>...</td>\n",
              "      <td>...</td>\n",
              "      <td>...</td>\n",
              "      <td>...</td>\n",
              "      <td>...</td>\n",
              "      <td>...</td>\n",
              "      <td>...</td>\n",
              "    </tr>\n",
              "    <tr>\n",
              "      <th>516</th>\n",
              "      <td>327234.0</td>\n",
              "      <td>58717.0</td>\n",
              "      <td>96189.0</td>\n",
              "      <td>154388.0</td>\n",
              "      <td>102961.0</td>\n",
              "      <td>60071.0</td>\n",
              "      <td>85383.0</td>\n",
              "      <td>88866.0</td>\n",
              "      <td>46132.0</td>\n",
              "      <td>NaN</td>\n",
              "      <td>40510.0</td>\n",
              "      <td>18456.0</td>\n",
              "      <td>139853.0</td>\n",
              "      <td>60465.0</td>\n",
              "      <td>206095.0</td>\n",
              "      <td>91819.0</td>\n",
              "      <td>740305.0</td>\n",
              "      <td>493390.0</td>\n",
              "      <td>90313.0</td>\n",
              "      <td>39994.0</td>\n",
              "      <td>407846.0</td>\n",
              "      <td>66771.0</td>\n",
              "      <td>144.0</td>\n",
              "      <td>135657.0</td>\n",
              "      <td>52266.0</td>\n",
              "      <td>1138652.0</td>\n",
              "      <td>191974.0</td>\n",
              "      <td>77607.0</td>\n",
              "      <td>207261.0</td>\n",
              "      <td>246702.0</td>\n",
              "      <td>51395.0</td>\n",
              "      <td>212049.0</td>\n",
              "      <td>603104.0</td>\n",
              "      <td>NaN</td>\n",
              "      <td>41630.0</td>\n",
              "      <td>75928.0</td>\n",
              "    </tr>\n",
              "    <tr>\n",
              "      <th>517</th>\n",
              "      <td>327923.0</td>\n",
              "      <td>58721.0</td>\n",
              "      <td>96194.0</td>\n",
              "      <td>154432.0</td>\n",
              "      <td>102999.0</td>\n",
              "      <td>60071.0</td>\n",
              "      <td>85391.0</td>\n",
              "      <td>88870.0</td>\n",
              "      <td>46132.0</td>\n",
              "      <td>NaN</td>\n",
              "      <td>40510.0</td>\n",
              "      <td>18457.0</td>\n",
              "      <td>139857.0</td>\n",
              "      <td>60468.0</td>\n",
              "      <td>206121.0</td>\n",
              "      <td>91829.0</td>\n",
              "      <td>740760.0</td>\n",
              "      <td>493403.0</td>\n",
              "      <td>90314.0</td>\n",
              "      <td>39994.0</td>\n",
              "      <td>407931.0</td>\n",
              "      <td>66838.0</td>\n",
              "      <td>144.0</td>\n",
              "      <td>135717.0</td>\n",
              "      <td>52268.0</td>\n",
              "      <td>1139333.0</td>\n",
              "      <td>192123.0</td>\n",
              "      <td>77685.0</td>\n",
              "      <td>207344.0</td>\n",
              "      <td>246872.0</td>\n",
              "      <td>51466.0</td>\n",
              "      <td>212237.0</td>\n",
              "      <td>603435.0</td>\n",
              "      <td>NaN</td>\n",
              "      <td>41631.0</td>\n",
              "      <td>75930.0</td>\n",
              "    </tr>\n",
              "    <tr>\n",
              "      <th>518</th>\n",
              "      <td>328647.0</td>\n",
              "      <td>58721.0</td>\n",
              "      <td>96194.0</td>\n",
              "      <td>154459.0</td>\n",
              "      <td>103031.0</td>\n",
              "      <td>60072.0</td>\n",
              "      <td>85393.0</td>\n",
              "      <td>88876.0</td>\n",
              "      <td>46135.0</td>\n",
              "      <td>NaN</td>\n",
              "      <td>40510.0</td>\n",
              "      <td>18457.0</td>\n",
              "      <td>139857.0</td>\n",
              "      <td>60473.0</td>\n",
              "      <td>206156.0</td>\n",
              "      <td>91847.0</td>\n",
              "      <td>741237.0</td>\n",
              "      <td>493409.0</td>\n",
              "      <td>90319.0</td>\n",
              "      <td>39994.0</td>\n",
              "      <td>408023.0</td>\n",
              "      <td>66853.0</td>\n",
              "      <td>144.0</td>\n",
              "      <td>135774.0</td>\n",
              "      <td>52269.0</td>\n",
              "      <td>1140039.0</td>\n",
              "      <td>192279.0</td>\n",
              "      <td>77728.0</td>\n",
              "      <td>207458.0</td>\n",
              "      <td>247007.0</td>\n",
              "      <td>51516.0</td>\n",
              "      <td>212428.0</td>\n",
              "      <td>603735.0</td>\n",
              "      <td>NaN</td>\n",
              "      <td>41631.0</td>\n",
              "      <td>75933.0</td>\n",
              "    </tr>\n",
              "    <tr>\n",
              "      <th>519</th>\n",
              "      <td>329231.0</td>\n",
              "      <td>58722.0</td>\n",
              "      <td>96197.0</td>\n",
              "      <td>154500.0</td>\n",
              "      <td>103053.0</td>\n",
              "      <td>60072.0</td>\n",
              "      <td>85406.0</td>\n",
              "      <td>88881.0</td>\n",
              "      <td>46136.0</td>\n",
              "      <td>NaN</td>\n",
              "      <td>40510.0</td>\n",
              "      <td>18457.0</td>\n",
              "      <td>139857.0</td>\n",
              "      <td>60482.0</td>\n",
              "      <td>206194.0</td>\n",
              "      <td>91853.0</td>\n",
              "      <td>741613.0</td>\n",
              "      <td>493418.0</td>\n",
              "      <td>90322.0</td>\n",
              "      <td>39995.0</td>\n",
              "      <td>408098.0</td>\n",
              "      <td>66868.0</td>\n",
              "      <td>144.0</td>\n",
              "      <td>135799.0</td>\n",
              "      <td>52269.0</td>\n",
              "      <td>1140470.0</td>\n",
              "      <td>192376.0</td>\n",
              "      <td>77764.0</td>\n",
              "      <td>207533.0</td>\n",
              "      <td>247144.0</td>\n",
              "      <td>51583.0</td>\n",
              "      <td>207583.0</td>\n",
              "      <td>603943.0</td>\n",
              "      <td>NaN</td>\n",
              "      <td>41631.0</td>\n",
              "      <td>75933.0</td>\n",
              "    </tr>\n",
              "    <tr>\n",
              "      <th>520</th>\n",
              "      <td>329710.0</td>\n",
              "      <td>58724.0</td>\n",
              "      <td>96205.0</td>\n",
              "      <td>154539.0</td>\n",
              "      <td>103096.0</td>\n",
              "      <td>NaN</td>\n",
              "      <td>85410.0</td>\n",
              "      <td>88885.0</td>\n",
              "      <td>46137.0</td>\n",
              "      <td>NaN</td>\n",
              "      <td>40510.0</td>\n",
              "      <td>18459.0</td>\n",
              "      <td>139863.0</td>\n",
              "      <td>60484.0</td>\n",
              "      <td>206224.0</td>\n",
              "      <td>91860.0</td>\n",
              "      <td>742007.0</td>\n",
              "      <td>493428.0</td>\n",
              "      <td>90324.0</td>\n",
              "      <td>39996.0</td>\n",
              "      <td>408156.0</td>\n",
              "      <td>66915.0</td>\n",
              "      <td>144.0</td>\n",
              "      <td>135830.0</td>\n",
              "      <td>52270.0</td>\n",
              "      <td>1141079.0</td>\n",
              "      <td>192527.0</td>\n",
              "      <td>77846.0</td>\n",
              "      <td>207672.0</td>\n",
              "      <td>247286.0</td>\n",
              "      <td>51668.0</td>\n",
              "      <td>207746.0</td>\n",
              "      <td>604241.0</td>\n",
              "      <td>NaN</td>\n",
              "      <td>41633.0</td>\n",
              "      <td>75934.0</td>\n",
              "    </tr>\n",
              "  </tbody>\n",
              "</table>\n",
              "<p>521 rows × 36 columns</p>\n",
              "</div>"
            ],
            "text/plain": [
              "District  Ahmednagar    Akola  Amravati  ...  Wardha   Washim  Yavatmal\n",
              "0               36.0     29.0      20.0  ...     1.0      1.0      48.0\n",
              "1               42.0     29.0      22.0  ...     1.0      1.0      62.0\n",
              "2               42.0     34.0      28.0  ...     1.0      1.0      71.0\n",
              "3               42.0     39.0      28.0  ...     1.0      2.0      79.0\n",
              "4               42.0     39.0      28.0  ...     2.0      2.0      79.0\n",
              "..               ...      ...       ...  ...     ...      ...       ...\n",
              "516         327234.0  58717.0   96189.0  ...     NaN  41630.0   75928.0\n",
              "517         327923.0  58721.0   96194.0  ...     NaN  41631.0   75930.0\n",
              "518         328647.0  58721.0   96194.0  ...     NaN  41631.0   75933.0\n",
              "519         329231.0  58722.0   96197.0  ...     NaN  41631.0   75933.0\n",
              "520         329710.0  58724.0   96205.0  ...     NaN  41633.0   75934.0\n",
              "\n",
              "[521 rows x 36 columns]"
            ]
          },
          "metadata": {},
          "execution_count": 10
        }
      ]
    },
    {
      "cell_type": "markdown",
      "metadata": {
        "id": "8wss5RE1O4CS"
      },
      "source": [
        "# **Spatial correlation matrix with values**"
      ]
    },
    {
      "cell_type": "code",
      "metadata": {
        "colab": {
          "base_uri": "https://localhost:8080/"
        },
        "id": "J-FDb3uh1wOA",
        "outputId": "32c48d63-f44d-4d18-b2f0-19eeba403b1a"
      },
      "source": [
        "# plt.subplots(figsize=(25,20))\n",
        "correlation_mat = x.corr()\n",
        "print(correlation_mat)\n",
        "# sns.heatmap(correlation_mat, annot = True)\n",
        "# plt.title(\"Correlation matrix of covid data of states\")\n",
        "\n",
        "# plt.xlabel(\"districts\")\n",
        "\n",
        "# plt.ylabel(\"districts\")\n",
        "# plt.show()"
      ],
      "execution_count": 11,
      "outputs": [
        {
          "output_type": "stream",
          "name": "stdout",
          "text": [
            "District     Ahmednagar     Akola  Amravati  ...    Wardha    Washim  Yavatmal\n",
            "District                                     ...                              \n",
            "Ahmednagar     1.000000  0.986128  0.985843  ...  0.970262  0.990575  0.991715\n",
            "Akola          0.986128  1.000000  0.996700  ...  0.991873  0.998342  0.996850\n",
            "Amravati       0.985843  0.996700  1.000000  ...  0.987552  0.993350  0.992969\n",
            "Aurangabad     0.982064  0.991211  0.992108  ...  0.989254  0.988083  0.987427\n",
            "Beed           0.996834  0.988576  0.983745  ...  0.969641  0.994608  0.995440\n",
            "Bhandara       0.982997  0.991581  0.985739  ...  0.992732  0.993595  0.993508\n",
            "Buldhana       0.992560  0.994658  0.989595  ...  0.977443  0.998202  0.998270\n",
            "Chandrapur     0.991879  0.990689  0.989484  ...  0.981006  0.994183  0.996604\n",
            "Dhule          0.976636  0.984921  0.987964  ...  0.983885  0.981254  0.980849\n",
            "Gadchiroli     0.974681  0.985654  0.985713  ...  0.993487  0.981465  0.979449\n",
            "Gondia         0.982518  0.983665  0.986782  ...  0.981558  0.984198  0.986697\n",
            "Hingoli        0.990836  0.995892  0.992231  ...  0.989587  0.997677  0.997836\n",
            "Jalgaon        0.963278  0.969553  0.977534  ...  0.969288  0.964373  0.965157\n",
            "Jalna          0.990143  0.997045  0.992498  ...  0.991068  0.998451  0.998196\n",
            "Kolhapur       0.969746  0.929229  0.934479  ...  0.885992  0.937197  0.939191\n",
            "Latur          0.988871  0.991816  0.989413  ...  0.988121  0.993810  0.994585\n",
            "Mumbai         0.971909  0.979836  0.984044  ...  0.981736  0.975212  0.975228\n",
            "Nagpur         0.981351  0.993173  0.992290  ...  0.995140  0.991530  0.991566\n",
            "Nanded         0.976189  0.991145  0.987013  ...  0.996352  0.989327  0.987434\n",
            "Nandurbar      0.979905  0.994662  0.990422  ...  0.997834  0.992811  0.991313\n",
            "Nashik         0.988894  0.993037  0.993163  ...  0.988841  0.992899  0.993603\n",
            "Osmanabad      0.997687  0.986810  0.987155  ...  0.969112  0.991261  0.993057\n",
            "Other State   -0.306145 -0.366996 -0.352219  ... -0.370235 -0.352849 -0.350032\n",
            "Palghar        0.990593  0.977918  0.981918  ...  0.961487  0.979957  0.982368\n",
            "Parbhani       0.987949  0.992108  0.983068  ...  0.982526  0.997071  0.996912\n",
            "Pune           0.986109  0.985206  0.989044  ...  0.979611  0.983761  0.984530\n",
            "Raigad         0.988025  0.972225  0.979487  ...  0.955814  0.972875  0.974943\n",
            "Ratnagiri      0.976825  0.944904  0.942530  ...  0.904277  0.954767  0.955957\n",
            "Sangli         0.984886  0.949509  0.955136  ...  0.917303  0.956313  0.958572\n",
            "Satara         0.993625  0.966662  0.969686  ...  0.938994  0.972782  0.974593\n",
            "Sindhudurg     0.966597  0.933687  0.930599  ...  0.888699  0.943966  0.944488\n",
            "Solapur        0.998588  0.980273  0.982777  ...  0.959965  0.984446  0.986311\n",
            "Thane          0.966093  0.968898  0.976537  ...  0.968097  0.963974  0.965188\n",
            "Wardha         0.970262  0.991873  0.987552  ...  1.000000  0.987641  0.984943\n",
            "Washim         0.990575  0.998342  0.993350  ...  0.987641  1.000000  0.999184\n",
            "Yavatmal       0.991715  0.996850  0.992969  ...  0.984943  0.999184  1.000000\n",
            "\n",
            "[36 rows x 36 columns]\n"
          ]
        }
      ]
    },
    {
      "cell_type": "code",
      "metadata": {
        "id": "ydc52lbnZ0eE"
      },
      "source": [
        "correlation_mat.to_csv('CORRELATION_PUNE.csv')"
      ],
      "execution_count": 12,
      "outputs": []
    },
    {
      "cell_type": "code",
      "metadata": {
        "colab": {
          "base_uri": "https://localhost:8080/",
          "height": 1000
        },
        "id": "agraT2NZZWJK",
        "outputId": "c3e6c2c4-6d1d-49f5-b472-4bcf7a8acc22"
      },
      "source": [
        "plt.subplots(figsize=(25,20))\n",
        "# correlation_mat = x.corr()\n",
        "\n",
        "\n",
        "sns.heatmap(correlation_mat, annot = True)\n",
        "plt.title(\"Correlation matrix of covid data of states\")\n",
        "\n",
        "plt.xlabel(\"districts\")\n",
        "\n",
        "plt.ylabel(\"districts\")\n",
        "plt.show()"
      ],
      "execution_count": 13,
      "outputs": [
        {
          "output_type": "display_data",
          "data": {
            "image/png": "[encoded data removed]",
            "text/plain": [
              "<Figure size 1800x1440 with 2 Axes>"
            ]
          },
          "metadata": {
            "needs_background": "light"
          }
        }
      ]
    },
    {
      "cell_type": "code",
      "metadata": {
        "id": "yBEp14gkZHgo"
      },
      "source": [
        ""
      ],
      "execution_count": 13,
      "outputs": []
    },
    {
      "cell_type": "markdown",
      "metadata": {
        "id": "DuevcmdqPDmm"
      },
      "source": [
        "From the above matrix it is clear that the correlation values of the districts  are high with osmanabad. Therefore chosing it as a hotspot."
      ]
    },
    {
      "cell_type": "code",
      "metadata": {
        "colab": {
          "base_uri": "https://localhost:8080/",
          "height": 605
        },
        "id": "EmuKg63VvRoN",
        "outputId": "a4d0745b-69d9-4bd4-f85f-0e3fa2d5160b"
      },
      "source": [
        "x.plot()\n",
        "pyplot.show()"
      ],
      "execution_count": 14,
      "outputs": [
        {
          "output_type": "display_data",
          "data": {
            "image/png": "[encoded data removed]",
            "text/plain": [
              "<Figure size 432x288 with 1 Axes>"
            ]
          },
          "metadata": {
            "needs_background": "light"
          }
        }
      ]
    },
    {
      "cell_type": "markdown",
      "metadata": {
        "id": "yH72F_yhPcm7"
      },
      "source": [
        "# **Temporal correlation of the hotspot ditrict**"
      ]
    },
    {
      "cell_type": "code",
      "metadata": {
        "colab": {
          "base_uri": "https://localhost:8080/",
          "height": 203
        },
        "id": "qU0dyxZLZS9z",
        "outputId": "b834629e-9269-435f-d095-462593ec44c9"
      },
      "source": [
        "y = ds[ds.District == 'Osmanabad']\n",
        "y.drop(columns='Recovered')\n",
        "y.head()"
      ],
      "execution_count": 15,
      "outputs": [
        {
          "output_type": "execute_result",
          "data": {
            "text/html": [
              "<div>\n",
              "<style scoped>\n",
              "    .dataframe tbody tr th:only-of-type {\n",
              "        vertical-align: middle;\n",
              "    }\n",
              "\n",
              "    .dataframe tbody tr th {\n",
              "        vertical-align: top;\n",
              "    }\n",
              "\n",
              "    .dataframe thead th {\n",
              "        text-align: right;\n",
              "    }\n",
              "</style>\n",
              "<table border=\"1\" class=\"dataframe\">\n",
              "  <thead>\n",
              "    <tr style=\"text-align: right;\">\n",
              "      <th></th>\n",
              "      <th>Date</th>\n",
              "      <th>District</th>\n",
              "      <th>Confirmed</th>\n",
              "      <th>Recovered</th>\n",
              "    </tr>\n",
              "  </thead>\n",
              "  <tbody>\n",
              "    <tr>\n",
              "      <th>184</th>\n",
              "      <td>2020-04-26</td>\n",
              "      <td>Osmanabad</td>\n",
              "      <td>3</td>\n",
              "      <td>3</td>\n",
              "    </tr>\n",
              "    <tr>\n",
              "      <th>600</th>\n",
              "      <td>2020-04-27</td>\n",
              "      <td>Osmanabad</td>\n",
              "      <td>3</td>\n",
              "      <td>3</td>\n",
              "    </tr>\n",
              "    <tr>\n",
              "      <th>1024</th>\n",
              "      <td>2020-04-28</td>\n",
              "      <td>Osmanabad</td>\n",
              "      <td>3</td>\n",
              "      <td>3</td>\n",
              "    </tr>\n",
              "    <tr>\n",
              "      <th>1453</th>\n",
              "      <td>2020-04-29</td>\n",
              "      <td>Osmanabad</td>\n",
              "      <td>3</td>\n",
              "      <td>3</td>\n",
              "    </tr>\n",
              "    <tr>\n",
              "      <th>1886</th>\n",
              "      <td>2020-04-30</td>\n",
              "      <td>Osmanabad</td>\n",
              "      <td>3</td>\n",
              "      <td>3</td>\n",
              "    </tr>\n",
              "  </tbody>\n",
              "</table>\n",
              "</div>"
            ],
            "text/plain": [
              "            Date   District  Confirmed  Recovered\n",
              "184   2020-04-26  Osmanabad          3          3\n",
              "600   2020-04-27  Osmanabad          3          3\n",
              "1024  2020-04-28  Osmanabad          3          3\n",
              "1453  2020-04-29  Osmanabad          3          3\n",
              "1886  2020-04-30  Osmanabad          3          3"
            ]
          },
          "metadata": {},
          "execution_count": 15
        }
      ]
    },
    {
      "cell_type": "code",
      "metadata": {
        "colab": {
          "base_uri": "https://localhost:8080/",
          "height": 269
        },
        "id": "PgzoK29sPYuS",
        "outputId": "fdbd24eb-dea4-4f31-8730-1ba116ff56c7"
      },
      "source": [
        "y['Confirmed'].plot()\n",
        "pyplot.show()"
      ],
      "execution_count": 16,
      "outputs": [
        {
          "output_type": "display_data",
          "data": {
            "image/png": "[encoded data removed]",
            "text/plain": [
              "<Figure size 432x288 with 1 Axes>"
            ]
          },
          "metadata": {
            "needs_background": "light"
          }
        }
      ]
    },
    {
      "cell_type": "code",
      "metadata": {
        "colab": {
          "base_uri": "https://localhost:8080/"
        },
        "id": "3ED9o2MfUNCN",
        "outputId": "d934ae87-d767-443b-b663-19373263b8f6"
      },
      "source": [
        "y['Date']= pd.to_datetime(y['Date'])\n",
        "\n",
        "per = y.Date.dt.to_period(\"M\")\n",
        "# print(per)\n",
        "g = y.groupby(per)\n",
        "f= g.sum()\n",
        "print(f)\n",
        "y.to_csv('GROUPED.csv')"
      ],
      "execution_count": 17,
      "outputs": [
        {
          "output_type": "stream",
          "name": "stdout",
          "text": [
            "         Confirmed  Recovered\n",
            "Date                         \n",
            "2020-04         15         15\n",
            "2020-05        579        162\n",
            "2020-06       4531       3114\n",
            "2020-07      14731       9329\n",
            "2020-08     109901      58795\n",
            "2020-09     279228     191789\n",
            "2020-10     443076     360830\n",
            "2020-11     475885     427513\n",
            "2020-12     516011     484209\n",
            "2021-01     534074     507374\n",
            "2021-02     496704     473026\n",
            "2021-03     590155     545344\n",
            "2021-04     875924     692723\n",
            "2021-05    1542347    1308264\n",
            "2021-06    1813172    1724476\n",
            "2021-07    1948107    1870933\n",
            "2021-08    2024030    1936347\n",
            "2021-09    1861822    1789603\n"
          ]
        },
        {
          "output_type": "stream",
          "name": "stderr",
          "text": [
            "/usr/local/lib/python3.7/dist-packages/ipykernel_launcher.py:1: SettingWithCopyWarning:\n",
            "\n",
            "\n",
            "A value is trying to be set on a copy of a slice from a DataFrame.\n",
            "Try using .loc[row_indexer,col_indexer] = value instead\n",
            "\n",
            "See the caveats in the documentation: https://pandas.pydata.org/pandas-docs/stable/user_guide/indexing.html#returning-a-view-versus-a-copy\n",
            "\n"
          ]
        }
      ]
    },
    {
      "cell_type": "code",
      "metadata": {
        "colab": {
          "base_uri": "https://localhost:8080/",
          "height": 302
        },
        "id": "BlMGVH1nZZ3w",
        "outputId": "7dfd9d57-7af4-4877-9552-3f978281f321"
      },
      "source": [
        "f.plot()\n",
        "pyplot.show()"
      ],
      "execution_count": 18,
      "outputs": [
        {
          "output_type": "display_data",
          "data": {
            "image/png": "[encoded data removed]",
            "text/plain": [
              "<Figure size 432x288 with 1 Axes>"
            ]
          },
          "metadata": {
            "needs_background": "light"
          }
        }
      ]
    },
    {
      "cell_type": "code",
      "metadata": {
        "colab": {
          "base_uri": "https://localhost:8080/",
          "height": 281
        },
        "id": "zp4CTe4piOtY",
        "outputId": "b10e5b13-a154-49a2-d54b-8cc9d169097a"
      },
      "source": [
        "from statsmodels.graphics import tsaplots\n",
        "\n",
        "# Display the autocorrelation plot of your time series\n",
        "fig = plot_acf(y['Confirmed'])\n",
        "plt.show()"
      ],
      "execution_count": 19,
      "outputs": [
        {
          "output_type": "display_data",
          "data": {
            "image/png": "[encoded data removed]",
            "text/plain": [
              "<Figure size 432x288 with 1 Axes>"
            ]
          },
          "metadata": {
            "needs_background": "light"
          }
        }
      ]
    },
    {
      "cell_type": "code",
      "metadata": {
        "colab": {
          "base_uri": "https://localhost:8080/",
          "height": 547
        },
        "id": "C-dVX3B6tSCU",
        "outputId": "2bf667dc-3eeb-4467-bfcd-7485ec2adac7"
      },
      "source": [
        "plot_acf(y['Confirmed'], lags=50)\n",
        "pyplot.show()\n",
        "x = pd.plotting.autocorrelation_plot(y['Confirmed'])\n",
        "  \n",
        "# ploting the Curve\n",
        "x.plot()\n",
        "  \n",
        "# Display\n",
        "plt.show()"
      ],
      "execution_count": 20,
      "outputs": [
        {
          "output_type": "display_data",
          "data": {
            "image/png": "[encoded data removed]",
            "text/plain": [
              "<Figure size 432x288 with 1 Axes>"
            ]
          },
          "metadata": {
            "needs_background": "light"
          }
        },
        {
          "output_type": "display_data",
          "data": {
            "image/png": "[encoded data removed]",
            "text/plain": [
              "<Figure size 432x288 with 1 Axes>"
            ]
          },
          "metadata": {
            "needs_background": "light"
          }
        }
      ]
    },
    {
      "cell_type": "markdown",
      "metadata": {
        "id": "Y7E7owN-KIKC"
      },
      "source": [
        "partial auto correlation"
      ]
    },
    {
      "cell_type": "code",
      "metadata": {
        "colab": {
          "base_uri": "https://localhost:8080/",
          "height": 281
        },
        "id": "X7fIQOubKHGs",
        "outputId": "d7b31073-e82c-47b2-f973-3ac9f0f668b3"
      },
      "source": [
        "from statsmodels.graphics.tsaplots import plot_pacf\n",
        "plot_pacf(y['Confirmed'], lags=25)\n",
        "pyplot.show()"
      ],
      "execution_count": 21,
      "outputs": [
        {
          "output_type": "display_data",
          "data": {
            "image/png": "[encoded data removed]",
            "text/plain": [
              "<Figure size 432x288 with 1 Axes>"
            ]
          },
          "metadata": {
            "needs_background": "light"
          }
        }
      ]
    },
    {
      "cell_type": "markdown",
      "metadata": {
        "id": "Cpe4SsC8AnWQ"
      },
      "source": [
        "# **New csv file**"
      ]
    },
    {
      "cell_type": "code",
      "metadata": {
        "id": "vvCH-10yzo_f",
        "colab": {
          "base_uri": "https://localhost:8080/"
        },
        "outputId": "fc0e88cd-0f68-4bbe-82fe-534e48041908"
      },
      "source": [
        "col_name = correlation_mat.columns.values.tolist()\n",
        "res = []\n",
        "for index, element in enumerate(correlation_mat['Osmanabad']):\n",
        "  if element >= 0.98:\n",
        "    res.append(col_name[index])\n",
        "\n",
        "print(res)\n",
        "fs=ds.loc[ds['District'].isin(res)]\n",
        "# fs.to_csv('cc.csv')\n",
        "# print(fs)"
      ],
      "execution_count": 22,
      "outputs": [
        {
          "output_type": "stream",
          "name": "stdout",
          "text": [
            "['Ahmednagar', 'Akola', 'Amravati', 'Aurangabad', 'Beed', 'Bhandara', 'Buldhana', 'Chandrapur', 'Dhule', 'Gondia', 'Hingoli', 'Jalna', 'Latur', 'Nagpur', 'Nandurbar', 'Nashik', 'Osmanabad', 'Palghar', 'Parbhani', 'Pune', 'Raigad', 'Sangli', 'Satara', 'Solapur', 'Washim', 'Yavatmal']\n"
          ]
        }
      ]
    },
    {
      "cell_type": "markdown",
      "metadata": {
        "id": "2M-at162iqJY"
      },
      "source": [
        "**ENTROPY CALCULATION**"
      ]
    },
    {
      "cell_type": "code",
      "metadata": {
        "colab": {
          "base_uri": "https://localhost:8080/"
        },
        "id": "iQ7w0dUXiuYl",
        "outputId": "4b64cd45-946c-40ff-c178-4def64ee4661"
      },
      "source": [
        "import pandas as pd\n",
        "\n",
        "df = pd.read_csv(r'https://raw.githubusercontent.com/shee35/ML-Dataset/main/osmanabad_Sp_Tp_data.csv')\n",
        "print (df)\n",
        "\n"
      ],
      "execution_count": 23,
      "outputs": [
        {
          "output_type": "stream",
          "name": "stdout",
          "text": [
            "     sno      Dates  Current  Temporal        Spatial\n",
            "0      1  4/26/2020        3       3.0      74.360000\n",
            "1      2  4/27/2020        3       3.0      76.692308\n",
            "2      3  4/28/2020        3       3.0      86.000000\n",
            "3      4  4/29/2020        3       3.0      88.423077\n",
            "4      5  4/30/2020        3       3.0      92.346154\n",
            "..   ...        ...      ...       ...            ...\n",
            "516  517  9/24/2021    66771   66676.2  174665.769200\n",
            "517  518  9/25/2021    66838   66729.4  174754.538500\n",
            "518  519  9/26/2021    66853   66773.8  174842.730800\n",
            "519  520  9/27/2021    66868   66812.2  174716.038500\n",
            "520  521  9/28/2021    66915   66849.0  174790.884600\n",
            "\n",
            "[521 rows x 5 columns]\n"
          ]
        }
      ]
    },
    {
      "cell_type": "code",
      "metadata": {
        "colab": {
          "base_uri": "https://localhost:8080/"
        },
        "id": "xWobEw_Pk7cp",
        "outputId": "d690b078-5b35-4ae7-ee9f-8bc6142af391"
      },
      "source": [
        "!pip install pyentrp"
      ],
      "execution_count": 24,
      "outputs": [
        {
          "output_type": "stream",
          "name": "stdout",
          "text": [
            "Collecting pyentrp\n",
            "  Downloading pyentrp-0.7.1.tar.gz (6.2 kB)\n",
            "Requirement already satisfied: numpy>=1.7.0 in /usr/local/lib/python3.7/dist-packages (from pyentrp) (1.19.5)\n",
            "Building wheels for collected packages: pyentrp\n",
            "  Building wheel for pyentrp (setup.py) ... \u001b[?25l\u001b[?25hdone\n",
            "  Created wheel for pyentrp: filename=pyentrp-0.7.1-py2.py3-none-any.whl size=6268 sha256=fb362cedb26a22cab018aaf227300bb247c6cc20315ae0aa95819f459082467f\n",
            "  Stored in directory: /root/.cache/pip/wheels/7b/03/99/c6c9772f161ba7667c2198ad2e1beee3772f6364a8c4388266\n",
            "Successfully built pyentrp\n",
            "Installing collected packages: pyentrp\n",
            "Successfully installed pyentrp-0.7.1\n"
          ]
        }
      ]
    },
    {
      "cell_type": "code",
      "metadata": {
        "colab": {
          "base_uri": "https://localhost:8080/"
        },
        "id": "-zn1fSnSmTT1",
        "outputId": "e5d832a3-e084-4a79-bf94-3e4fdb148eeb"
      },
      "source": [
        "print(df['Current'])"
      ],
      "execution_count": 25,
      "outputs": [
        {
          "output_type": "stream",
          "name": "stdout",
          "text": [
            "0          3\n",
            "1          3\n",
            "2          3\n",
            "3          3\n",
            "4          3\n",
            "       ...  \n",
            "516    66771\n",
            "517    66838\n",
            "518    66853\n",
            "519    66868\n",
            "520    66915\n",
            "Name: Current, Length: 521, dtype: int64\n"
          ]
        }
      ]
    },
    {
      "cell_type": "code",
      "metadata": {
        "colab": {
          "base_uri": "https://localhost:8080/"
        },
        "id": "F7SBg8eBrRTE",
        "outputId": "4036dea0-16b2-4c8b-b919-ca14e1c0bd70"
      },
      "source": [
        "print(df['Temporal'])"
      ],
      "execution_count": 26,
      "outputs": [
        {
          "output_type": "stream",
          "name": "stdout",
          "text": [
            "0          3.0\n",
            "1          3.0\n",
            "2          3.0\n",
            "3          3.0\n",
            "4          3.0\n",
            "        ...   \n",
            "516    66676.2\n",
            "517    66729.4\n",
            "518    66773.8\n",
            "519    66812.2\n",
            "520    66849.0\n",
            "Name: Temporal, Length: 521, dtype: float64\n"
          ]
        }
      ]
    },
    {
      "cell_type": "code",
      "metadata": {
        "id": "DHKHa8b8rVbl",
        "colab": {
          "base_uri": "https://localhost:8080/"
        },
        "outputId": "d8d20ac8-f9ad-4666-b76c-6783813b6089"
      },
      "source": [
        "print(df['Spatial'])"
      ],
      "execution_count": 27,
      "outputs": [
        {
          "output_type": "stream",
          "name": "stdout",
          "text": [
            "0          74.360000\n",
            "1          76.692308\n",
            "2          86.000000\n",
            "3          88.423077\n",
            "4          92.346154\n",
            "           ...      \n",
            "516    174665.769200\n",
            "517    174754.538500\n",
            "518    174842.730800\n",
            "519    174716.038500\n",
            "520    174790.884600\n",
            "Name: Spatial, Length: 521, dtype: float64\n"
          ]
        }
      ]
    },
    {
      "cell_type": "code",
      "metadata": {
        "colab": {
          "base_uri": "https://localhost:8080/"
        },
        "id": "iYOOAzWRk-bn",
        "outputId": "71251fb3-8e45-4562-da81-3b3a0610e3e0"
      },
      "source": [
        "from pyentrp import entropy as ent\n",
        "\n",
        "\n",
        "\n",
        "ts = df['Current']\n",
        "std_ts = np.std(ts)\n",
        "entropy_current_data = ent.permutation_entropy(ts, 3, 1, normalize=False)\n",
        "entropy_current_data\n"
      ],
      "execution_count": 28,
      "outputs": [
        {
          "output_type": "execute_result",
          "data": {
            "text/plain": [
              "0.11314736996401044"
            ]
          },
          "metadata": {},
          "execution_count": 28
        }
      ]
    },
    {
      "cell_type": "code",
      "metadata": {
        "colab": {
          "base_uri": "https://localhost:8080/"
        },
        "id": "EpmV1d4QmfVr",
        "outputId": "e94efd9d-c622-42ce-8239-b89fd82ee55e"
      },
      "source": [
        "\n",
        "ts = df['Temporal']\n",
        "std_ts = np.std(ts)\n",
        "entropy_temporal_data = ent.permutation_entropy(ts, 3, 1, normalize=False)\n",
        "entropy_temporal_data\n"
      ],
      "execution_count": 29,
      "outputs": [
        {
          "output_type": "execute_result",
          "data": {
            "text/plain": [
              "0.19527114827947303"
            ]
          },
          "metadata": {},
          "execution_count": 29
        }
      ]
    },
    {
      "cell_type": "code",
      "metadata": {
        "id": "v6oP8Z-amk72",
        "colab": {
          "base_uri": "https://localhost:8080/"
        },
        "outputId": "1e86b82c-ddc9-4e56-84d6-4f90d6284541"
      },
      "source": [
        "\n",
        "ts = df['Spatial']\n",
        "std_ts = np.std(ts)\n",
        "entropy_spatial_data = ent.permutation_entropy(ts, 3, 1, normalize=False)\n",
        "entropy_spatial_data\n"
      ],
      "execution_count": 30,
      "outputs": [
        {
          "output_type": "execute_result",
          "data": {
            "text/plain": [
              "0.040306367755142514"
            ]
          },
          "metadata": {},
          "execution_count": 30
        }
      ]
    },
    {
      "cell_type": "code",
      "metadata": {
        "colab": {
          "base_uri": "https://localhost:8080/"
        },
        "id": "G3_BkmpqmlMf",
        "outputId": "c6a53f9e-e078-47fc-f83c-72efc2ec28cb"
      },
      "source": [
        "print(\"ENTROPY OF CURRENT DATA \",entropy_current_data)\n"
      ],
      "execution_count": 31,
      "outputs": [
        {
          "output_type": "stream",
          "name": "stdout",
          "text": [
            "ENTROPY OF CURRENT DATA  0.11314736996401044\n"
          ]
        }
      ]
    },
    {
      "cell_type": "code",
      "metadata": {
        "colab": {
          "base_uri": "https://localhost:8080/"
        },
        "id": "SS8SSaH2nugc",
        "outputId": "b34e898d-8659-4d19-f78c-bc6e8c85682d"
      },
      "source": [
        "print(\"ENTROPY OF TEMPORAL DATA \",entropy_temporal_data)\n"
      ],
      "execution_count": 32,
      "outputs": [
        {
          "output_type": "stream",
          "name": "stdout",
          "text": [
            "ENTROPY OF TEMPORAL DATA  0.19527114827947303\n"
          ]
        }
      ]
    },
    {
      "cell_type": "code",
      "metadata": {
        "colab": {
          "base_uri": "https://localhost:8080/"
        },
        "id": "L5FmVDIvnwpV",
        "outputId": "7e74e3d7-1074-4bb2-ef7f-b22ecfa267e9"
      },
      "source": [
        "print(\"ENTROPY OF SPATIAL DATA \",entropy_spatial_data)"
      ],
      "execution_count": 33,
      "outputs": [
        {
          "output_type": "stream",
          "name": "stdout",
          "text": [
            "ENTROPY OF SPATIAL DATA  0.040306367755142514\n"
          ]
        }
      ]
    },
    {
      "cell_type": "code",
      "metadata": {
        "id": "P3lxJrzv7H07",
        "colab": {
          "base_uri": "https://localhost:8080/",
          "height": 417
        },
        "outputId": "6ec414e1-5290-4120-cb0c-4a3d8da909eb"
      },
      "source": [
        "df[\"Derived\"] = (df[\"Current\"]*entropy_current_data +  df[\"Spatial\"]*entropy_spatial_data + df[\"Temporal\"]* entropy_temporal_data)\n",
        "df.to_csv('newcsv.csv')\n",
        "df"
      ],
      "execution_count": 34,
      "outputs": [
        {
          "output_type": "execute_result",
          "data": {
            "text/html": [
              "<div>\n",
              "<style scoped>\n",
              "    .dataframe tbody tr th:only-of-type {\n",
              "        vertical-align: middle;\n",
              "    }\n",
              "\n",
              "    .dataframe tbody tr th {\n",
              "        vertical-align: top;\n",
              "    }\n",
              "\n",
              "    .dataframe thead th {\n",
              "        text-align: right;\n",
              "    }\n",
              "</style>\n",
              "<table border=\"1\" class=\"dataframe\">\n",
              "  <thead>\n",
              "    <tr style=\"text-align: right;\">\n",
              "      <th></th>\n",
              "      <th>sno</th>\n",
              "      <th>Dates</th>\n",
              "      <th>Current</th>\n",
              "      <th>Temporal</th>\n",
              "      <th>Spatial</th>\n",
              "      <th>Derived</th>\n",
              "    </tr>\n",
              "  </thead>\n",
              "  <tbody>\n",
              "    <tr>\n",
              "      <th>0</th>\n",
              "      <td>1</td>\n",
              "      <td>4/26/2020</td>\n",
              "      <td>3</td>\n",
              "      <td>3.0</td>\n",
              "      <td>74.360000</td>\n",
              "      <td>3.922437</td>\n",
              "    </tr>\n",
              "    <tr>\n",
              "      <th>1</th>\n",
              "      <td>2</td>\n",
              "      <td>4/27/2020</td>\n",
              "      <td>3</td>\n",
              "      <td>3.0</td>\n",
              "      <td>76.692308</td>\n",
              "      <td>4.016444</td>\n",
              "    </tr>\n",
              "    <tr>\n",
              "      <th>2</th>\n",
              "      <td>3</td>\n",
              "      <td>4/28/2020</td>\n",
              "      <td>3</td>\n",
              "      <td>3.0</td>\n",
              "      <td>86.000000</td>\n",
              "      <td>4.391603</td>\n",
              "    </tr>\n",
              "    <tr>\n",
              "      <th>3</th>\n",
              "      <td>4</td>\n",
              "      <td>4/29/2020</td>\n",
              "      <td>3</td>\n",
              "      <td>3.0</td>\n",
              "      <td>88.423077</td>\n",
              "      <td>4.489269</td>\n",
              "    </tr>\n",
              "    <tr>\n",
              "      <th>4</th>\n",
              "      <td>5</td>\n",
              "      <td>4/30/2020</td>\n",
              "      <td>3</td>\n",
              "      <td>3.0</td>\n",
              "      <td>92.346154</td>\n",
              "      <td>4.647394</td>\n",
              "    </tr>\n",
              "    <tr>\n",
              "      <th>...</th>\n",
              "      <td>...</td>\n",
              "      <td>...</td>\n",
              "      <td>...</td>\n",
              "      <td>...</td>\n",
              "      <td>...</td>\n",
              "      <td>...</td>\n",
              "    </tr>\n",
              "    <tr>\n",
              "      <th>516</th>\n",
              "      <td>517</td>\n",
              "      <td>9/24/2021</td>\n",
              "      <td>66771</td>\n",
              "      <td>66676.2</td>\n",
              "      <td>174665.769200</td>\n",
              "      <td>27615.043904</td>\n",
              "    </tr>\n",
              "    <tr>\n",
              "      <th>517</th>\n",
              "      <td>518</td>\n",
              "      <td>9/25/2021</td>\n",
              "      <td>66838</td>\n",
              "      <td>66729.4</td>\n",
              "      <td>174754.538500</td>\n",
              "      <td>27636.591171</td>\n",
              "    </tr>\n",
              "    <tr>\n",
              "      <th>518</th>\n",
              "      <td>519</td>\n",
              "      <td>9/26/2021</td>\n",
              "      <td>66853</td>\n",
              "      <td>66773.8</td>\n",
              "      <td>174842.730800</td>\n",
              "      <td>27650.513132</td>\n",
              "    </tr>\n",
              "    <tr>\n",
              "      <th>519</th>\n",
              "      <td>520</td>\n",
              "      <td>9/27/2021</td>\n",
              "      <td>66868</td>\n",
              "      <td>66812.2</td>\n",
              "      <td>174716.038500</td>\n",
              "      <td>27654.602248</td>\n",
              "    </tr>\n",
              "    <tr>\n",
              "      <th>520</th>\n",
              "      <td>521</td>\n",
              "      <td>9/28/2021</td>\n",
              "      <td>66915</td>\n",
              "      <td>66849.0</td>\n",
              "      <td>174790.884600</td>\n",
              "      <td>27670.122927</td>\n",
              "    </tr>\n",
              "  </tbody>\n",
              "</table>\n",
              "<p>521 rows × 6 columns</p>\n",
              "</div>"
            ],
            "text/plain": [
              "     sno      Dates  Current  Temporal        Spatial       Derived\n",
              "0      1  4/26/2020        3       3.0      74.360000      3.922437\n",
              "1      2  4/27/2020        3       3.0      76.692308      4.016444\n",
              "2      3  4/28/2020        3       3.0      86.000000      4.391603\n",
              "3      4  4/29/2020        3       3.0      88.423077      4.489269\n",
              "4      5  4/30/2020        3       3.0      92.346154      4.647394\n",
              "..   ...        ...      ...       ...            ...           ...\n",
              "516  517  9/24/2021    66771   66676.2  174665.769200  27615.043904\n",
              "517  518  9/25/2021    66838   66729.4  174754.538500  27636.591171\n",
              "518  519  9/26/2021    66853   66773.8  174842.730800  27650.513132\n",
              "519  520  9/27/2021    66868   66812.2  174716.038500  27654.602248\n",
              "520  521  9/28/2021    66915   66849.0  174790.884600  27670.122927\n",
              "\n",
              "[521 rows x 6 columns]"
            ]
          },
          "metadata": {},
          "execution_count": 34
        }
      ]
    },
    {
      "cell_type": "markdown",
      "metadata": {
        "id": "fmHbDNH7NBZU"
      },
      "source": [
        "# **ADF(Augmented Dickey–Fuller) Testing**"
      ]
    },
    {
      "cell_type": "code",
      "metadata": {
        "id": "-gx32jF0NQfP"
      },
      "source": [
        "import statsmodels\n",
        "from statsmodels.tsa.stattools import adfuller\n",
        "import pandas as pd"
      ],
      "execution_count": 35,
      "outputs": []
    },
    {
      "cell_type": "code",
      "metadata": {
        "id": "fTqiUTJnNivD",
        "colab": {
          "base_uri": "https://localhost:8080/"
        },
        "outputId": "c290490c-d8c7-4389-f449-f325dc91fffc"
      },
      "source": [
        "result = adfuller(df['Derived'], autolag='AIC')\n",
        "print(f'ADF Statistic: {result[0]}')\n",
        "print(f'n_lags: {result[2]}')\n",
        "print(f'p-value: {result[1]}')\n",
        "print(f'observations used: {result[3]}')\n",
        "for key, value in result[4].items():\n",
        "    print('Critial Values:')\n",
        "    print(f'   {key}: {value}') "
      ],
      "execution_count": 36,
      "outputs": [
        {
          "output_type": "stream",
          "name": "stdout",
          "text": [
            "ADF Statistic: -0.27925597101134114\n",
            "n_lags: 17\n",
            "p-value: 0.928391356920488\n",
            "observations used: 503\n",
            "Critial Values:\n",
            "   1%: -3.4434175660489905\n",
            "Critial Values:\n",
            "   5%: -2.8673031724657454\n",
            "Critial Values:\n",
            "   10%: -2.5698395516760275\n"
          ]
        }
      ]
    },
    {
      "cell_type": "markdown",
      "metadata": {
        "id": "-F7K13DPXxNS"
      },
      "source": [
        "Here the value of ADF static is lower than any of the critical values but the value of p is higher than the significance level of 0.05.\n",
        "So, it is not a stationary series. "
      ]
    },
    {
      "cell_type": "code",
      "metadata": {
        "id": "OhJz6_hzUTH9",
        "colab": {
          "base_uri": "https://localhost:8080/",
          "height": 265
        },
        "outputId": "aac7f509-8942-45ce-e32c-aa3e0a3faad1"
      },
      "source": [
        "\n",
        "from pandas import read_csv\n",
        "from matplotlib import pyplot\n",
        "series = read_csv('https://raw.githubusercontent.com/Jyotika999/MINI-PROJECT-/main/districts%20(1).csv', header=0, index_col=0)\n",
        "df.plot()\n",
        "pyplot.show()"
      ],
      "execution_count": 37,
      "outputs": [
        {
          "output_type": "display_data",
          "data": {
            "image/png": "[encoded data removed]",
            "text/plain": [
              "<Figure size 432x288 with 1 Axes>"
            ]
          },
          "metadata": {
            "needs_background": "light"
          }
        }
      ]
    },
    {
      "cell_type": "code",
      "metadata": {
        "id": "fVuiHpowXw6W",
        "colab": {
          "base_uri": "https://localhost:8080/"
        },
        "outputId": "805e60c3-6dc1-4f8f-ea0e-011020ef3285"
      },
      "source": [
        "# f grouped monthly data of osmanabad \n",
        "print(f)\n",
        "f.to_csv('GROUPED_OSMANABAD.csv')"
      ],
      "execution_count": 38,
      "outputs": [
        {
          "output_type": "stream",
          "name": "stdout",
          "text": [
            "         Confirmed  Recovered\n",
            "Date                         \n",
            "2020-04         15         15\n",
            "2020-05        579        162\n",
            "2020-06       4531       3114\n",
            "2020-07      14731       9329\n",
            "2020-08     109901      58795\n",
            "2020-09     279228     191789\n",
            "2020-10     443076     360830\n",
            "2020-11     475885     427513\n",
            "2020-12     516011     484209\n",
            "2021-01     534074     507374\n",
            "2021-02     496704     473026\n",
            "2021-03     590155     545344\n",
            "2021-04     875924     692723\n",
            "2021-05    1542347    1308264\n",
            "2021-06    1813172    1724476\n",
            "2021-07    1948107    1870933\n",
            "2021-08    2024030    1936347\n",
            "2021-09    1861822    1789603\n"
          ]
        }
      ]
    },
    {
      "cell_type": "code",
      "metadata": {
        "id": "UwHPe9Lga4hh"
      },
      "source": [
        "hotspot = pd.read_csv('/content/GROUPED_OSMANABAD.csv')"
      ],
      "execution_count": 39,
      "outputs": []
    },
    {
      "cell_type": "code",
      "metadata": {
        "colab": {
          "base_uri": "https://localhost:8080/",
          "height": 203
        },
        "id": "P9KcZue7bFCS",
        "outputId": "7a2b6fc9-cf4e-4784-e5c9-648061a23e77"
      },
      "source": [
        "hotspot.head()"
      ],
      "execution_count": 40,
      "outputs": [
        {
          "output_type": "execute_result",
          "data": {
            "text/html": [
              "<div>\n",
              "<style scoped>\n",
              "    .dataframe tbody tr th:only-of-type {\n",
              "        vertical-align: middle;\n",
              "    }\n",
              "\n",
              "    .dataframe tbody tr th {\n",
              "        vertical-align: top;\n",
              "    }\n",
              "\n",
              "    .dataframe thead th {\n",
              "        text-align: right;\n",
              "    }\n",
              "</style>\n",
              "<table border=\"1\" class=\"dataframe\">\n",
              "  <thead>\n",
              "    <tr style=\"text-align: right;\">\n",
              "      <th></th>\n",
              "      <th>Date</th>\n",
              "      <th>Confirmed</th>\n",
              "      <th>Recovered</th>\n",
              "    </tr>\n",
              "  </thead>\n",
              "  <tbody>\n",
              "    <tr>\n",
              "      <th>0</th>\n",
              "      <td>2020-04</td>\n",
              "      <td>15</td>\n",
              "      <td>15</td>\n",
              "    </tr>\n",
              "    <tr>\n",
              "      <th>1</th>\n",
              "      <td>2020-05</td>\n",
              "      <td>579</td>\n",
              "      <td>162</td>\n",
              "    </tr>\n",
              "    <tr>\n",
              "      <th>2</th>\n",
              "      <td>2020-06</td>\n",
              "      <td>4531</td>\n",
              "      <td>3114</td>\n",
              "    </tr>\n",
              "    <tr>\n",
              "      <th>3</th>\n",
              "      <td>2020-07</td>\n",
              "      <td>14731</td>\n",
              "      <td>9329</td>\n",
              "    </tr>\n",
              "    <tr>\n",
              "      <th>4</th>\n",
              "      <td>2020-08</td>\n",
              "      <td>109901</td>\n",
              "      <td>58795</td>\n",
              "    </tr>\n",
              "  </tbody>\n",
              "</table>\n",
              "</div>"
            ],
            "text/plain": [
              "      Date  Confirmed  Recovered\n",
              "0  2020-04         15         15\n",
              "1  2020-05        579        162\n",
              "2  2020-06       4531       3114\n",
              "3  2020-07      14731       9329\n",
              "4  2020-08     109901      58795"
            ]
          },
          "metadata": {},
          "execution_count": 40
        }
      ]
    },
    {
      "cell_type": "code",
      "metadata": {
        "colab": {
          "base_uri": "https://localhost:8080/",
          "height": 203
        },
        "id": "B9mGuRWabH9Z",
        "outputId": "24d923bf-4324-4907-a7a3-bc59f79032b8"
      },
      "source": [
        "hotspot.tail()"
      ],
      "execution_count": 41,
      "outputs": [
        {
          "output_type": "execute_result",
          "data": {
            "text/html": [
              "<div>\n",
              "<style scoped>\n",
              "    .dataframe tbody tr th:only-of-type {\n",
              "        vertical-align: middle;\n",
              "    }\n",
              "\n",
              "    .dataframe tbody tr th {\n",
              "        vertical-align: top;\n",
              "    }\n",
              "\n",
              "    .dataframe thead th {\n",
              "        text-align: right;\n",
              "    }\n",
              "</style>\n",
              "<table border=\"1\" class=\"dataframe\">\n",
              "  <thead>\n",
              "    <tr style=\"text-align: right;\">\n",
              "      <th></th>\n",
              "      <th>Date</th>\n",
              "      <th>Confirmed</th>\n",
              "      <th>Recovered</th>\n",
              "    </tr>\n",
              "  </thead>\n",
              "  <tbody>\n",
              "    <tr>\n",
              "      <th>13</th>\n",
              "      <td>2021-05</td>\n",
              "      <td>1542347</td>\n",
              "      <td>1308264</td>\n",
              "    </tr>\n",
              "    <tr>\n",
              "      <th>14</th>\n",
              "      <td>2021-06</td>\n",
              "      <td>1813172</td>\n",
              "      <td>1724476</td>\n",
              "    </tr>\n",
              "    <tr>\n",
              "      <th>15</th>\n",
              "      <td>2021-07</td>\n",
              "      <td>1948107</td>\n",
              "      <td>1870933</td>\n",
              "    </tr>\n",
              "    <tr>\n",
              "      <th>16</th>\n",
              "      <td>2021-08</td>\n",
              "      <td>2024030</td>\n",
              "      <td>1936347</td>\n",
              "    </tr>\n",
              "    <tr>\n",
              "      <th>17</th>\n",
              "      <td>2021-09</td>\n",
              "      <td>1861822</td>\n",
              "      <td>1789603</td>\n",
              "    </tr>\n",
              "  </tbody>\n",
              "</table>\n",
              "</div>"
            ],
            "text/plain": [
              "       Date  Confirmed  Recovered\n",
              "13  2021-05    1542347    1308264\n",
              "14  2021-06    1813172    1724476\n",
              "15  2021-07    1948107    1870933\n",
              "16  2021-08    2024030    1936347\n",
              "17  2021-09    1861822    1789603"
            ]
          },
          "metadata": {},
          "execution_count": 41
        }
      ]
    },
    {
      "cell_type": "code",
      "metadata": {
        "colab": {
          "base_uri": "https://localhost:8080/",
          "height": 293
        },
        "id": "YcpTvdMgbKy2",
        "outputId": "a4b34cb0-dd76-4537-f599-4389ab803c46"
      },
      "source": [
        "\n",
        "plt.plot(hotspot[\"Confirmed\"])"
      ],
      "execution_count": 42,
      "outputs": [
        {
          "output_type": "execute_result",
          "data": {
            "text/plain": [
              "[<matplotlib.lines.Line2D at 0x7ff9cbfa1890>]"
            ]
          },
          "metadata": {},
          "execution_count": 42
        },
        {
          "output_type": "display_data",
          "data": {
            "image/png": "[encoded data removed]",
            "text/plain": [
              "<Figure size 432x288 with 1 Axes>"
            ]
          },
          "metadata": {
            "needs_background": "light"
          }
        }
      ]
    },
    {
      "cell_type": "code",
      "metadata": {
        "colab": {
          "base_uri": "https://localhost:8080/"
        },
        "id": "vXg2IpOkbStU",
        "outputId": "0900681d-fa7b-483d-8cc0-b5a664fc4c94"
      },
      "source": [
        "\n",
        "X = hotspot[\"Confirmed\"].values\n",
        "result = adfuller(X)\n",
        "print('ADF Statistic: %f' % result[0])\n",
        "print('p-value: %f' % result[1])\n",
        "print('Critical Values:')\n",
        "for key, value in result[4].items():\n",
        "    print('\\t%s: %.3f' % (key, value))\n",
        "\n",
        "if result[0] < result[4][\"5%\"]:\n",
        "    print (\"Reject Ho - Time Series is Stationary\")\n",
        "else:\n",
        "    print (\"Failed to Reject Ho - Time Series is Non-Stationary\")"
      ],
      "execution_count": 43,
      "outputs": [
        {
          "output_type": "stream",
          "name": "stdout",
          "text": [
            "ADF Statistic: 8.152874\n",
            "p-value: 1.000000\n",
            "Critical Values:\n",
            "\t1%: -4.332\n",
            "\t5%: -3.233\n",
            "\t10%: -2.749\n",
            "Failed to Reject Ho - Time Series is Non-Stationary\n"
          ]
        }
      ]
    },
    {
      "cell_type": "markdown",
      "metadata": {
        "id": "sMB-WI1zb2BG"
      },
      "source": [
        "The P-value is just over 0.99, providing strong evidence that the dataset isn’t stationary.\n"
      ]
    },
    {
      "cell_type": "markdown",
      "metadata": {
        "id": "onw2CHCJc6ei"
      },
      "source": [
        "MANUAL TESTING OF DIFFERENT DIFFERENCING ORDERS"
      ]
    },
    {
      "cell_type": "code",
      "metadata": {
        "colab": {
          "base_uri": "https://localhost:8080/",
          "height": 286
        },
        "id": "3lBDGjdWbdQc",
        "outputId": "5bf86eb8-3d02-41f0-ca8c-fe2f6009537b"
      },
      "source": [
        "# First and second order difference\n",
        "hotspot['hotspot_Diff1'] = hotspot['Confirmed'].diff()\n",
        "hotspot['hotspot_Diff2'] = hotspot['Confirmed'].diff(2)\n",
        "\n",
        "# Don't forget to drop missing values\n",
        "hotspot = hotspot.dropna()\n",
        "\n",
        "# Plot\n",
        "plt.title('OSMANABAD CONFIRMED CASES dataset with First and Second order difference', size=20)\n",
        "plt.plot(hotspot['Confirmed'], label='Confirmed')\n",
        "plt.plot(hotspot['hotspot_Diff1'], label='First-order difference', color='orange')\n",
        "plt.plot(hotspot['hotspot_Diff2'], label='Second-order difference', color='green')\n",
        "plt.legend();"
      ],
      "execution_count": 44,
      "outputs": [
        {
          "output_type": "display_data",
          "data": {
            "image/png": "[encoded data removed]",
            "text/plain": [
              "<Figure size 432x288 with 1 Axes>"
            ]
          },
          "metadata": {
            "needs_background": "light"
          }
        }
      ]
    },
    {
      "cell_type": "code",
      "metadata": {
        "id": "I7_II7XIc4UG"
      },
      "source": [
        ""
      ],
      "execution_count": 44,
      "outputs": []
    },
    {
      "cell_type": "code",
      "metadata": {
        "colab": {
          "base_uri": "https://localhost:8080/"
        },
        "id": "Pumg4W4acljQ",
        "outputId": "c8abc3b7-7caa-4399-9602-8b0f62e85e65"
      },
      "source": [
        "# Perform ADF test\n",
        "adf_diff_1 = adfuller(hotspot['hotspot_Diff1'])\n",
        "adf_diff_2 = adfuller(hotspot['hotspot_Diff2'])\n",
        "\n",
        "# Extract P-values\n",
        "p_1 = adf_diff_1[1]\n",
        "p_2 = adf_diff_2[1]\n",
        "\n",
        "# Print\n",
        "print(f'P-value for 1st order difference: {np.round(p_1, 5)}')\n",
        "print(f'P-value for 2nd order difference: {np.round(p_2, 5)}')"
      ],
      "execution_count": 45,
      "outputs": [
        {
          "output_type": "stream",
          "name": "stdout",
          "text": [
            "P-value for 1st order difference: 1.0\n",
            "P-value for 2nd order difference: 0.99908\n"
          ]
        }
      ]
    },
    {
      "cell_type": "markdown",
      "metadata": {
        "id": "743VSdblb4Pt"
      },
      "source": [
        "# **KPSS (Kwiatkowski–Phillips–Schmidt–Shin ) Test**"
      ]
    },
    {
      "cell_type": "code",
      "metadata": {
        "id": "LhjOyrHEb3Qr",
        "colab": {
          "base_uri": "https://localhost:8080/"
        },
        "outputId": "8392311e-59d5-47d6-f08f-1ebc97e91fd6"
      },
      "source": [
        "from statsmodels.tsa.stattools import kpss\n",
        "def kpss_test(timeseries):\n",
        "    print ('Results of KPSS Test:')\n",
        "    kpsstest = kpss(timeseries, regression='c')\n",
        "    kpss_output = pd.Series(kpsstest[0:3], index=['Test Statistic','p-value','#Lags Used'])\n",
        "    for key,value in kpsstest[3].items():\n",
        "        kpss_output['Critical Value (%s)'%key] = value\n",
        "    print (kpss_output)\n",
        "\n",
        "kpss_test(y['Confirmed'])\n"
      ],
      "execution_count": 46,
      "outputs": [
        {
          "output_type": "stream",
          "name": "stdout",
          "text": [
            "Results of KPSS Test:\n",
            "Test Statistic            2.413577\n",
            "p-value                   0.010000\n",
            "#Lags Used               19.000000\n",
            "Critical Value (10%)      0.347000\n",
            "Critical Value (5%)       0.463000\n",
            "Critical Value (2.5%)     0.574000\n",
            "Critical Value (1%)       0.739000\n",
            "dtype: float64\n"
          ]
        },
        {
          "output_type": "stream",
          "name": "stderr",
          "text": [
            "/usr/local/lib/python3.7/dist-packages/statsmodels/tsa/stattools.py:1685: FutureWarning:\n",
            "\n",
            "The behavior of using lags=None will change in the next release. Currently lags=None is the same as lags='legacy', and so a sample-size lag length is used. After the next release, the default will change to be the same as lags='auto' which uses an automatic lag length selection method. To silence this warning, either use 'auto' or 'legacy'\n",
            "\n",
            "/usr/local/lib/python3.7/dist-packages/statsmodels/tsa/stattools.py:1709: InterpolationWarning:\n",
            "\n",
            "p-value is smaller than the indicated p-value\n",
            "\n"
          ]
        }
      ]
    },
    {
      "cell_type": "markdown",
      "metadata": {
        "id": "BD0WiJijZ9-j"
      },
      "source": [
        "**WORKING WITH CORRELATION MATRIX OF PUNE**\n",
        "\n",
        "---\n",
        "\n",
        "\n"
      ]
    },
    {
      "cell_type": "code",
      "metadata": {
        "id": "B02ZrdctaBMf"
      },
      "source": [
        "pune_corr = pd.read_csv('CORRELATION_PUNE.csv')"
      ],
      "execution_count": 47,
      "outputs": []
    },
    {
      "cell_type": "code",
      "metadata": {
        "colab": {
          "base_uri": "https://localhost:8080/",
          "height": 1000
        },
        "id": "ysd_4c-uaLt2",
        "outputId": "bb29024f-3d80-43ef-c3fa-43a4744baf24"
      },
      "source": [
        "pune_corr"
      ],
      "execution_count": 48,
      "outputs": [
        {
          "output_type": "execute_result",
          "data": {
            "text/html": [
              "<div>\n",
              "<style scoped>\n",
              "    .dataframe tbody tr th:only-of-type {\n",
              "        vertical-align: middle;\n",
              "    }\n",
              "\n",
              "    .dataframe tbody tr th {\n",
              "        vertical-align: top;\n",
              "    }\n",
              "\n",
              "    .dataframe thead th {\n",
              "        text-align: right;\n",
              "    }\n",
              "</style>\n",
              "<table border=\"1\" class=\"dataframe\">\n",
              "  <thead>\n",
              "    <tr style=\"text-align: right;\">\n",
              "      <th></th>\n",
              "      <th>District</th>\n",
              "      <th>Ahmednagar</th>\n",
              "      <th>Akola</th>\n",
              "      <th>Amravati</th>\n",
              "      <th>Aurangabad</th>\n",
              "      <th>Beed</th>\n",
              "      <th>Bhandara</th>\n",
              "      <th>Buldhana</th>\n",
              "      <th>Chandrapur</th>\n",
              "      <th>Dhule</th>\n",
              "      <th>Gadchiroli</th>\n",
              "      <th>Gondia</th>\n",
              "      <th>Hingoli</th>\n",
              "      <th>Jalgaon</th>\n",
              "      <th>Jalna</th>\n",
              "      <th>Kolhapur</th>\n",
              "      <th>Latur</th>\n",
              "      <th>Mumbai</th>\n",
              "      <th>Nagpur</th>\n",
              "      <th>Nanded</th>\n",
              "      <th>Nandurbar</th>\n",
              "      <th>Nashik</th>\n",
              "      <th>Osmanabad</th>\n",
              "      <th>Other State</th>\n",
              "      <th>Palghar</th>\n",
              "      <th>Parbhani</th>\n",
              "      <th>Pune</th>\n",
              "      <th>Raigad</th>\n",
              "      <th>Ratnagiri</th>\n",
              "      <th>Sangli</th>\n",
              "      <th>Satara</th>\n",
              "      <th>Sindhudurg</th>\n",
              "      <th>Solapur</th>\n",
              "      <th>Thane</th>\n",
              "      <th>Wardha</th>\n",
              "      <th>Washim</th>\n",
              "      <th>Yavatmal</th>\n",
              "    </tr>\n",
              "  </thead>\n",
              "  <tbody>\n",
              "    <tr>\n",
              "      <th>0</th>\n",
              "      <td>Ahmednagar</td>\n",
              "      <td>1.000000</td>\n",
              "      <td>0.986128</td>\n",
              "      <td>0.985843</td>\n",
              "      <td>0.982064</td>\n",
              "      <td>0.996834</td>\n",
              "      <td>0.982997</td>\n",
              "      <td>0.992560</td>\n",
              "      <td>0.991879</td>\n",
              "      <td>0.976636</td>\n",
              "      <td>0.974681</td>\n",
              "      <td>0.982518</td>\n",
              "      <td>0.990836</td>\n",
              "      <td>0.963278</td>\n",
              "      <td>0.990143</td>\n",
              "      <td>0.969746</td>\n",
              "      <td>0.988871</td>\n",
              "      <td>0.971909</td>\n",
              "      <td>0.981351</td>\n",
              "      <td>0.976189</td>\n",
              "      <td>0.979905</td>\n",
              "      <td>0.988894</td>\n",
              "      <td>0.997687</td>\n",
              "      <td>-0.306145</td>\n",
              "      <td>0.990593</td>\n",
              "      <td>0.987949</td>\n",
              "      <td>0.986109</td>\n",
              "      <td>0.988025</td>\n",
              "      <td>0.976825</td>\n",
              "      <td>0.984886</td>\n",
              "      <td>0.993625</td>\n",
              "      <td>0.966597</td>\n",
              "      <td>0.998588</td>\n",
              "      <td>0.966093</td>\n",
              "      <td>0.970262</td>\n",
              "      <td>0.990575</td>\n",
              "      <td>0.991715</td>\n",
              "    </tr>\n",
              "    <tr>\n",
              "      <th>1</th>\n",
              "      <td>Akola</td>\n",
              "      <td>0.986128</td>\n",
              "      <td>1.000000</td>\n",
              "      <td>0.996700</td>\n",
              "      <td>0.991211</td>\n",
              "      <td>0.988576</td>\n",
              "      <td>0.991581</td>\n",
              "      <td>0.994658</td>\n",
              "      <td>0.990689</td>\n",
              "      <td>0.984921</td>\n",
              "      <td>0.985654</td>\n",
              "      <td>0.983665</td>\n",
              "      <td>0.995892</td>\n",
              "      <td>0.969553</td>\n",
              "      <td>0.997045</td>\n",
              "      <td>0.929229</td>\n",
              "      <td>0.991816</td>\n",
              "      <td>0.979836</td>\n",
              "      <td>0.993173</td>\n",
              "      <td>0.991145</td>\n",
              "      <td>0.994662</td>\n",
              "      <td>0.993037</td>\n",
              "      <td>0.986810</td>\n",
              "      <td>-0.366996</td>\n",
              "      <td>0.977918</td>\n",
              "      <td>0.992108</td>\n",
              "      <td>0.985206</td>\n",
              "      <td>0.972225</td>\n",
              "      <td>0.944904</td>\n",
              "      <td>0.949509</td>\n",
              "      <td>0.966662</td>\n",
              "      <td>0.933687</td>\n",
              "      <td>0.980273</td>\n",
              "      <td>0.968898</td>\n",
              "      <td>0.991873</td>\n",
              "      <td>0.998342</td>\n",
              "      <td>0.996850</td>\n",
              "    </tr>\n",
              "    <tr>\n",
              "      <th>2</th>\n",
              "      <td>Amravati</td>\n",
              "      <td>0.985843</td>\n",
              "      <td>0.996700</td>\n",
              "      <td>1.000000</td>\n",
              "      <td>0.992108</td>\n",
              "      <td>0.983745</td>\n",
              "      <td>0.985739</td>\n",
              "      <td>0.989595</td>\n",
              "      <td>0.989484</td>\n",
              "      <td>0.987964</td>\n",
              "      <td>0.985713</td>\n",
              "      <td>0.986782</td>\n",
              "      <td>0.992231</td>\n",
              "      <td>0.977534</td>\n",
              "      <td>0.992498</td>\n",
              "      <td>0.934479</td>\n",
              "      <td>0.989413</td>\n",
              "      <td>0.984044</td>\n",
              "      <td>0.992290</td>\n",
              "      <td>0.987013</td>\n",
              "      <td>0.990422</td>\n",
              "      <td>0.993163</td>\n",
              "      <td>0.987155</td>\n",
              "      <td>-0.352219</td>\n",
              "      <td>0.981918</td>\n",
              "      <td>0.983068</td>\n",
              "      <td>0.989044</td>\n",
              "      <td>0.979487</td>\n",
              "      <td>0.942530</td>\n",
              "      <td>0.955136</td>\n",
              "      <td>0.969686</td>\n",
              "      <td>0.930599</td>\n",
              "      <td>0.982777</td>\n",
              "      <td>0.976537</td>\n",
              "      <td>0.987552</td>\n",
              "      <td>0.993350</td>\n",
              "      <td>0.992969</td>\n",
              "    </tr>\n",
              "    <tr>\n",
              "      <th>3</th>\n",
              "      <td>Aurangabad</td>\n",
              "      <td>0.982064</td>\n",
              "      <td>0.991211</td>\n",
              "      <td>0.992108</td>\n",
              "      <td>1.000000</td>\n",
              "      <td>0.977063</td>\n",
              "      <td>0.989343</td>\n",
              "      <td>0.981235</td>\n",
              "      <td>0.988625</td>\n",
              "      <td>0.998747</td>\n",
              "      <td>0.995575</td>\n",
              "      <td>0.992622</td>\n",
              "      <td>0.993774</td>\n",
              "      <td>0.992163</td>\n",
              "      <td>0.993006</td>\n",
              "      <td>0.925549</td>\n",
              "      <td>0.994817</td>\n",
              "      <td>0.996687</td>\n",
              "      <td>0.996818</td>\n",
              "      <td>0.995597</td>\n",
              "      <td>0.994589</td>\n",
              "      <td>0.997875</td>\n",
              "      <td>0.986430</td>\n",
              "      <td>-0.293603</td>\n",
              "      <td>0.988683</td>\n",
              "      <td>0.981132</td>\n",
              "      <td>0.997714</td>\n",
              "      <td>0.985710</td>\n",
              "      <td>0.927080</td>\n",
              "      <td>0.948536</td>\n",
              "      <td>0.961913</td>\n",
              "      <td>0.911688</td>\n",
              "      <td>0.979671</td>\n",
              "      <td>0.992028</td>\n",
              "      <td>0.989254</td>\n",
              "      <td>0.988083</td>\n",
              "      <td>0.987427</td>\n",
              "    </tr>\n",
              "    <tr>\n",
              "      <th>4</th>\n",
              "      <td>Beed</td>\n",
              "      <td>0.996834</td>\n",
              "      <td>0.988576</td>\n",
              "      <td>0.983745</td>\n",
              "      <td>0.977063</td>\n",
              "      <td>1.000000</td>\n",
              "      <td>0.985526</td>\n",
              "      <td>0.997456</td>\n",
              "      <td>0.992378</td>\n",
              "      <td>0.969417</td>\n",
              "      <td>0.966192</td>\n",
              "      <td>0.977679</td>\n",
              "      <td>0.992126</td>\n",
              "      <td>0.951447</td>\n",
              "      <td>0.992211</td>\n",
              "      <td>0.961647</td>\n",
              "      <td>0.988265</td>\n",
              "      <td>0.962891</td>\n",
              "      <td>0.979634</td>\n",
              "      <td>0.975433</td>\n",
              "      <td>0.980158</td>\n",
              "      <td>0.985904</td>\n",
              "      <td>0.995404</td>\n",
              "      <td>-0.328654</td>\n",
              "      <td>0.983058</td>\n",
              "      <td>0.994762</td>\n",
              "      <td>0.978022</td>\n",
              "      <td>0.976689</td>\n",
              "      <td>0.977375</td>\n",
              "      <td>0.975745</td>\n",
              "      <td>0.987751</td>\n",
              "      <td>0.968325</td>\n",
              "      <td>0.992904</td>\n",
              "      <td>0.953499</td>\n",
              "      <td>0.969641</td>\n",
              "      <td>0.994608</td>\n",
              "      <td>0.995440</td>\n",
              "    </tr>\n",
              "    <tr>\n",
              "      <th>5</th>\n",
              "      <td>Bhandara</td>\n",
              "      <td>0.982997</td>\n",
              "      <td>0.991581</td>\n",
              "      <td>0.985739</td>\n",
              "      <td>0.989343</td>\n",
              "      <td>0.985526</td>\n",
              "      <td>1.000000</td>\n",
              "      <td>0.988069</td>\n",
              "      <td>0.994390</td>\n",
              "      <td>0.983752</td>\n",
              "      <td>0.989908</td>\n",
              "      <td>0.991113</td>\n",
              "      <td>0.997178</td>\n",
              "      <td>0.968986</td>\n",
              "      <td>0.997420</td>\n",
              "      <td>0.914352</td>\n",
              "      <td>0.996873</td>\n",
              "      <td>0.981919</td>\n",
              "      <td>0.996260</td>\n",
              "      <td>0.995533</td>\n",
              "      <td>0.996805</td>\n",
              "      <td>0.994543</td>\n",
              "      <td>0.984946</td>\n",
              "      <td>-0.347743</td>\n",
              "      <td>0.976211</td>\n",
              "      <td>0.994381</td>\n",
              "      <td>0.984790</td>\n",
              "      <td>0.968484</td>\n",
              "      <td>0.931400</td>\n",
              "      <td>0.939940</td>\n",
              "      <td>0.958118</td>\n",
              "      <td>0.917785</td>\n",
              "      <td>0.974924</td>\n",
              "      <td>0.970292</td>\n",
              "      <td>0.992732</td>\n",
              "      <td>0.993595</td>\n",
              "      <td>0.993508</td>\n",
              "    </tr>\n",
              "    <tr>\n",
              "      <th>6</th>\n",
              "      <td>Buldhana</td>\n",
              "      <td>0.992560</td>\n",
              "      <td>0.994658</td>\n",
              "      <td>0.989595</td>\n",
              "      <td>0.981235</td>\n",
              "      <td>0.997456</td>\n",
              "      <td>0.988069</td>\n",
              "      <td>1.000000</td>\n",
              "      <td>0.993085</td>\n",
              "      <td>0.973703</td>\n",
              "      <td>0.970886</td>\n",
              "      <td>0.979332</td>\n",
              "      <td>0.994298</td>\n",
              "      <td>0.955526</td>\n",
              "      <td>0.995064</td>\n",
              "      <td>0.947365</td>\n",
              "      <td>0.989433</td>\n",
              "      <td>0.966570</td>\n",
              "      <td>0.984360</td>\n",
              "      <td>0.980453</td>\n",
              "      <td>0.985390</td>\n",
              "      <td>0.988328</td>\n",
              "      <td>0.992505</td>\n",
              "      <td>-0.352935</td>\n",
              "      <td>0.979545</td>\n",
              "      <td>0.995959</td>\n",
              "      <td>0.978765</td>\n",
              "      <td>0.971991</td>\n",
              "      <td>0.965762</td>\n",
              "      <td>0.963643</td>\n",
              "      <td>0.978872</td>\n",
              "      <td>0.956158</td>\n",
              "      <td>0.987546</td>\n",
              "      <td>0.955853</td>\n",
              "      <td>0.977443</td>\n",
              "      <td>0.998202</td>\n",
              "      <td>0.998270</td>\n",
              "    </tr>\n",
              "    <tr>\n",
              "      <th>7</th>\n",
              "      <td>Chandrapur</td>\n",
              "      <td>0.991879</td>\n",
              "      <td>0.990689</td>\n",
              "      <td>0.989484</td>\n",
              "      <td>0.988625</td>\n",
              "      <td>0.992378</td>\n",
              "      <td>0.994390</td>\n",
              "      <td>0.993085</td>\n",
              "      <td>1.000000</td>\n",
              "      <td>0.984005</td>\n",
              "      <td>0.982556</td>\n",
              "      <td>0.995017</td>\n",
              "      <td>0.997107</td>\n",
              "      <td>0.972316</td>\n",
              "      <td>0.996434</td>\n",
              "      <td>0.938852</td>\n",
              "      <td>0.996700</td>\n",
              "      <td>0.981271</td>\n",
              "      <td>0.993044</td>\n",
              "      <td>0.987088</td>\n",
              "      <td>0.989471</td>\n",
              "      <td>0.996031</td>\n",
              "      <td>0.994779</td>\n",
              "      <td>-0.324207</td>\n",
              "      <td>0.987518</td>\n",
              "      <td>0.992683</td>\n",
              "      <td>0.988900</td>\n",
              "      <td>0.981048</td>\n",
              "      <td>0.950227</td>\n",
              "      <td>0.960732</td>\n",
              "      <td>0.975056</td>\n",
              "      <td>0.937048</td>\n",
              "      <td>0.988066</td>\n",
              "      <td>0.973826</td>\n",
              "      <td>0.981006</td>\n",
              "      <td>0.994183</td>\n",
              "      <td>0.996604</td>\n",
              "    </tr>\n",
              "    <tr>\n",
              "      <th>8</th>\n",
              "      <td>Dhule</td>\n",
              "      <td>0.976636</td>\n",
              "      <td>0.984921</td>\n",
              "      <td>0.987964</td>\n",
              "      <td>0.998747</td>\n",
              "      <td>0.969417</td>\n",
              "      <td>0.983752</td>\n",
              "      <td>0.973703</td>\n",
              "      <td>0.984005</td>\n",
              "      <td>1.000000</td>\n",
              "      <td>0.993805</td>\n",
              "      <td>0.991488</td>\n",
              "      <td>0.989155</td>\n",
              "      <td>0.996621</td>\n",
              "      <td>0.987519</td>\n",
              "      <td>0.921054</td>\n",
              "      <td>0.991776</td>\n",
              "      <td>0.997390</td>\n",
              "      <td>0.993954</td>\n",
              "      <td>0.992682</td>\n",
              "      <td>0.990135</td>\n",
              "      <td>0.995523</td>\n",
              "      <td>0.983030</td>\n",
              "      <td>-0.266250</td>\n",
              "      <td>0.988088</td>\n",
              "      <td>0.973378</td>\n",
              "      <td>0.997912</td>\n",
              "      <td>0.986149</td>\n",
              "      <td>0.917403</td>\n",
              "      <td>0.944512</td>\n",
              "      <td>0.956601</td>\n",
              "      <td>0.900750</td>\n",
              "      <td>0.975568</td>\n",
              "      <td>0.995090</td>\n",
              "      <td>0.983885</td>\n",
              "      <td>0.981254</td>\n",
              "      <td>0.980849</td>\n",
              "    </tr>\n",
              "    <tr>\n",
              "      <th>9</th>\n",
              "      <td>Gadchiroli</td>\n",
              "      <td>0.974681</td>\n",
              "      <td>0.985654</td>\n",
              "      <td>0.985713</td>\n",
              "      <td>0.995575</td>\n",
              "      <td>0.966192</td>\n",
              "      <td>0.989908</td>\n",
              "      <td>0.970886</td>\n",
              "      <td>0.982556</td>\n",
              "      <td>0.993805</td>\n",
              "      <td>1.000000</td>\n",
              "      <td>0.990675</td>\n",
              "      <td>0.988575</td>\n",
              "      <td>0.985555</td>\n",
              "      <td>0.988462</td>\n",
              "      <td>0.898419</td>\n",
              "      <td>0.990214</td>\n",
              "      <td>0.993929</td>\n",
              "      <td>0.996629</td>\n",
              "      <td>0.997044</td>\n",
              "      <td>0.995386</td>\n",
              "      <td>0.993606</td>\n",
              "      <td>0.974766</td>\n",
              "      <td>-0.299034</td>\n",
              "      <td>0.973881</td>\n",
              "      <td>0.973966</td>\n",
              "      <td>0.990525</td>\n",
              "      <td>0.972338</td>\n",
              "      <td>0.903885</td>\n",
              "      <td>0.931672</td>\n",
              "      <td>0.948555</td>\n",
              "      <td>0.886142</td>\n",
              "      <td>0.968529</td>\n",
              "      <td>0.984950</td>\n",
              "      <td>0.993487</td>\n",
              "      <td>0.981465</td>\n",
              "      <td>0.979449</td>\n",
              "    </tr>\n",
              "    <tr>\n",
              "      <th>10</th>\n",
              "      <td>Gondia</td>\n",
              "      <td>0.982518</td>\n",
              "      <td>0.983665</td>\n",
              "      <td>0.986782</td>\n",
              "      <td>0.992622</td>\n",
              "      <td>0.977679</td>\n",
              "      <td>0.991113</td>\n",
              "      <td>0.979332</td>\n",
              "      <td>0.995017</td>\n",
              "      <td>0.991488</td>\n",
              "      <td>0.990675</td>\n",
              "      <td>1.000000</td>\n",
              "      <td>0.992144</td>\n",
              "      <td>0.986225</td>\n",
              "      <td>0.990483</td>\n",
              "      <td>0.923588</td>\n",
              "      <td>0.994955</td>\n",
              "      <td>0.991958</td>\n",
              "      <td>0.995150</td>\n",
              "      <td>0.989348</td>\n",
              "      <td>0.988969</td>\n",
              "      <td>0.996670</td>\n",
              "      <td>0.987893</td>\n",
              "      <td>-0.298685</td>\n",
              "      <td>0.987272</td>\n",
              "      <td>0.979855</td>\n",
              "      <td>0.993716</td>\n",
              "      <td>0.983686</td>\n",
              "      <td>0.926074</td>\n",
              "      <td>0.949650</td>\n",
              "      <td>0.962998</td>\n",
              "      <td>0.910356</td>\n",
              "      <td>0.980195</td>\n",
              "      <td>0.987488</td>\n",
              "      <td>0.981558</td>\n",
              "      <td>0.984198</td>\n",
              "      <td>0.986697</td>\n",
              "    </tr>\n",
              "    <tr>\n",
              "      <th>11</th>\n",
              "      <td>Hingoli</td>\n",
              "      <td>0.990836</td>\n",
              "      <td>0.995892</td>\n",
              "      <td>0.992231</td>\n",
              "      <td>0.993774</td>\n",
              "      <td>0.992126</td>\n",
              "      <td>0.997178</td>\n",
              "      <td>0.994298</td>\n",
              "      <td>0.997107</td>\n",
              "      <td>0.989155</td>\n",
              "      <td>0.988575</td>\n",
              "      <td>0.992144</td>\n",
              "      <td>1.000000</td>\n",
              "      <td>0.976090</td>\n",
              "      <td>0.999678</td>\n",
              "      <td>0.934687</td>\n",
              "      <td>0.999008</td>\n",
              "      <td>0.984919</td>\n",
              "      <td>0.996461</td>\n",
              "      <td>0.994474</td>\n",
              "      <td>0.995820</td>\n",
              "      <td>0.997917</td>\n",
              "      <td>0.993557</td>\n",
              "      <td>-0.321076</td>\n",
              "      <td>0.986756</td>\n",
              "      <td>0.996095</td>\n",
              "      <td>0.991367</td>\n",
              "      <td>0.980037</td>\n",
              "      <td>0.947092</td>\n",
              "      <td>0.956058</td>\n",
              "      <td>0.971402</td>\n",
              "      <td>0.933883</td>\n",
              "      <td>0.985652</td>\n",
              "      <td>0.976163</td>\n",
              "      <td>0.989587</td>\n",
              "      <td>0.997677</td>\n",
              "      <td>0.997836</td>\n",
              "    </tr>\n",
              "    <tr>\n",
              "      <th>12</th>\n",
              "      <td>Jalgaon</td>\n",
              "      <td>0.963278</td>\n",
              "      <td>0.969553</td>\n",
              "      <td>0.977534</td>\n",
              "      <td>0.992163</td>\n",
              "      <td>0.951447</td>\n",
              "      <td>0.968986</td>\n",
              "      <td>0.955526</td>\n",
              "      <td>0.972316</td>\n",
              "      <td>0.996621</td>\n",
              "      <td>0.985555</td>\n",
              "      <td>0.986225</td>\n",
              "      <td>0.976090</td>\n",
              "      <td>1.000000</td>\n",
              "      <td>0.973052</td>\n",
              "      <td>0.909899</td>\n",
              "      <td>0.981321</td>\n",
              "      <td>0.995409</td>\n",
              "      <td>0.984580</td>\n",
              "      <td>0.981628</td>\n",
              "      <td>0.976905</td>\n",
              "      <td>0.986927</td>\n",
              "      <td>0.972376</td>\n",
              "      <td>-0.218343</td>\n",
              "      <td>0.983648</td>\n",
              "      <td>0.954068</td>\n",
              "      <td>0.994031</td>\n",
              "      <td>0.983791</td>\n",
              "      <td>0.897061</td>\n",
              "      <td>0.934687</td>\n",
              "      <td>0.944263</td>\n",
              "      <td>0.878105</td>\n",
              "      <td>0.965003</td>\n",
              "      <td>0.997539</td>\n",
              "      <td>0.969288</td>\n",
              "      <td>0.964373</td>\n",
              "      <td>0.965157</td>\n",
              "    </tr>\n",
              "    <tr>\n",
              "      <th>13</th>\n",
              "      <td>Jalna</td>\n",
              "      <td>0.990143</td>\n",
              "      <td>0.997045</td>\n",
              "      <td>0.992498</td>\n",
              "      <td>0.993006</td>\n",
              "      <td>0.992211</td>\n",
              "      <td>0.997420</td>\n",
              "      <td>0.995064</td>\n",
              "      <td>0.996434</td>\n",
              "      <td>0.987519</td>\n",
              "      <td>0.988462</td>\n",
              "      <td>0.990483</td>\n",
              "      <td>0.999678</td>\n",
              "      <td>0.973052</td>\n",
              "      <td>1.000000</td>\n",
              "      <td>0.932262</td>\n",
              "      <td>0.997934</td>\n",
              "      <td>0.983401</td>\n",
              "      <td>0.996147</td>\n",
              "      <td>0.994440</td>\n",
              "      <td>0.996445</td>\n",
              "      <td>0.997009</td>\n",
              "      <td>0.991933</td>\n",
              "      <td>-0.337004</td>\n",
              "      <td>0.984173</td>\n",
              "      <td>0.996672</td>\n",
              "      <td>0.989421</td>\n",
              "      <td>0.977196</td>\n",
              "      <td>0.946778</td>\n",
              "      <td>0.953743</td>\n",
              "      <td>0.969968</td>\n",
              "      <td>0.934044</td>\n",
              "      <td>0.984303</td>\n",
              "      <td>0.973583</td>\n",
              "      <td>0.991068</td>\n",
              "      <td>0.998451</td>\n",
              "      <td>0.998196</td>\n",
              "    </tr>\n",
              "    <tr>\n",
              "      <th>14</th>\n",
              "      <td>Kolhapur</td>\n",
              "      <td>0.969746</td>\n",
              "      <td>0.929229</td>\n",
              "      <td>0.934479</td>\n",
              "      <td>0.925549</td>\n",
              "      <td>0.961647</td>\n",
              "      <td>0.914352</td>\n",
              "      <td>0.947365</td>\n",
              "      <td>0.938852</td>\n",
              "      <td>0.921054</td>\n",
              "      <td>0.898419</td>\n",
              "      <td>0.923588</td>\n",
              "      <td>0.934687</td>\n",
              "      <td>0.909899</td>\n",
              "      <td>0.932262</td>\n",
              "      <td>1.000000</td>\n",
              "      <td>0.931154</td>\n",
              "      <td>0.913274</td>\n",
              "      <td>0.914213</td>\n",
              "      <td>0.906038</td>\n",
              "      <td>0.911228</td>\n",
              "      <td>0.933480</td>\n",
              "      <td>0.965426</td>\n",
              "      <td>-0.216651</td>\n",
              "      <td>0.962236</td>\n",
              "      <td>0.931812</td>\n",
              "      <td>0.939830</td>\n",
              "      <td>0.967571</td>\n",
              "      <td>0.990987</td>\n",
              "      <td>0.995961</td>\n",
              "      <td>0.990204</td>\n",
              "      <td>0.987843</td>\n",
              "      <td>0.977192</td>\n",
              "      <td>0.914625</td>\n",
              "      <td>0.885992</td>\n",
              "      <td>0.937197</td>\n",
              "      <td>0.939191</td>\n",
              "    </tr>\n",
              "    <tr>\n",
              "      <th>15</th>\n",
              "      <td>Latur</td>\n",
              "      <td>0.988871</td>\n",
              "      <td>0.991816</td>\n",
              "      <td>0.989413</td>\n",
              "      <td>0.994817</td>\n",
              "      <td>0.988265</td>\n",
              "      <td>0.996873</td>\n",
              "      <td>0.989433</td>\n",
              "      <td>0.996700</td>\n",
              "      <td>0.991776</td>\n",
              "      <td>0.990214</td>\n",
              "      <td>0.994955</td>\n",
              "      <td>0.999008</td>\n",
              "      <td>0.981321</td>\n",
              "      <td>0.997934</td>\n",
              "      <td>0.931154</td>\n",
              "      <td>1.000000</td>\n",
              "      <td>0.988365</td>\n",
              "      <td>0.997162</td>\n",
              "      <td>0.995151</td>\n",
              "      <td>0.995085</td>\n",
              "      <td>0.998679</td>\n",
              "      <td>0.992861</td>\n",
              "      <td>-0.298830</td>\n",
              "      <td>0.988735</td>\n",
              "      <td>0.992976</td>\n",
              "      <td>0.993893</td>\n",
              "      <td>0.982367</td>\n",
              "      <td>0.939994</td>\n",
              "      <td>0.954025</td>\n",
              "      <td>0.968508</td>\n",
              "      <td>0.925180</td>\n",
              "      <td>0.984327</td>\n",
              "      <td>0.981409</td>\n",
              "      <td>0.988121</td>\n",
              "      <td>0.993810</td>\n",
              "      <td>0.994585</td>\n",
              "    </tr>\n",
              "    <tr>\n",
              "      <th>16</th>\n",
              "      <td>Mumbai</td>\n",
              "      <td>0.971909</td>\n",
              "      <td>0.979836</td>\n",
              "      <td>0.984044</td>\n",
              "      <td>0.996687</td>\n",
              "      <td>0.962891</td>\n",
              "      <td>0.981919</td>\n",
              "      <td>0.966570</td>\n",
              "      <td>0.981271</td>\n",
              "      <td>0.997390</td>\n",
              "      <td>0.993929</td>\n",
              "      <td>0.991958</td>\n",
              "      <td>0.984919</td>\n",
              "      <td>0.995409</td>\n",
              "      <td>0.983401</td>\n",
              "      <td>0.913274</td>\n",
              "      <td>0.988365</td>\n",
              "      <td>1.000000</td>\n",
              "      <td>0.992009</td>\n",
              "      <td>0.989949</td>\n",
              "      <td>0.987454</td>\n",
              "      <td>0.993004</td>\n",
              "      <td>0.977667</td>\n",
              "      <td>-0.274463</td>\n",
              "      <td>0.985688</td>\n",
              "      <td>0.966954</td>\n",
              "      <td>0.995994</td>\n",
              "      <td>0.984291</td>\n",
              "      <td>0.908642</td>\n",
              "      <td>0.938785</td>\n",
              "      <td>0.951087</td>\n",
              "      <td>0.891649</td>\n",
              "      <td>0.971235</td>\n",
              "      <td>0.997576</td>\n",
              "      <td>0.981736</td>\n",
              "      <td>0.975212</td>\n",
              "      <td>0.975228</td>\n",
              "    </tr>\n",
              "    <tr>\n",
              "      <th>17</th>\n",
              "      <td>Nagpur</td>\n",
              "      <td>0.981351</td>\n",
              "      <td>0.993173</td>\n",
              "      <td>0.992290</td>\n",
              "      <td>0.996818</td>\n",
              "      <td>0.979634</td>\n",
              "      <td>0.996260</td>\n",
              "      <td>0.984360</td>\n",
              "      <td>0.993044</td>\n",
              "      <td>0.993954</td>\n",
              "      <td>0.996629</td>\n",
              "      <td>0.995150</td>\n",
              "      <td>0.996461</td>\n",
              "      <td>0.984580</td>\n",
              "      <td>0.996147</td>\n",
              "      <td>0.914213</td>\n",
              "      <td>0.997162</td>\n",
              "      <td>0.992009</td>\n",
              "      <td>1.000000</td>\n",
              "      <td>0.998031</td>\n",
              "      <td>0.998221</td>\n",
              "      <td>0.998176</td>\n",
              "      <td>0.985001</td>\n",
              "      <td>-0.329062</td>\n",
              "      <td>0.981599</td>\n",
              "      <td>0.987199</td>\n",
              "      <td>0.992871</td>\n",
              "      <td>0.976751</td>\n",
              "      <td>0.923043</td>\n",
              "      <td>0.940592</td>\n",
              "      <td>0.957057</td>\n",
              "      <td>0.907795</td>\n",
              "      <td>0.975834</td>\n",
              "      <td>0.983837</td>\n",
              "      <td>0.995140</td>\n",
              "      <td>0.991530</td>\n",
              "      <td>0.991566</td>\n",
              "    </tr>\n",
              "    <tr>\n",
              "      <th>18</th>\n",
              "      <td>Nanded</td>\n",
              "      <td>0.976189</td>\n",
              "      <td>0.991145</td>\n",
              "      <td>0.987013</td>\n",
              "      <td>0.995597</td>\n",
              "      <td>0.975433</td>\n",
              "      <td>0.995533</td>\n",
              "      <td>0.980453</td>\n",
              "      <td>0.987088</td>\n",
              "      <td>0.992682</td>\n",
              "      <td>0.997044</td>\n",
              "      <td>0.989348</td>\n",
              "      <td>0.994474</td>\n",
              "      <td>0.981628</td>\n",
              "      <td>0.994440</td>\n",
              "      <td>0.906038</td>\n",
              "      <td>0.995151</td>\n",
              "      <td>0.989949</td>\n",
              "      <td>0.998031</td>\n",
              "      <td>1.000000</td>\n",
              "      <td>0.998815</td>\n",
              "      <td>0.995148</td>\n",
              "      <td>0.979747</td>\n",
              "      <td>-0.320610</td>\n",
              "      <td>0.976117</td>\n",
              "      <td>0.986417</td>\n",
              "      <td>0.989692</td>\n",
              "      <td>0.970748</td>\n",
              "      <td>0.916214</td>\n",
              "      <td>0.932354</td>\n",
              "      <td>0.949565</td>\n",
              "      <td>0.901119</td>\n",
              "      <td>0.969202</td>\n",
              "      <td>0.980256</td>\n",
              "      <td>0.996352</td>\n",
              "      <td>0.989327</td>\n",
              "      <td>0.987434</td>\n",
              "    </tr>\n",
              "    <tr>\n",
              "      <th>19</th>\n",
              "      <td>Nandurbar</td>\n",
              "      <td>0.979905</td>\n",
              "      <td>0.994662</td>\n",
              "      <td>0.990422</td>\n",
              "      <td>0.994589</td>\n",
              "      <td>0.980158</td>\n",
              "      <td>0.996805</td>\n",
              "      <td>0.985390</td>\n",
              "      <td>0.989471</td>\n",
              "      <td>0.990135</td>\n",
              "      <td>0.995386</td>\n",
              "      <td>0.988969</td>\n",
              "      <td>0.995820</td>\n",
              "      <td>0.976905</td>\n",
              "      <td>0.996445</td>\n",
              "      <td>0.911228</td>\n",
              "      <td>0.995085</td>\n",
              "      <td>0.987454</td>\n",
              "      <td>0.998221</td>\n",
              "      <td>0.998815</td>\n",
              "      <td>1.000000</td>\n",
              "      <td>0.995411</td>\n",
              "      <td>0.981540</td>\n",
              "      <td>-0.356296</td>\n",
              "      <td>0.975779</td>\n",
              "      <td>0.989553</td>\n",
              "      <td>0.988340</td>\n",
              "      <td>0.970416</td>\n",
              "      <td>0.924380</td>\n",
              "      <td>0.936679</td>\n",
              "      <td>0.954380</td>\n",
              "      <td>0.910459</td>\n",
              "      <td>0.972633</td>\n",
              "      <td>0.976706</td>\n",
              "      <td>0.997834</td>\n",
              "      <td>0.992811</td>\n",
              "      <td>0.991313</td>\n",
              "    </tr>\n",
              "    <tr>\n",
              "      <th>20</th>\n",
              "      <td>Nashik</td>\n",
              "      <td>0.988894</td>\n",
              "      <td>0.993037</td>\n",
              "      <td>0.993163</td>\n",
              "      <td>0.997875</td>\n",
              "      <td>0.985904</td>\n",
              "      <td>0.994543</td>\n",
              "      <td>0.988328</td>\n",
              "      <td>0.996031</td>\n",
              "      <td>0.995523</td>\n",
              "      <td>0.993606</td>\n",
              "      <td>0.996670</td>\n",
              "      <td>0.997917</td>\n",
              "      <td>0.986927</td>\n",
              "      <td>0.997009</td>\n",
              "      <td>0.933480</td>\n",
              "      <td>0.998679</td>\n",
              "      <td>0.993004</td>\n",
              "      <td>0.998176</td>\n",
              "      <td>0.995148</td>\n",
              "      <td>0.995411</td>\n",
              "      <td>1.000000</td>\n",
              "      <td>0.992692</td>\n",
              "      <td>-0.305347</td>\n",
              "      <td>0.990868</td>\n",
              "      <td>0.988622</td>\n",
              "      <td>0.997001</td>\n",
              "      <td>0.986615</td>\n",
              "      <td>0.938797</td>\n",
              "      <td>0.956291</td>\n",
              "      <td>0.969944</td>\n",
              "      <td>0.924174</td>\n",
              "      <td>0.985774</td>\n",
              "      <td>0.987265</td>\n",
              "      <td>0.988841</td>\n",
              "      <td>0.992899</td>\n",
              "      <td>0.993603</td>\n",
              "    </tr>\n",
              "    <tr>\n",
              "      <th>21</th>\n",
              "      <td>Osmanabad</td>\n",
              "      <td>0.997687</td>\n",
              "      <td>0.986810</td>\n",
              "      <td>0.987155</td>\n",
              "      <td>0.986430</td>\n",
              "      <td>0.995404</td>\n",
              "      <td>0.984946</td>\n",
              "      <td>0.992505</td>\n",
              "      <td>0.994779</td>\n",
              "      <td>0.983030</td>\n",
              "      <td>0.974766</td>\n",
              "      <td>0.987893</td>\n",
              "      <td>0.993557</td>\n",
              "      <td>0.972376</td>\n",
              "      <td>0.991933</td>\n",
              "      <td>0.965426</td>\n",
              "      <td>0.992861</td>\n",
              "      <td>0.977667</td>\n",
              "      <td>0.985001</td>\n",
              "      <td>0.979747</td>\n",
              "      <td>0.981540</td>\n",
              "      <td>0.992692</td>\n",
              "      <td>1.000000</td>\n",
              "      <td>-0.276254</td>\n",
              "      <td>0.994949</td>\n",
              "      <td>0.988684</td>\n",
              "      <td>0.990564</td>\n",
              "      <td>0.991106</td>\n",
              "      <td>0.969870</td>\n",
              "      <td>0.980711</td>\n",
              "      <td>0.989810</td>\n",
              "      <td>0.958288</td>\n",
              "      <td>0.997113</td>\n",
              "      <td>0.973421</td>\n",
              "      <td>0.969112</td>\n",
              "      <td>0.991261</td>\n",
              "      <td>0.993057</td>\n",
              "    </tr>\n",
              "    <tr>\n",
              "      <th>22</th>\n",
              "      <td>Other State</td>\n",
              "      <td>-0.306145</td>\n",
              "      <td>-0.366996</td>\n",
              "      <td>-0.352219</td>\n",
              "      <td>-0.293603</td>\n",
              "      <td>-0.328654</td>\n",
              "      <td>-0.347743</td>\n",
              "      <td>-0.352935</td>\n",
              "      <td>-0.324207</td>\n",
              "      <td>-0.266250</td>\n",
              "      <td>-0.299034</td>\n",
              "      <td>-0.298685</td>\n",
              "      <td>-0.321076</td>\n",
              "      <td>-0.218343</td>\n",
              "      <td>-0.337004</td>\n",
              "      <td>-0.216651</td>\n",
              "      <td>-0.298830</td>\n",
              "      <td>-0.274463</td>\n",
              "      <td>-0.329062</td>\n",
              "      <td>-0.320610</td>\n",
              "      <td>-0.356296</td>\n",
              "      <td>-0.305347</td>\n",
              "      <td>-0.276254</td>\n",
              "      <td>1.000000</td>\n",
              "      <td>-0.233788</td>\n",
              "      <td>-0.342914</td>\n",
              "      <td>-0.262059</td>\n",
              "      <td>-0.229306</td>\n",
              "      <td>-0.292469</td>\n",
              "      <td>-0.235779</td>\n",
              "      <td>-0.272883</td>\n",
              "      <td>-0.306516</td>\n",
              "      <td>-0.282951</td>\n",
              "      <td>-0.238475</td>\n",
              "      <td>-0.370235</td>\n",
              "      <td>-0.352849</td>\n",
              "      <td>-0.350032</td>\n",
              "    </tr>\n",
              "    <tr>\n",
              "      <th>23</th>\n",
              "      <td>Palghar</td>\n",
              "      <td>0.990593</td>\n",
              "      <td>0.977918</td>\n",
              "      <td>0.981918</td>\n",
              "      <td>0.988683</td>\n",
              "      <td>0.983058</td>\n",
              "      <td>0.976211</td>\n",
              "      <td>0.979545</td>\n",
              "      <td>0.987518</td>\n",
              "      <td>0.988088</td>\n",
              "      <td>0.973881</td>\n",
              "      <td>0.987272</td>\n",
              "      <td>0.986756</td>\n",
              "      <td>0.983648</td>\n",
              "      <td>0.984173</td>\n",
              "      <td>0.962236</td>\n",
              "      <td>0.988735</td>\n",
              "      <td>0.985688</td>\n",
              "      <td>0.981599</td>\n",
              "      <td>0.976117</td>\n",
              "      <td>0.975779</td>\n",
              "      <td>0.990868</td>\n",
              "      <td>0.994949</td>\n",
              "      <td>-0.233788</td>\n",
              "      <td>1.000000</td>\n",
              "      <td>0.975394</td>\n",
              "      <td>0.995169</td>\n",
              "      <td>0.997914</td>\n",
              "      <td>0.956611</td>\n",
              "      <td>0.977338</td>\n",
              "      <td>0.983582</td>\n",
              "      <td>0.942531</td>\n",
              "      <td>0.993446</td>\n",
              "      <td>0.986731</td>\n",
              "      <td>0.961487</td>\n",
              "      <td>0.979957</td>\n",
              "      <td>0.982368</td>\n",
              "    </tr>\n",
              "    <tr>\n",
              "      <th>24</th>\n",
              "      <td>Parbhani</td>\n",
              "      <td>0.987949</td>\n",
              "      <td>0.992108</td>\n",
              "      <td>0.983068</td>\n",
              "      <td>0.981132</td>\n",
              "      <td>0.994762</td>\n",
              "      <td>0.994381</td>\n",
              "      <td>0.995959</td>\n",
              "      <td>0.992683</td>\n",
              "      <td>0.973378</td>\n",
              "      <td>0.973966</td>\n",
              "      <td>0.979855</td>\n",
              "      <td>0.996095</td>\n",
              "      <td>0.954068</td>\n",
              "      <td>0.996672</td>\n",
              "      <td>0.931812</td>\n",
              "      <td>0.992976</td>\n",
              "      <td>0.966954</td>\n",
              "      <td>0.987199</td>\n",
              "      <td>0.986417</td>\n",
              "      <td>0.989553</td>\n",
              "      <td>0.988622</td>\n",
              "      <td>0.988684</td>\n",
              "      <td>-0.342914</td>\n",
              "      <td>0.975394</td>\n",
              "      <td>1.000000</td>\n",
              "      <td>0.977234</td>\n",
              "      <td>0.965348</td>\n",
              "      <td>0.953721</td>\n",
              "      <td>0.951063</td>\n",
              "      <td>0.968246</td>\n",
              "      <td>0.942365</td>\n",
              "      <td>0.980125</td>\n",
              "      <td>0.954507</td>\n",
              "      <td>0.982526</td>\n",
              "      <td>0.997071</td>\n",
              "      <td>0.996912</td>\n",
              "    </tr>\n",
              "    <tr>\n",
              "      <th>25</th>\n",
              "      <td>Pune</td>\n",
              "      <td>0.986109</td>\n",
              "      <td>0.985206</td>\n",
              "      <td>0.989044</td>\n",
              "      <td>0.997714</td>\n",
              "      <td>0.978022</td>\n",
              "      <td>0.984790</td>\n",
              "      <td>0.978765</td>\n",
              "      <td>0.988900</td>\n",
              "      <td>0.997912</td>\n",
              "      <td>0.990525</td>\n",
              "      <td>0.993716</td>\n",
              "      <td>0.991367</td>\n",
              "      <td>0.994031</td>\n",
              "      <td>0.989421</td>\n",
              "      <td>0.939830</td>\n",
              "      <td>0.993893</td>\n",
              "      <td>0.995994</td>\n",
              "      <td>0.992871</td>\n",
              "      <td>0.989692</td>\n",
              "      <td>0.988340</td>\n",
              "      <td>0.997001</td>\n",
              "      <td>0.990564</td>\n",
              "      <td>-0.262059</td>\n",
              "      <td>0.995169</td>\n",
              "      <td>0.977234</td>\n",
              "      <td>1.000000</td>\n",
              "      <td>0.993756</td>\n",
              "      <td>0.935704</td>\n",
              "      <td>0.961082</td>\n",
              "      <td>0.970890</td>\n",
              "      <td>0.919964</td>\n",
              "      <td>0.986225</td>\n",
              "      <td>0.994695</td>\n",
              "      <td>0.979611</td>\n",
              "      <td>0.983761</td>\n",
              "      <td>0.984530</td>\n",
              "    </tr>\n",
              "    <tr>\n",
              "      <th>26</th>\n",
              "      <td>Raigad</td>\n",
              "      <td>0.988025</td>\n",
              "      <td>0.972225</td>\n",
              "      <td>0.979487</td>\n",
              "      <td>0.985710</td>\n",
              "      <td>0.976689</td>\n",
              "      <td>0.968484</td>\n",
              "      <td>0.971991</td>\n",
              "      <td>0.981048</td>\n",
              "      <td>0.986149</td>\n",
              "      <td>0.972338</td>\n",
              "      <td>0.983686</td>\n",
              "      <td>0.980037</td>\n",
              "      <td>0.983791</td>\n",
              "      <td>0.977196</td>\n",
              "      <td>0.967571</td>\n",
              "      <td>0.982367</td>\n",
              "      <td>0.984291</td>\n",
              "      <td>0.976751</td>\n",
              "      <td>0.970748</td>\n",
              "      <td>0.970416</td>\n",
              "      <td>0.986615</td>\n",
              "      <td>0.991106</td>\n",
              "      <td>-0.229306</td>\n",
              "      <td>0.997914</td>\n",
              "      <td>0.965348</td>\n",
              "      <td>0.993756</td>\n",
              "      <td>1.000000</td>\n",
              "      <td>0.956120</td>\n",
              "      <td>0.981620</td>\n",
              "      <td>0.984948</td>\n",
              "      <td>0.942995</td>\n",
              "      <td>0.992455</td>\n",
              "      <td>0.986757</td>\n",
              "      <td>0.955814</td>\n",
              "      <td>0.972875</td>\n",
              "      <td>0.974943</td>\n",
              "    </tr>\n",
              "    <tr>\n",
              "      <th>27</th>\n",
              "      <td>Ratnagiri</td>\n",
              "      <td>0.976825</td>\n",
              "      <td>0.944904</td>\n",
              "      <td>0.942530</td>\n",
              "      <td>0.927080</td>\n",
              "      <td>0.977375</td>\n",
              "      <td>0.931400</td>\n",
              "      <td>0.965762</td>\n",
              "      <td>0.950227</td>\n",
              "      <td>0.917403</td>\n",
              "      <td>0.903885</td>\n",
              "      <td>0.926074</td>\n",
              "      <td>0.947092</td>\n",
              "      <td>0.897061</td>\n",
              "      <td>0.946778</td>\n",
              "      <td>0.990987</td>\n",
              "      <td>0.939994</td>\n",
              "      <td>0.908642</td>\n",
              "      <td>0.923043</td>\n",
              "      <td>0.916214</td>\n",
              "      <td>0.924380</td>\n",
              "      <td>0.938797</td>\n",
              "      <td>0.969870</td>\n",
              "      <td>-0.292469</td>\n",
              "      <td>0.956611</td>\n",
              "      <td>0.953721</td>\n",
              "      <td>0.935704</td>\n",
              "      <td>0.956120</td>\n",
              "      <td>1.000000</td>\n",
              "      <td>0.989106</td>\n",
              "      <td>0.990418</td>\n",
              "      <td>0.998584</td>\n",
              "      <td>0.978540</td>\n",
              "      <td>0.902504</td>\n",
              "      <td>0.904277</td>\n",
              "      <td>0.954767</td>\n",
              "      <td>0.955957</td>\n",
              "    </tr>\n",
              "    <tr>\n",
              "      <th>28</th>\n",
              "      <td>Sangli</td>\n",
              "      <td>0.984886</td>\n",
              "      <td>0.949509</td>\n",
              "      <td>0.955136</td>\n",
              "      <td>0.948536</td>\n",
              "      <td>0.975745</td>\n",
              "      <td>0.939940</td>\n",
              "      <td>0.963643</td>\n",
              "      <td>0.960732</td>\n",
              "      <td>0.944512</td>\n",
              "      <td>0.931672</td>\n",
              "      <td>0.949650</td>\n",
              "      <td>0.956058</td>\n",
              "      <td>0.934687</td>\n",
              "      <td>0.953743</td>\n",
              "      <td>0.995961</td>\n",
              "      <td>0.954025</td>\n",
              "      <td>0.938785</td>\n",
              "      <td>0.940592</td>\n",
              "      <td>0.932354</td>\n",
              "      <td>0.936679</td>\n",
              "      <td>0.956291</td>\n",
              "      <td>0.980711</td>\n",
              "      <td>-0.235779</td>\n",
              "      <td>0.977338</td>\n",
              "      <td>0.951063</td>\n",
              "      <td>0.961082</td>\n",
              "      <td>0.981620</td>\n",
              "      <td>0.989106</td>\n",
              "      <td>1.000000</td>\n",
              "      <td>0.997633</td>\n",
              "      <td>0.982923</td>\n",
              "      <td>0.990292</td>\n",
              "      <td>0.938803</td>\n",
              "      <td>0.917303</td>\n",
              "      <td>0.956313</td>\n",
              "      <td>0.958572</td>\n",
              "    </tr>\n",
              "    <tr>\n",
              "      <th>29</th>\n",
              "      <td>Satara</td>\n",
              "      <td>0.993625</td>\n",
              "      <td>0.966662</td>\n",
              "      <td>0.969686</td>\n",
              "      <td>0.961913</td>\n",
              "      <td>0.987751</td>\n",
              "      <td>0.958118</td>\n",
              "      <td>0.978872</td>\n",
              "      <td>0.975056</td>\n",
              "      <td>0.956601</td>\n",
              "      <td>0.948555</td>\n",
              "      <td>0.962998</td>\n",
              "      <td>0.971402</td>\n",
              "      <td>0.944263</td>\n",
              "      <td>0.969968</td>\n",
              "      <td>0.990204</td>\n",
              "      <td>0.968508</td>\n",
              "      <td>0.951087</td>\n",
              "      <td>0.957057</td>\n",
              "      <td>0.949565</td>\n",
              "      <td>0.954380</td>\n",
              "      <td>0.969944</td>\n",
              "      <td>0.989810</td>\n",
              "      <td>-0.272883</td>\n",
              "      <td>0.983582</td>\n",
              "      <td>0.968246</td>\n",
              "      <td>0.970890</td>\n",
              "      <td>0.984948</td>\n",
              "      <td>0.990418</td>\n",
              "      <td>0.997633</td>\n",
              "      <td>1.000000</td>\n",
              "      <td>0.983606</td>\n",
              "      <td>0.996303</td>\n",
              "      <td>0.948172</td>\n",
              "      <td>0.938994</td>\n",
              "      <td>0.972782</td>\n",
              "      <td>0.974593</td>\n",
              "    </tr>\n",
              "    <tr>\n",
              "      <th>30</th>\n",
              "      <td>Sindhudurg</td>\n",
              "      <td>0.966597</td>\n",
              "      <td>0.933687</td>\n",
              "      <td>0.930599</td>\n",
              "      <td>0.911688</td>\n",
              "      <td>0.968325</td>\n",
              "      <td>0.917785</td>\n",
              "      <td>0.956158</td>\n",
              "      <td>0.937048</td>\n",
              "      <td>0.900750</td>\n",
              "      <td>0.886142</td>\n",
              "      <td>0.910356</td>\n",
              "      <td>0.933883</td>\n",
              "      <td>0.878105</td>\n",
              "      <td>0.934044</td>\n",
              "      <td>0.987843</td>\n",
              "      <td>0.925180</td>\n",
              "      <td>0.891649</td>\n",
              "      <td>0.907795</td>\n",
              "      <td>0.901119</td>\n",
              "      <td>0.910459</td>\n",
              "      <td>0.924174</td>\n",
              "      <td>0.958288</td>\n",
              "      <td>-0.306516</td>\n",
              "      <td>0.942531</td>\n",
              "      <td>0.942365</td>\n",
              "      <td>0.919964</td>\n",
              "      <td>0.942995</td>\n",
              "      <td>0.998584</td>\n",
              "      <td>0.982923</td>\n",
              "      <td>0.983606</td>\n",
              "      <td>1.000000</td>\n",
              "      <td>0.968170</td>\n",
              "      <td>0.884109</td>\n",
              "      <td>0.888699</td>\n",
              "      <td>0.943966</td>\n",
              "      <td>0.944488</td>\n",
              "    </tr>\n",
              "    <tr>\n",
              "      <th>31</th>\n",
              "      <td>Solapur</td>\n",
              "      <td>0.998588</td>\n",
              "      <td>0.980273</td>\n",
              "      <td>0.982777</td>\n",
              "      <td>0.979671</td>\n",
              "      <td>0.992904</td>\n",
              "      <td>0.974924</td>\n",
              "      <td>0.987546</td>\n",
              "      <td>0.988066</td>\n",
              "      <td>0.975568</td>\n",
              "      <td>0.968529</td>\n",
              "      <td>0.980195</td>\n",
              "      <td>0.985652</td>\n",
              "      <td>0.965003</td>\n",
              "      <td>0.984303</td>\n",
              "      <td>0.977192</td>\n",
              "      <td>0.984327</td>\n",
              "      <td>0.971235</td>\n",
              "      <td>0.975834</td>\n",
              "      <td>0.969202</td>\n",
              "      <td>0.972633</td>\n",
              "      <td>0.985774</td>\n",
              "      <td>0.997113</td>\n",
              "      <td>-0.282951</td>\n",
              "      <td>0.993446</td>\n",
              "      <td>0.980125</td>\n",
              "      <td>0.986225</td>\n",
              "      <td>0.992455</td>\n",
              "      <td>0.978540</td>\n",
              "      <td>0.990292</td>\n",
              "      <td>0.996303</td>\n",
              "      <td>0.968170</td>\n",
              "      <td>1.000000</td>\n",
              "      <td>0.968411</td>\n",
              "      <td>0.959965</td>\n",
              "      <td>0.984446</td>\n",
              "      <td>0.986311</td>\n",
              "    </tr>\n",
              "    <tr>\n",
              "      <th>32</th>\n",
              "      <td>Thane</td>\n",
              "      <td>0.966093</td>\n",
              "      <td>0.968898</td>\n",
              "      <td>0.976537</td>\n",
              "      <td>0.992028</td>\n",
              "      <td>0.953499</td>\n",
              "      <td>0.970292</td>\n",
              "      <td>0.955853</td>\n",
              "      <td>0.973826</td>\n",
              "      <td>0.995090</td>\n",
              "      <td>0.984950</td>\n",
              "      <td>0.987488</td>\n",
              "      <td>0.976163</td>\n",
              "      <td>0.997539</td>\n",
              "      <td>0.973583</td>\n",
              "      <td>0.914625</td>\n",
              "      <td>0.981409</td>\n",
              "      <td>0.997576</td>\n",
              "      <td>0.983837</td>\n",
              "      <td>0.980256</td>\n",
              "      <td>0.976706</td>\n",
              "      <td>0.987265</td>\n",
              "      <td>0.973421</td>\n",
              "      <td>-0.238475</td>\n",
              "      <td>0.986731</td>\n",
              "      <td>0.954507</td>\n",
              "      <td>0.994695</td>\n",
              "      <td>0.986757</td>\n",
              "      <td>0.902504</td>\n",
              "      <td>0.938803</td>\n",
              "      <td>0.948172</td>\n",
              "      <td>0.884109</td>\n",
              "      <td>0.968411</td>\n",
              "      <td>1.000000</td>\n",
              "      <td>0.968097</td>\n",
              "      <td>0.963974</td>\n",
              "      <td>0.965188</td>\n",
              "    </tr>\n",
              "    <tr>\n",
              "      <th>33</th>\n",
              "      <td>Wardha</td>\n",
              "      <td>0.970262</td>\n",
              "      <td>0.991873</td>\n",
              "      <td>0.987552</td>\n",
              "      <td>0.989254</td>\n",
              "      <td>0.969641</td>\n",
              "      <td>0.992732</td>\n",
              "      <td>0.977443</td>\n",
              "      <td>0.981006</td>\n",
              "      <td>0.983885</td>\n",
              "      <td>0.993487</td>\n",
              "      <td>0.981558</td>\n",
              "      <td>0.989587</td>\n",
              "      <td>0.969288</td>\n",
              "      <td>0.991068</td>\n",
              "      <td>0.885992</td>\n",
              "      <td>0.988121</td>\n",
              "      <td>0.981736</td>\n",
              "      <td>0.995140</td>\n",
              "      <td>0.996352</td>\n",
              "      <td>0.997834</td>\n",
              "      <td>0.988841</td>\n",
              "      <td>0.969112</td>\n",
              "      <td>-0.370235</td>\n",
              "      <td>0.961487</td>\n",
              "      <td>0.982526</td>\n",
              "      <td>0.979611</td>\n",
              "      <td>0.955814</td>\n",
              "      <td>0.904277</td>\n",
              "      <td>0.917303</td>\n",
              "      <td>0.938994</td>\n",
              "      <td>0.888699</td>\n",
              "      <td>0.959965</td>\n",
              "      <td>0.968097</td>\n",
              "      <td>1.000000</td>\n",
              "      <td>0.987641</td>\n",
              "      <td>0.984943</td>\n",
              "    </tr>\n",
              "    <tr>\n",
              "      <th>34</th>\n",
              "      <td>Washim</td>\n",
              "      <td>0.990575</td>\n",
              "      <td>0.998342</td>\n",
              "      <td>0.993350</td>\n",
              "      <td>0.988083</td>\n",
              "      <td>0.994608</td>\n",
              "      <td>0.993595</td>\n",
              "      <td>0.998202</td>\n",
              "      <td>0.994183</td>\n",
              "      <td>0.981254</td>\n",
              "      <td>0.981465</td>\n",
              "      <td>0.984198</td>\n",
              "      <td>0.997677</td>\n",
              "      <td>0.964373</td>\n",
              "      <td>0.998451</td>\n",
              "      <td>0.937197</td>\n",
              "      <td>0.993810</td>\n",
              "      <td>0.975212</td>\n",
              "      <td>0.991530</td>\n",
              "      <td>0.989327</td>\n",
              "      <td>0.992811</td>\n",
              "      <td>0.992899</td>\n",
              "      <td>0.991261</td>\n",
              "      <td>-0.352849</td>\n",
              "      <td>0.979957</td>\n",
              "      <td>0.997071</td>\n",
              "      <td>0.983761</td>\n",
              "      <td>0.972875</td>\n",
              "      <td>0.954767</td>\n",
              "      <td>0.956313</td>\n",
              "      <td>0.972782</td>\n",
              "      <td>0.943966</td>\n",
              "      <td>0.984446</td>\n",
              "      <td>0.963974</td>\n",
              "      <td>0.987641</td>\n",
              "      <td>1.000000</td>\n",
              "      <td>0.999184</td>\n",
              "    </tr>\n",
              "    <tr>\n",
              "      <th>35</th>\n",
              "      <td>Yavatmal</td>\n",
              "      <td>0.991715</td>\n",
              "      <td>0.996850</td>\n",
              "      <td>0.992969</td>\n",
              "      <td>0.987427</td>\n",
              "      <td>0.995440</td>\n",
              "      <td>0.993508</td>\n",
              "      <td>0.998270</td>\n",
              "      <td>0.996604</td>\n",
              "      <td>0.980849</td>\n",
              "      <td>0.979449</td>\n",
              "      <td>0.986697</td>\n",
              "      <td>0.997836</td>\n",
              "      <td>0.965157</td>\n",
              "      <td>0.998196</td>\n",
              "      <td>0.939191</td>\n",
              "      <td>0.994585</td>\n",
              "      <td>0.975228</td>\n",
              "      <td>0.991566</td>\n",
              "      <td>0.987434</td>\n",
              "      <td>0.991313</td>\n",
              "      <td>0.993603</td>\n",
              "      <td>0.993057</td>\n",
              "      <td>-0.350032</td>\n",
              "      <td>0.982368</td>\n",
              "      <td>0.996912</td>\n",
              "      <td>0.984530</td>\n",
              "      <td>0.974943</td>\n",
              "      <td>0.955957</td>\n",
              "      <td>0.958572</td>\n",
              "      <td>0.974593</td>\n",
              "      <td>0.944488</td>\n",
              "      <td>0.986311</td>\n",
              "      <td>0.965188</td>\n",
              "      <td>0.984943</td>\n",
              "      <td>0.999184</td>\n",
              "      <td>1.000000</td>\n",
              "    </tr>\n",
              "  </tbody>\n",
              "</table>\n",
              "</div>"
            ],
            "text/plain": [
              "       District  Ahmednagar     Akola  ...    Wardha    Washim  Yavatmal\n",
              "0    Ahmednagar    1.000000  0.986128  ...  0.970262  0.990575  0.991715\n",
              "1         Akola    0.986128  1.000000  ...  0.991873  0.998342  0.996850\n",
              "2      Amravati    0.985843  0.996700  ...  0.987552  0.993350  0.992969\n",
              "3    Aurangabad    0.982064  0.991211  ...  0.989254  0.988083  0.987427\n",
              "4          Beed    0.996834  0.988576  ...  0.969641  0.994608  0.995440\n",
              "5      Bhandara    0.982997  0.991581  ...  0.992732  0.993595  0.993508\n",
              "6      Buldhana    0.992560  0.994658  ...  0.977443  0.998202  0.998270\n",
              "7    Chandrapur    0.991879  0.990689  ...  0.981006  0.994183  0.996604\n",
              "8         Dhule    0.976636  0.984921  ...  0.983885  0.981254  0.980849\n",
              "9    Gadchiroli    0.974681  0.985654  ...  0.993487  0.981465  0.979449\n",
              "10       Gondia    0.982518  0.983665  ...  0.981558  0.984198  0.986697\n",
              "11      Hingoli    0.990836  0.995892  ...  0.989587  0.997677  0.997836\n",
              "12      Jalgaon    0.963278  0.969553  ...  0.969288  0.964373  0.965157\n",
              "13        Jalna    0.990143  0.997045  ...  0.991068  0.998451  0.998196\n",
              "14     Kolhapur    0.969746  0.929229  ...  0.885992  0.937197  0.939191\n",
              "15        Latur    0.988871  0.991816  ...  0.988121  0.993810  0.994585\n",
              "16       Mumbai    0.971909  0.979836  ...  0.981736  0.975212  0.975228\n",
              "17       Nagpur    0.981351  0.993173  ...  0.995140  0.991530  0.991566\n",
              "18       Nanded    0.976189  0.991145  ...  0.996352  0.989327  0.987434\n",
              "19    Nandurbar    0.979905  0.994662  ...  0.997834  0.992811  0.991313\n",
              "20       Nashik    0.988894  0.993037  ...  0.988841  0.992899  0.993603\n",
              "21    Osmanabad    0.997687  0.986810  ...  0.969112  0.991261  0.993057\n",
              "22  Other State   -0.306145 -0.366996  ... -0.370235 -0.352849 -0.350032\n",
              "23      Palghar    0.990593  0.977918  ...  0.961487  0.979957  0.982368\n",
              "24     Parbhani    0.987949  0.992108  ...  0.982526  0.997071  0.996912\n",
              "25         Pune    0.986109  0.985206  ...  0.979611  0.983761  0.984530\n",
              "26       Raigad    0.988025  0.972225  ...  0.955814  0.972875  0.974943\n",
              "27    Ratnagiri    0.976825  0.944904  ...  0.904277  0.954767  0.955957\n",
              "28       Sangli    0.984886  0.949509  ...  0.917303  0.956313  0.958572\n",
              "29       Satara    0.993625  0.966662  ...  0.938994  0.972782  0.974593\n",
              "30   Sindhudurg    0.966597  0.933687  ...  0.888699  0.943966  0.944488\n",
              "31      Solapur    0.998588  0.980273  ...  0.959965  0.984446  0.986311\n",
              "32        Thane    0.966093  0.968898  ...  0.968097  0.963974  0.965188\n",
              "33       Wardha    0.970262  0.991873  ...  1.000000  0.987641  0.984943\n",
              "34       Washim    0.990575  0.998342  ...  0.987641  1.000000  0.999184\n",
              "35     Yavatmal    0.991715  0.996850  ...  0.984943  0.999184  1.000000\n",
              "\n",
              "[36 rows x 37 columns]"
            ]
          },
          "metadata": {},
          "execution_count": 48
        }
      ]
    },
    {
      "cell_type": "code",
      "metadata": {
        "colab": {
          "base_uri": "https://localhost:8080/"
        },
        "id": "olFyfMEaaTCy",
        "outputId": "fd826098-ef64-42fa-c6db-01cfc5f07c77"
      },
      "source": [
        "print(pune_corr[['District', 'Pune']])"
      ],
      "execution_count": 49,
      "outputs": [
        {
          "output_type": "stream",
          "name": "stdout",
          "text": [
            "       District      Pune\n",
            "0    Ahmednagar  0.986109\n",
            "1         Akola  0.985206\n",
            "2      Amravati  0.989044\n",
            "3    Aurangabad  0.997714\n",
            "4          Beed  0.978022\n",
            "5      Bhandara  0.984790\n",
            "6      Buldhana  0.978765\n",
            "7    Chandrapur  0.988900\n",
            "8         Dhule  0.997912\n",
            "9    Gadchiroli  0.990525\n",
            "10       Gondia  0.993716\n",
            "11      Hingoli  0.991367\n",
            "12      Jalgaon  0.994031\n",
            "13        Jalna  0.989421\n",
            "14     Kolhapur  0.939830\n",
            "15        Latur  0.993893\n",
            "16       Mumbai  0.995994\n",
            "17       Nagpur  0.992871\n",
            "18       Nanded  0.989692\n",
            "19    Nandurbar  0.988340\n",
            "20       Nashik  0.997001\n",
            "21    Osmanabad  0.990564\n",
            "22  Other State -0.262059\n",
            "23      Palghar  0.995169\n",
            "24     Parbhani  0.977234\n",
            "25         Pune  1.000000\n",
            "26       Raigad  0.993756\n",
            "27    Ratnagiri  0.935704\n",
            "28       Sangli  0.961082\n",
            "29       Satara  0.970890\n",
            "30   Sindhudurg  0.919964\n",
            "31      Solapur  0.986225\n",
            "32        Thane  0.994695\n",
            "33       Wardha  0.979611\n",
            "34       Washim  0.983761\n",
            "35     Yavatmal  0.984530\n"
          ]
        }
      ]
    },
    {
      "cell_type": "code",
      "metadata": {
        "id": "TNOqRyIVbfam"
      },
      "source": [
        "dataset = (pune_corr[[ 'Pune']])\n"
      ],
      "execution_count": 50,
      "outputs": []
    },
    {
      "cell_type": "code",
      "metadata": {
        "colab": {
          "base_uri": "https://localhost:8080/"
        },
        "id": "XCeiPh2ibzWG",
        "outputId": "1345df39-9f9c-4607-d027-01c816037698"
      },
      "source": [
        "print(dataset)"
      ],
      "execution_count": 51,
      "outputs": [
        {
          "output_type": "stream",
          "name": "stdout",
          "text": [
            "        Pune\n",
            "0   0.986109\n",
            "1   0.985206\n",
            "2   0.989044\n",
            "3   0.997714\n",
            "4   0.978022\n",
            "5   0.984790\n",
            "6   0.978765\n",
            "7   0.988900\n",
            "8   0.997912\n",
            "9   0.990525\n",
            "10  0.993716\n",
            "11  0.991367\n",
            "12  0.994031\n",
            "13  0.989421\n",
            "14  0.939830\n",
            "15  0.993893\n",
            "16  0.995994\n",
            "17  0.992871\n",
            "18  0.989692\n",
            "19  0.988340\n",
            "20  0.997001\n",
            "21  0.990564\n",
            "22 -0.262059\n",
            "23  0.995169\n",
            "24  0.977234\n",
            "25  1.000000\n",
            "26  0.993756\n",
            "27  0.935704\n",
            "28  0.961082\n",
            "29  0.970890\n",
            "30  0.919964\n",
            "31  0.986225\n",
            "32  0.994695\n",
            "33  0.979611\n",
            "34  0.983761\n",
            "35  0.984530\n"
          ]
        }
      ]
    },
    {
      "cell_type": "code",
      "metadata": {
        "id": "m1vTm8sLZZ0r",
        "colab": {
          "base_uri": "https://localhost:8080/"
        },
        "outputId": "cf67e8c0-1161-40dd-dd46-09bd4c8f664d"
      },
      "source": [
        "dataset['Sno'] = range(1, 1+len(dataset))"
      ],
      "execution_count": 52,
      "outputs": [
        {
          "output_type": "stream",
          "name": "stderr",
          "text": [
            "/usr/local/lib/python3.7/dist-packages/ipykernel_launcher.py:1: SettingWithCopyWarning:\n",
            "\n",
            "\n",
            "A value is trying to be set on a copy of a slice from a DataFrame.\n",
            "Try using .loc[row_indexer,col_indexer] = value instead\n",
            "\n",
            "See the caveats in the documentation: https://pandas.pydata.org/pandas-docs/stable/user_guide/indexing.html#returning-a-view-versus-a-copy\n",
            "\n"
          ]
        }
      ]
    },
    {
      "cell_type": "code",
      "metadata": {
        "colab": {
          "base_uri": "https://localhost:8080/",
          "height": 203
        },
        "id": "8_Nh-tu7Z60Y",
        "outputId": "f47065ff-62e0-4171-bc6e-f6fa1112cac0"
      },
      "source": [
        "dataset.head()"
      ],
      "execution_count": 53,
      "outputs": [
        {
          "output_type": "execute_result",
          "data": {
            "text/html": [
              "<div>\n",
              "<style scoped>\n",
              "    .dataframe tbody tr th:only-of-type {\n",
              "        vertical-align: middle;\n",
              "    }\n",
              "\n",
              "    .dataframe tbody tr th {\n",
              "        vertical-align: top;\n",
              "    }\n",
              "\n",
              "    .dataframe thead th {\n",
              "        text-align: right;\n",
              "    }\n",
              "</style>\n",
              "<table border=\"1\" class=\"dataframe\">\n",
              "  <thead>\n",
              "    <tr style=\"text-align: right;\">\n",
              "      <th></th>\n",
              "      <th>Pune</th>\n",
              "      <th>Sno</th>\n",
              "    </tr>\n",
              "  </thead>\n",
              "  <tbody>\n",
              "    <tr>\n",
              "      <th>0</th>\n",
              "      <td>0.986109</td>\n",
              "      <td>1</td>\n",
              "    </tr>\n",
              "    <tr>\n",
              "      <th>1</th>\n",
              "      <td>0.985206</td>\n",
              "      <td>2</td>\n",
              "    </tr>\n",
              "    <tr>\n",
              "      <th>2</th>\n",
              "      <td>0.989044</td>\n",
              "      <td>3</td>\n",
              "    </tr>\n",
              "    <tr>\n",
              "      <th>3</th>\n",
              "      <td>0.997714</td>\n",
              "      <td>4</td>\n",
              "    </tr>\n",
              "    <tr>\n",
              "      <th>4</th>\n",
              "      <td>0.978022</td>\n",
              "      <td>5</td>\n",
              "    </tr>\n",
              "  </tbody>\n",
              "</table>\n",
              "</div>"
            ],
            "text/plain": [
              "       Pune  Sno\n",
              "0  0.986109    1\n",
              "1  0.985206    2\n",
              "2  0.989044    3\n",
              "3  0.997714    4\n",
              "4  0.978022    5"
            ]
          },
          "metadata": {},
          "execution_count": 53
        }
      ]
    },
    {
      "cell_type": "code",
      "metadata": {
        "id": "Y13VXUAlawDa"
      },
      "source": [
        "from sklearn.neighbors import NearestNeighbors\n",
        "from matplotlib import pyplot as plt"
      ],
      "execution_count": 54,
      "outputs": []
    },
    {
      "cell_type": "code",
      "metadata": {
        "id": "MFRp9fHUbdnl"
      },
      "source": [
        "neighbors = NearestNeighbors(n_neighbors=4)\n",
        "neighbors_fit = neighbors.fit(dataset)\n",
        "distances, indices = neighbors_fit.kneighbors(dataset)"
      ],
      "execution_count": 55,
      "outputs": []
    },
    {
      "cell_type": "code",
      "metadata": {
        "colab": {
          "base_uri": "https://localhost:8080/",
          "height": 282
        },
        "id": "eSWhlo0wcORB",
        "outputId": "ba102d65-21ec-47cd-9358-785e7d1d7c89"
      },
      "source": [
        "distances = np.sort(distances, axis=0)\n",
        "distances = distances[:,1]\n",
        "plt.plot(distances)"
      ],
      "execution_count": 56,
      "outputs": [
        {
          "output_type": "execute_result",
          "data": {
            "text/plain": [
              "[<matplotlib.lines.Line2D at 0x7ff9ced87c90>]"
            ]
          },
          "metadata": {},
          "execution_count": 56
        },
        {
          "output_type": "display_data",
          "data": {
            "image/png": "[encoded data removed]",
            "text/plain": [
              "<Figure size 432x288 with 1 Axes>"
            ]
          },
          "metadata": {
            "needs_background": "light"
          }
        }
      ]
    },
    {
      "cell_type": "code",
      "metadata": {
        "id": "4Rtn5H9-c_lE"
      },
      "source": [
        "# from sklearn.manifold import TSNE\n",
        "# X_embedded = TSNE(n_components=2).fit_transform(dataset)"
      ],
      "execution_count": 57,
      "outputs": []
    },
    {
      "cell_type": "code",
      "metadata": {
        "id": "25viY530jAE9"
      },
      "source": [
        "import numpy as np\n",
        "import pandas as pd\n",
        "import matplotlib.pyplot as plt\n",
        "\n",
        "from sklearn.cluster import DBSCAN\n",
        "from sklearn.preprocessing import StandardScaler\n",
        "from sklearn.preprocessing import normalize\n",
        "from sklearn.decomposition import PCA\n",
        "from sklearn import metrics\n",
        "from sklearn.datasets import make_blobs\n"
      ],
      "execution_count": 58,
      "outputs": []
    },
    {
      "cell_type": "code",
      "metadata": {
        "id": "W13_Fn12jcyn"
      },
      "source": [
        "# Numpy array of all the cluster labels assigned to each data point\n",
        "# db_default = DBSCAN(eps = 0.0375, min_samples = 2).fit(dataset)\n",
        "# labels = db_default.labels_\n",
        "y_pred = DBSCAN(eps=0.0375, min_samples=4).fit_predict(dataset)\n"
      ],
      "execution_count": 59,
      "outputs": []
    },
    {
      "cell_type": "code",
      "metadata": {
        "colab": {
          "base_uri": "https://localhost:8080/",
          "height": 282
        },
        "id": "_NZL4VxJX7jC",
        "outputId": "e020972f-3e7b-4343-8694-e8978d370886"
      },
      "source": [
        "plt.scatter(dataset['Sno'], dataset['Pune'], c= y_pred)"
      ],
      "execution_count": 60,
      "outputs": [
        {
          "output_type": "execute_result",
          "data": {
            "text/plain": [
              "<matplotlib.collections.PathCollection at 0x7ff9cf3c66d0>"
            ]
          },
          "metadata": {},
          "execution_count": 60
        },
        {
          "output_type": "display_data",
          "data": {
            "image/png": "[encoded data removed]",
            "text/plain": [
              "<Figure size 432x288 with 1 Axes>"
            ]
          },
          "metadata": {
            "needs_background": "light"
          }
        }
      ]
    },
    {
      "cell_type": "code",
      "metadata": {
        "id": "TtAX8egAvnyE"
      },
      "source": [
        "X= dataset['Pune'].values\n",
        "X= X.reshape(-1, 1)\n",
        "X = StandardScaler().fit_transform(X)"
      ],
      "execution_count": 61,
      "outputs": []
    },
    {
      "cell_type": "code",
      "metadata": {
        "id": "mY9eQoGYwz8Q"
      },
      "source": [
        "db = DBSCAN(eps=0.3, min_samples=10).fit(X)\n",
        "core_samples_mask = np.zeros_like(db.labels_, dtype=bool)\n",
        "core_samples_mask[db.core_sample_indices_] = True\n",
        "labels = db.labels_"
      ],
      "execution_count": 62,
      "outputs": []
    },
    {
      "cell_type": "code",
      "metadata": {
        "id": "FepOk6Ijw4fN"
      },
      "source": [
        "# Number of clusters in labels, ignoring noise if present.\n",
        "n_clusters_ = len(set(labels)) - (1 if -1 in labels else 0)\n",
        "n_noise_ = list(labels).count(-1)"
      ],
      "execution_count": 63,
      "outputs": []
    },
    {
      "cell_type": "code",
      "metadata": {
        "colab": {
          "base_uri": "https://localhost:8080/"
        },
        "id": "9xictESJw_Gu",
        "outputId": "8fa9bf77-b447-477c-d56e-6167ea18b70f"
      },
      "source": [
        "labels_true= dataset['Sno'].values\n",
        "print('Estimated number of clusters: %d' % n_clusters_)\n",
        "print('Estimated number of noise points: %d' % n_noise_)\n",
        "print(\"Homogeneity: %0.3f\" % metrics.homogeneity_score(labels_true, labels))\n",
        "print(\"Completeness: %0.3f\" % metrics.completeness_score(labels_true, labels))\n",
        "print(\"V-measure: %0.3f\" % metrics.v_measure_score(labels_true, labels))\n",
        "print(\"Adjusted Rand Index: %0.3f\"\n",
        "      % metrics.adjusted_rand_score(labels_true, labels))\n",
        "print(\"Adjusted Mutual Information: %0.3f\"\n",
        "      % metrics.adjusted_mutual_info_score(labels_true, labels))\n",
        "print(\"Silhouette Coefficient: %0.3f\"\n",
        "      % metrics.silhouette_score(X, labels))\n"
      ],
      "execution_count": 64,
      "outputs": [
        {
          "output_type": "stream",
          "name": "stdout",
          "text": [
            "Estimated number of clusters: 1\n",
            "Estimated number of noise points: 1\n",
            "Homogeneity: 0.035\n",
            "Completeness: 1.000\n",
            "V-measure: 0.068\n",
            "Adjusted Rand Index: 0.000\n",
            "Adjusted Mutual Information: 0.000\n",
            "Silhouette Coefficient: 0.959\n"
          ]
        }
      ]
    },
    {
      "cell_type": "code",
      "metadata": {
        "id": "AyAxN9tEgYzq"
      },
      "source": [
        "\n",
        "import keras\n",
        "from keras.layers import Dense\n",
        "from keras.layers import LSTM\n",
        "from keras.layers import Dropout\n",
        "import pandas as pd \n",
        "import pandas_datareader.data as web\n",
        "import datetime\n",
        "import numpy as np \n",
        "from matplotlib import style\n",
        "\n",
        "# ignore warnings \n",
        "import warnings\n",
        "warnings.filterwarnings('ignore')"
      ],
      "execution_count": 65,
      "outputs": []
    },
    {
      "cell_type": "code",
      "metadata": {
        "colab": {
          "base_uri": "https://localhost:8080/",
          "height": 417
        },
        "id": "fr5v8kOBgao9",
        "outputId": "b3866d2e-2da2-4554-9fb6-c501984793c8"
      },
      "source": [
        "pd.read_csv('/content/newcsv.csv')"
      ],
      "execution_count": 66,
      "outputs": [
        {
          "output_type": "execute_result",
          "data": {
            "text/html": [
              "<div>\n",
              "<style scoped>\n",
              "    .dataframe tbody tr th:only-of-type {\n",
              "        vertical-align: middle;\n",
              "    }\n",
              "\n",
              "    .dataframe tbody tr th {\n",
              "        vertical-align: top;\n",
              "    }\n",
              "\n",
              "    .dataframe thead th {\n",
              "        text-align: right;\n",
              "    }\n",
              "</style>\n",
              "<table border=\"1\" class=\"dataframe\">\n",
              "  <thead>\n",
              "    <tr style=\"text-align: right;\">\n",
              "      <th></th>\n",
              "      <th>Unnamed: 0</th>\n",
              "      <th>sno</th>\n",
              "      <th>Dates</th>\n",
              "      <th>Current</th>\n",
              "      <th>Temporal</th>\n",
              "      <th>Spatial</th>\n",
              "      <th>Derived</th>\n",
              "    </tr>\n",
              "  </thead>\n",
              "  <tbody>\n",
              "    <tr>\n",
              "      <th>0</th>\n",
              "      <td>0</td>\n",
              "      <td>1</td>\n",
              "      <td>4/26/2020</td>\n",
              "      <td>3</td>\n",
              "      <td>3.0</td>\n",
              "      <td>74.360000</td>\n",
              "      <td>3.922437</td>\n",
              "    </tr>\n",
              "    <tr>\n",
              "      <th>1</th>\n",
              "      <td>1</td>\n",
              "      <td>2</td>\n",
              "      <td>4/27/2020</td>\n",
              "      <td>3</td>\n",
              "      <td>3.0</td>\n",
              "      <td>76.692308</td>\n",
              "      <td>4.016444</td>\n",
              "    </tr>\n",
              "    <tr>\n",
              "      <th>2</th>\n",
              "      <td>2</td>\n",
              "      <td>3</td>\n",
              "      <td>4/28/2020</td>\n",
              "      <td>3</td>\n",
              "      <td>3.0</td>\n",
              "      <td>86.000000</td>\n",
              "      <td>4.391603</td>\n",
              "    </tr>\n",
              "    <tr>\n",
              "      <th>3</th>\n",
              "      <td>3</td>\n",
              "      <td>4</td>\n",
              "      <td>4/29/2020</td>\n",
              "      <td>3</td>\n",
              "      <td>3.0</td>\n",
              "      <td>88.423077</td>\n",
              "      <td>4.489269</td>\n",
              "    </tr>\n",
              "    <tr>\n",
              "      <th>4</th>\n",
              "      <td>4</td>\n",
              "      <td>5</td>\n",
              "      <td>4/30/2020</td>\n",
              "      <td>3</td>\n",
              "      <td>3.0</td>\n",
              "      <td>92.346154</td>\n",
              "      <td>4.647394</td>\n",
              "    </tr>\n",
              "    <tr>\n",
              "      <th>...</th>\n",
              "      <td>...</td>\n",
              "      <td>...</td>\n",
              "      <td>...</td>\n",
              "      <td>...</td>\n",
              "      <td>...</td>\n",
              "      <td>...</td>\n",
              "      <td>...</td>\n",
              "    </tr>\n",
              "    <tr>\n",
              "      <th>516</th>\n",
              "      <td>516</td>\n",
              "      <td>517</td>\n",
              "      <td>9/24/2021</td>\n",
              "      <td>66771</td>\n",
              "      <td>66676.2</td>\n",
              "      <td>174665.769200</td>\n",
              "      <td>27615.043904</td>\n",
              "    </tr>\n",
              "    <tr>\n",
              "      <th>517</th>\n",
              "      <td>517</td>\n",
              "      <td>518</td>\n",
              "      <td>9/25/2021</td>\n",
              "      <td>66838</td>\n",
              "      <td>66729.4</td>\n",
              "      <td>174754.538500</td>\n",
              "      <td>27636.591171</td>\n",
              "    </tr>\n",
              "    <tr>\n",
              "      <th>518</th>\n",
              "      <td>518</td>\n",
              "      <td>519</td>\n",
              "      <td>9/26/2021</td>\n",
              "      <td>66853</td>\n",
              "      <td>66773.8</td>\n",
              "      <td>174842.730800</td>\n",
              "      <td>27650.513132</td>\n",
              "    </tr>\n",
              "    <tr>\n",
              "      <th>519</th>\n",
              "      <td>519</td>\n",
              "      <td>520</td>\n",
              "      <td>9/27/2021</td>\n",
              "      <td>66868</td>\n",
              "      <td>66812.2</td>\n",
              "      <td>174716.038500</td>\n",
              "      <td>27654.602248</td>\n",
              "    </tr>\n",
              "    <tr>\n",
              "      <th>520</th>\n",
              "      <td>520</td>\n",
              "      <td>521</td>\n",
              "      <td>9/28/2021</td>\n",
              "      <td>66915</td>\n",
              "      <td>66849.0</td>\n",
              "      <td>174790.884600</td>\n",
              "      <td>27670.122927</td>\n",
              "    </tr>\n",
              "  </tbody>\n",
              "</table>\n",
              "<p>521 rows × 7 columns</p>\n",
              "</div>"
            ],
            "text/plain": [
              "     Unnamed: 0  sno      Dates  Current  Temporal        Spatial       Derived\n",
              "0             0    1  4/26/2020        3       3.0      74.360000      3.922437\n",
              "1             1    2  4/27/2020        3       3.0      76.692308      4.016444\n",
              "2             2    3  4/28/2020        3       3.0      86.000000      4.391603\n",
              "3             3    4  4/29/2020        3       3.0      88.423077      4.489269\n",
              "4             4    5  4/30/2020        3       3.0      92.346154      4.647394\n",
              "..          ...  ...        ...      ...       ...            ...           ...\n",
              "516         516  517  9/24/2021    66771   66676.2  174665.769200  27615.043904\n",
              "517         517  518  9/25/2021    66838   66729.4  174754.538500  27636.591171\n",
              "518         518  519  9/26/2021    66853   66773.8  174842.730800  27650.513132\n",
              "519         519  520  9/27/2021    66868   66812.2  174716.038500  27654.602248\n",
              "520         520  521  9/28/2021    66915   66849.0  174790.884600  27670.122927\n",
              "\n",
              "[521 rows x 7 columns]"
            ]
          },
          "metadata": {},
          "execution_count": 66
        }
      ]
    },
    {
      "cell_type": "code",
      "metadata": {
        "id": "cNxi81SHg1zx"
      },
      "source": [
        "dataset_osmanabad = pd.read_csv('/content/newcsv.csv')"
      ],
      "execution_count": 67,
      "outputs": []
    },
    {
      "cell_type": "code",
      "metadata": {
        "id": "WtsQ1RrfrtlX"
      },
      "source": [
        ""
      ],
      "execution_count": 67,
      "outputs": []
    },
    {
      "cell_type": "code",
      "metadata": {
        "colab": {
          "base_uri": "https://localhost:8080/",
          "height": 203
        },
        "id": "jwllJjfYhpcs",
        "outputId": "950101dd-eccd-4ca5-88f5-f050fc301b4c"
      },
      "source": [
        "dataset_osmanabad.head()"
      ],
      "execution_count": 68,
      "outputs": [
        {
          "output_type": "execute_result",
          "data": {
            "text/html": [
              "<div>\n",
              "<style scoped>\n",
              "    .dataframe tbody tr th:only-of-type {\n",
              "        vertical-align: middle;\n",
              "    }\n",
              "\n",
              "    .dataframe tbody tr th {\n",
              "        vertical-align: top;\n",
              "    }\n",
              "\n",
              "    .dataframe thead th {\n",
              "        text-align: right;\n",
              "    }\n",
              "</style>\n",
              "<table border=\"1\" class=\"dataframe\">\n",
              "  <thead>\n",
              "    <tr style=\"text-align: right;\">\n",
              "      <th></th>\n",
              "      <th>Unnamed: 0</th>\n",
              "      <th>sno</th>\n",
              "      <th>Dates</th>\n",
              "      <th>Current</th>\n",
              "      <th>Temporal</th>\n",
              "      <th>Spatial</th>\n",
              "      <th>Derived</th>\n",
              "    </tr>\n",
              "  </thead>\n",
              "  <tbody>\n",
              "    <tr>\n",
              "      <th>0</th>\n",
              "      <td>0</td>\n",
              "      <td>1</td>\n",
              "      <td>4/26/2020</td>\n",
              "      <td>3</td>\n",
              "      <td>3.0</td>\n",
              "      <td>74.360000</td>\n",
              "      <td>3.922437</td>\n",
              "    </tr>\n",
              "    <tr>\n",
              "      <th>1</th>\n",
              "      <td>1</td>\n",
              "      <td>2</td>\n",
              "      <td>4/27/2020</td>\n",
              "      <td>3</td>\n",
              "      <td>3.0</td>\n",
              "      <td>76.692308</td>\n",
              "      <td>4.016444</td>\n",
              "    </tr>\n",
              "    <tr>\n",
              "      <th>2</th>\n",
              "      <td>2</td>\n",
              "      <td>3</td>\n",
              "      <td>4/28/2020</td>\n",
              "      <td>3</td>\n",
              "      <td>3.0</td>\n",
              "      <td>86.000000</td>\n",
              "      <td>4.391603</td>\n",
              "    </tr>\n",
              "    <tr>\n",
              "      <th>3</th>\n",
              "      <td>3</td>\n",
              "      <td>4</td>\n",
              "      <td>4/29/2020</td>\n",
              "      <td>3</td>\n",
              "      <td>3.0</td>\n",
              "      <td>88.423077</td>\n",
              "      <td>4.489269</td>\n",
              "    </tr>\n",
              "    <tr>\n",
              "      <th>4</th>\n",
              "      <td>4</td>\n",
              "      <td>5</td>\n",
              "      <td>4/30/2020</td>\n",
              "      <td>3</td>\n",
              "      <td>3.0</td>\n",
              "      <td>92.346154</td>\n",
              "      <td>4.647394</td>\n",
              "    </tr>\n",
              "  </tbody>\n",
              "</table>\n",
              "</div>"
            ],
            "text/plain": [
              "   Unnamed: 0  sno      Dates  Current  Temporal    Spatial   Derived\n",
              "0           0    1  4/26/2020        3       3.0  74.360000  3.922437\n",
              "1           1    2  4/27/2020        3       3.0  76.692308  4.016444\n",
              "2           2    3  4/28/2020        3       3.0  86.000000  4.391603\n",
              "3           3    4  4/29/2020        3       3.0  88.423077  4.489269\n",
              "4           4    5  4/30/2020        3       3.0  92.346154  4.647394"
            ]
          },
          "metadata": {},
          "execution_count": 68
        }
      ]
    },
    {
      "cell_type": "code",
      "metadata": {
        "colab": {
          "base_uri": "https://localhost:8080/",
          "height": 396
        },
        "id": "TXpv5jW1i9a0",
        "outputId": "26c90684-2db1-474d-da98-9f6daf6b414f"
      },
      "source": [
        "# Visualize the data\n",
        "import matplotlib.pyplot as plt\n",
        "%matplotlib inline\n",
        "\n",
        "plt.figure(figsize = (12,6))\n",
        "plt.plot(dataset_osmanabad[\"Current\"])\n",
        "plt.xlabel('Dates',fontsize=15)\n",
        "plt.ylabel('Current data',fontsize=15)\n",
        "plt.show()\n",
        "\n",
        "\n",
        "# Rolling mean\n",
        "# close_px = df['Adj Close']\n",
        "# mavg = close_px.rolling(window=100).mean()\n",
        "\n",
        "# plt.figure(figsize = (12,6))\n",
        "# close_px.plot(label='TSLA')\n",
        "# mavg.plot(label='mavg')\n",
        "# plt.xlabel('Date')\n",
        "# plt.ylabel('Price')\n",
        "# plt.legend()"
      ],
      "execution_count": 69,
      "outputs": [
        {
          "output_type": "display_data",
          "data": {
            "image/png": "[encoded data removed]",
            "text/plain": [
              "<Figure size 864x432 with 1 Axes>"
            ]
          },
          "metadata": {
            "needs_background": "light"
          }
        }
      ]
    }
  ]
}